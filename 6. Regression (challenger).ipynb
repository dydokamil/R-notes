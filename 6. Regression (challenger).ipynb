{
 "cells": [
  {
   "cell_type": "code",
   "execution_count": 1,
   "metadata": {
    "collapsed": true
   },
   "outputs": [],
   "source": [
    "launch = read.csv('../../R_projects//MLwR/Machine Learning with R (2nd Ed.)//Chapter 06/challenger.csv')"
   ]
  },
  {
   "cell_type": "code",
   "execution_count": 2,
   "metadata": {
    "collapsed": true
   },
   "outputs": [],
   "source": [
    "b = cov(launch$temperature, launch$distress_ct) / var(launch$temperature)"
   ]
  },
  {
   "cell_type": "code",
   "execution_count": 3,
   "metadata": {},
   "outputs": [
    {
     "data": {
      "text/html": [
       "-0.0475396825396825"
      ],
      "text/latex": [
       "-0.0475396825396825"
      ],
      "text/markdown": [
       "-0.0475396825396825"
      ],
      "text/plain": [
       "[1] -0.04753968"
      ]
     },
     "metadata": {},
     "output_type": "display_data"
    }
   ],
   "source": [
    "b"
   ]
  },
  {
   "cell_type": "code",
   "execution_count": 4,
   "metadata": {
    "collapsed": true
   },
   "outputs": [],
   "source": [
    "a = mean(launch$distress_ct) - b * mean(launch$temperature)"
   ]
  },
  {
   "cell_type": "code",
   "execution_count": 5,
   "metadata": {},
   "outputs": [
    {
     "data": {
      "text/html": [
       "3.6984126984127"
      ],
      "text/latex": [
       "3.6984126984127"
      ],
      "text/markdown": [
       "3.6984126984127"
      ],
      "text/plain": [
       "[1] 3.698413"
      ]
     },
     "metadata": {},
     "output_type": "display_data"
    }
   ],
   "source": [
    "a"
   ]
  },
  {
   "cell_type": "code",
   "execution_count": 6,
   "metadata": {
    "collapsed": true
   },
   "outputs": [],
   "source": [
    "r = cov(launch$temperature, launch$distress_ct) / \n",
    "    (sd(launch$temperature) * sd(launch$distress_ct))"
   ]
  },
  {
   "cell_type": "code",
   "execution_count": 7,
   "metadata": {},
   "outputs": [
    {
     "data": {
      "text/html": [
       "-0.511126385574056"
      ],
      "text/latex": [
       "-0.511126385574056"
      ],
      "text/markdown": [
       "-0.511126385574056"
      ],
      "text/plain": [
       "[1] -0.5111264"
      ]
     },
     "metadata": {},
     "output_type": "display_data"
    }
   ],
   "source": [
    "r"
   ]
  },
  {
   "cell_type": "code",
   "execution_count": 8,
   "metadata": {},
   "outputs": [
    {
     "data": {
      "text/html": [
       "-0.511126385574056"
      ],
      "text/latex": [
       "-0.511126385574056"
      ],
      "text/markdown": [
       "-0.511126385574056"
      ],
      "text/plain": [
       "[1] -0.5111264"
      ]
     },
     "metadata": {},
     "output_type": "display_data"
    }
   ],
   "source": [
    "cor(launch$temperature, launch$distress_ct)"
   ]
  },
  {
   "cell_type": "code",
   "execution_count": 9,
   "metadata": {},
   "outputs": [
    {
     "data": {
      "text/html": [
       "-0.0475396825396825"
      ],
      "text/latex": [
       "-0.0475396825396825"
      ],
      "text/markdown": [
       "-0.0475396825396825"
      ],
      "text/plain": [
       "[1] -0.04753968"
      ]
     },
     "metadata": {},
     "output_type": "display_data"
    }
   ],
   "source": [
    "r * (sd(launch$distress_ct) / sd(launch$temperature))"
   ]
  },
  {
   "cell_type": "code",
   "execution_count": 10,
   "metadata": {
    "collapsed": true
   },
   "outputs": [],
   "source": [
    "model = lm(distress_ct ~ temperature, data = launch)"
   ]
  },
  {
   "cell_type": "code",
   "execution_count": 11,
   "metadata": {},
   "outputs": [
    {
     "data": {
      "text/plain": [
       "\n",
       "Call:\n",
       "lm(formula = distress_ct ~ temperature, data = launch)\n",
       "\n",
       "Coefficients:\n",
       "(Intercept)  temperature  \n",
       "    3.69841     -0.04754  \n"
      ]
     },
     "metadata": {},
     "output_type": "display_data"
    }
   ],
   "source": [
    "model"
   ]
  },
  {
   "cell_type": "code",
   "execution_count": 12,
   "metadata": {},
   "outputs": [
    {
     "data": {
      "text/plain": [
       "\n",
       "Call:\n",
       "lm(formula = distress_ct ~ temperature, data = launch)\n",
       "\n",
       "Residuals:\n",
       "    Min      1Q  Median      3Q     Max \n",
       "-0.5608 -0.3944 -0.0854  0.1056  1.8671 \n",
       "\n",
       "Coefficients:\n",
       "            Estimate Std. Error t value Pr(>|t|)   \n",
       "(Intercept)  3.69841    1.21951   3.033  0.00633 **\n",
       "temperature -0.04754    0.01744  -2.725  0.01268 * \n",
       "---\n",
       "Signif. codes:  0 ‘***’ 0.001 ‘**’ 0.01 ‘*’ 0.05 ‘.’ 0.1 ‘ ’ 1\n",
       "\n",
       "Residual standard error: 0.5774 on 21 degrees of freedom\n",
       "Multiple R-squared:  0.2613,\tAdjusted R-squared:  0.2261 \n",
       "F-statistic: 7.426 on 1 and 21 DF,  p-value: 0.01268\n"
      ]
     },
     "metadata": {},
     "output_type": "display_data"
    }
   ],
   "source": [
    "summary(model)"
   ]
  },
  {
   "cell_type": "code",
   "execution_count": 13,
   "metadata": {
    "collapsed": true
   },
   "outputs": [],
   "source": [
    "reg = function(y, x) {\n",
    "    x = as.matrix(x)\n",
    "    x = cbind(Intercept = 1, x)\n",
    "    b = solve(t(x) %*% x) %*% t(x) %*% y\n",
    "    colnames(b) = 'estimate'\n",
    "    print(b)\n",
    "}"
   ]
  },
  {
   "cell_type": "code",
   "execution_count": 14,
   "metadata": {},
   "outputs": [
    {
     "name": "stdout",
     "output_type": "stream",
     "text": [
      "'data.frame':\t23 obs. of  4 variables:\n",
      " $ distress_ct         : int  0 1 0 0 0 0 0 0 1 1 ...\n",
      " $ temperature         : int  66 70 69 68 67 72 73 70 57 63 ...\n",
      " $ field_check_pressure: int  50 50 50 50 50 50 100 100 200 200 ...\n",
      " $ flight_num          : int  1 2 3 4 5 6 7 8 9 10 ...\n"
     ]
    }
   ],
   "source": [
    "str(launch)"
   ]
  },
  {
   "cell_type": "code",
   "execution_count": 15,
   "metadata": {},
   "outputs": [
    {
     "name": "stdout",
     "output_type": "stream",
     "text": [
      "               estimate\n",
      "Intercept    3.69841270\n",
      "temperature -0.04753968\n"
     ]
    }
   ],
   "source": [
    "reg(y = launch$distress_ct, x = launch[2])"
   ]
  },
  {
   "cell_type": "code",
   "execution_count": 16,
   "metadata": {},
   "outputs": [
    {
     "name": "stdout",
     "output_type": "stream",
     "text": [
      "                         estimate\n",
      "Intercept             3.527093383\n",
      "temperature          -0.051385940\n",
      "field_check_pressure  0.001757009\n",
      "flight_num            0.014292843\n"
     ]
    }
   ],
   "source": [
    "reg(y = launch$distress_ct, x = launch[2:4])"
   ]
  },
  {
   "cell_type": "code",
   "execution_count": 21,
   "metadata": {},
   "outputs": [],
   "source": [
    "model = lm(distress_ct ~ temperature \n",
    "           + field_check_pressure \n",
    "           + flight_num, \n",
    "           data=launch)"
   ]
  },
  {
   "cell_type": "code",
   "execution_count": 22,
   "metadata": {},
   "outputs": [
    {
     "data": {
      "text/plain": [
       "\n",
       "Call:\n",
       "lm(formula = distress_ct ~ temperature + field_check_pressure + \n",
       "    flight_num, data = launch)\n",
       "\n",
       "Coefficients:\n",
       "         (Intercept)           temperature  field_check_pressure  \n",
       "            3.527093             -0.051386              0.001757  \n",
       "          flight_num  \n",
       "            0.014293  \n"
      ]
     },
     "metadata": {},
     "output_type": "display_data"
    }
   ],
   "source": [
    "model"
   ]
  },
  {
   "cell_type": "code",
   "execution_count": null,
   "metadata": {
    "collapsed": true
   },
   "outputs": [],
   "source": []
  }
 ],
 "metadata": {
  "kernelspec": {
   "display_name": "R",
   "language": "R",
   "name": "ir"
  },
  "language_info": {
   "codemirror_mode": "r",
   "file_extension": ".r",
   "mimetype": "text/x-r-source",
   "name": "R",
   "pygments_lexer": "r",
   "version": "3.4.0"
  }
 },
 "nbformat": 4,
 "nbformat_minor": 2
}
