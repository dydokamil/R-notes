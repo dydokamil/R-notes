{
 "cells": [
  {
   "cell_type": "code",
   "execution_count": 2,
   "metadata": {
    "collapsed": true
   },
   "outputs": [],
   "source": [
    "subject_name = c(\"John Doe\", \"Jane Doe\", \"Steve Graves\")\n",
    "temperature = c(98.1, 98.6, 101.4)\n",
    "flu_status = c(FALSE, FALSE, TRUE)"
   ]
  },
  {
   "cell_type": "code",
   "execution_count": 3,
   "metadata": {},
   "outputs": [
    {
     "data": {
      "text/html": [
       "98.6"
      ],
      "text/latex": [
       "98.6"
      ],
      "text/markdown": [
       "98.6"
      ],
      "text/plain": [
       "[1] 98.6"
      ]
     },
     "metadata": {},
     "output_type": "display_data"
    }
   ],
   "source": [
    "temperature[2]"
   ]
  },
  {
   "cell_type": "code",
   "execution_count": 4,
   "metadata": {},
   "outputs": [
    {
     "data": {
      "text/html": [
       "<ol class=list-inline>\n",
       "\t<li>98.6</li>\n",
       "\t<li>101.4</li>\n",
       "</ol>\n"
      ],
      "text/latex": [
       "\\begin{enumerate*}\n",
       "\\item 98.6\n",
       "\\item 101.4\n",
       "\\end{enumerate*}\n"
      ],
      "text/markdown": [
       "1. 98.6\n",
       "2. 101.4\n",
       "\n",
       "\n"
      ],
      "text/plain": [
       "[1]  98.6 101.4"
      ]
     },
     "metadata": {},
     "output_type": "display_data"
    }
   ],
   "source": [
    "temperature[2:3]"
   ]
  },
  {
   "cell_type": "code",
   "execution_count": 5,
   "metadata": {},
   "outputs": [
    {
     "data": {
      "text/html": [
       "<ol class=list-inline>\n",
       "\t<li>98.1</li>\n",
       "\t<li>101.4</li>\n",
       "</ol>\n"
      ],
      "text/latex": [
       "\\begin{enumerate*}\n",
       "\\item 98.1\n",
       "\\item 101.4\n",
       "\\end{enumerate*}\n"
      ],
      "text/markdown": [
       "1. 98.1\n",
       "2. 101.4\n",
       "\n",
       "\n"
      ],
      "text/plain": [
       "[1]  98.1 101.4"
      ]
     },
     "metadata": {},
     "output_type": "display_data"
    }
   ],
   "source": [
    "temperature[-2]"
   ]
  },
  {
   "cell_type": "code",
   "execution_count": 6,
   "metadata": {},
   "outputs": [
    {
     "data": {
      "text/html": [
       "<ol class=list-inline>\n",
       "\t<li>98.1</li>\n",
       "\t<li>98.6</li>\n",
       "</ol>\n"
      ],
      "text/latex": [
       "\\begin{enumerate*}\n",
       "\\item 98.1\n",
       "\\item 98.6\n",
       "\\end{enumerate*}\n"
      ],
      "text/markdown": [
       "1. 98.1\n",
       "2. 98.6\n",
       "\n",
       "\n"
      ],
      "text/plain": [
       "[1] 98.1 98.6"
      ]
     },
     "metadata": {},
     "output_type": "display_data"
    }
   ],
   "source": [
    "temperature[c(TRUE, TRUE, FALSE)]"
   ]
  },
  {
   "cell_type": "code",
   "execution_count": 7,
   "metadata": {
    "collapsed": true
   },
   "outputs": [],
   "source": [
    "gender = factor(c(\"MALE\", \"FEMALE\", \"MALE\"))"
   ]
  },
  {
   "cell_type": "code",
   "execution_count": 8,
   "metadata": {},
   "outputs": [
    {
     "data": {
      "text/html": [
       "<ol class=list-inline>\n",
       "\t<li>MALE</li>\n",
       "\t<li>FEMALE</li>\n",
       "\t<li>MALE</li>\n",
       "</ol>\n"
      ],
      "text/latex": [
       "\\begin{enumerate*}\n",
       "\\item MALE\n",
       "\\item FEMALE\n",
       "\\item MALE\n",
       "\\end{enumerate*}\n"
      ],
      "text/markdown": [
       "1. MALE\n",
       "2. FEMALE\n",
       "3. MALE\n",
       "\n",
       "\n"
      ],
      "text/plain": [
       "[1] MALE   FEMALE MALE  \n",
       "Levels: FEMALE MALE"
      ]
     },
     "metadata": {},
     "output_type": "display_data"
    }
   ],
   "source": [
    "gender"
   ]
  },
  {
   "cell_type": "code",
   "execution_count": 11,
   "metadata": {
    "collapsed": true
   },
   "outputs": [],
   "source": [
    "blood = factor(c('O', 'AB', 'A'), levels = c('A', 'B', 'AB', 'O'))"
   ]
  },
  {
   "cell_type": "code",
   "execution_count": 12,
   "metadata": {},
   "outputs": [
    {
     "data": {
      "text/html": [
       "<ol class=list-inline>\n",
       "\t<li>O</li>\n",
       "\t<li>AB</li>\n",
       "\t<li>A</li>\n",
       "</ol>\n"
      ],
      "text/latex": [
       "\\begin{enumerate*}\n",
       "\\item O\n",
       "\\item AB\n",
       "\\item A\n",
       "\\end{enumerate*}\n"
      ],
      "text/markdown": [
       "1. O\n",
       "2. AB\n",
       "3. A\n",
       "\n",
       "\n"
      ],
      "text/plain": [
       "[1] O  AB A \n",
       "Levels: A B AB O"
      ]
     },
     "metadata": {},
     "output_type": "display_data"
    }
   ],
   "source": [
    "blood"
   ]
  },
  {
   "cell_type": "code",
   "execution_count": 13,
   "metadata": {
    "collapsed": true
   },
   "outputs": [],
   "source": [
    "symptoms = factor(c(\"SEVERE\", \"MILD\", \"MODERATE\"), levels=c(\"MILD\", \"MODERATE\", \"SEVERE\"),\n",
    "                 ordered=TRUE)"
   ]
  },
  {
   "cell_type": "code",
   "execution_count": 14,
   "metadata": {},
   "outputs": [
    {
     "data": {
      "text/html": [
       "<ol class=list-inline>\n",
       "\t<li>SEVERE</li>\n",
       "\t<li>MILD</li>\n",
       "\t<li>MODERATE</li>\n",
       "</ol>\n"
      ],
      "text/latex": [
       "\\begin{enumerate*}\n",
       "\\item SEVERE\n",
       "\\item MILD\n",
       "\\item MODERATE\n",
       "\\end{enumerate*}\n"
      ],
      "text/markdown": [
       "1. SEVERE\n",
       "2. MILD\n",
       "3. MODERATE\n",
       "\n",
       "\n"
      ],
      "text/plain": [
       "[1] SEVERE   MILD     MODERATE\n",
       "Levels: MILD < MODERATE < SEVERE"
      ]
     },
     "metadata": {},
     "output_type": "display_data"
    }
   ],
   "source": [
    "symptoms"
   ]
  },
  {
   "cell_type": "code",
   "execution_count": 15,
   "metadata": {},
   "outputs": [
    {
     "data": {
      "text/html": [
       "<ol class=list-inline>\n",
       "\t<li>TRUE</li>\n",
       "\t<li>FALSE</li>\n",
       "\t<li>FALSE</li>\n",
       "</ol>\n"
      ],
      "text/latex": [
       "\\begin{enumerate*}\n",
       "\\item TRUE\n",
       "\\item FALSE\n",
       "\\item FALSE\n",
       "\\end{enumerate*}\n"
      ],
      "text/markdown": [
       "1. TRUE\n",
       "2. FALSE\n",
       "3. FALSE\n",
       "\n",
       "\n"
      ],
      "text/plain": [
       "[1]  TRUE FALSE FALSE"
      ]
     },
     "metadata": {},
     "output_type": "display_data"
    }
   ],
   "source": [
    "symptoms > \"MODERATE\""
   ]
  },
  {
   "cell_type": "code",
   "execution_count": 16,
   "metadata": {},
   "outputs": [
    {
     "data": {
      "text/html": [
       "'John Doe'"
      ],
      "text/latex": [
       "'John Doe'"
      ],
      "text/markdown": [
       "'John Doe'"
      ],
      "text/plain": [
       "[1] \"John Doe\""
      ]
     },
     "metadata": {},
     "output_type": "display_data"
    }
   ],
   "source": [
    "subject_name[1]"
   ]
  },
  {
   "cell_type": "code",
   "execution_count": 18,
   "metadata": {},
   "outputs": [
    {
     "data": {
      "text/html": [
       "98.1"
      ],
      "text/latex": [
       "98.1"
      ],
      "text/markdown": [
       "98.1"
      ],
      "text/plain": [
       "[1] 98.1"
      ]
     },
     "metadata": {},
     "output_type": "display_data"
    }
   ],
   "source": [
    "temperature[1]"
   ]
  },
  {
   "cell_type": "code",
   "execution_count": 19,
   "metadata": {},
   "outputs": [
    {
     "data": {
      "text/html": [
       "FALSE"
      ],
      "text/latex": [
       "FALSE"
      ],
      "text/markdown": [
       "FALSE"
      ],
      "text/plain": [
       "[1] FALSE"
      ]
     },
     "metadata": {},
     "output_type": "display_data"
    }
   ],
   "source": [
    "flu_status[1]"
   ]
  },
  {
   "cell_type": "code",
   "execution_count": 20,
   "metadata": {},
   "outputs": [
    {
     "data": {
      "text/html": [
       "MALE"
      ],
      "text/latex": [
       "MALE"
      ],
      "text/markdown": [
       "MALE"
      ],
      "text/plain": [
       "[1] MALE\n",
       "Levels: FEMALE MALE"
      ]
     },
     "metadata": {},
     "output_type": "display_data"
    }
   ],
   "source": [
    "gender[1]"
   ]
  },
  {
   "cell_type": "code",
   "execution_count": 21,
   "metadata": {},
   "outputs": [
    {
     "data": {
      "text/html": [
       "O"
      ],
      "text/latex": [
       "O"
      ],
      "text/markdown": [
       "O"
      ],
      "text/plain": [
       "[1] O\n",
       "Levels: A B AB O"
      ]
     },
     "metadata": {},
     "output_type": "display_data"
    }
   ],
   "source": [
    "blood[1]"
   ]
  },
  {
   "cell_type": "code",
   "execution_count": 22,
   "metadata": {},
   "outputs": [
    {
     "data": {
      "text/html": [
       "SEVERE"
      ],
      "text/latex": [
       "SEVERE"
      ],
      "text/markdown": [
       "SEVERE"
      ],
      "text/plain": [
       "[1] SEVERE\n",
       "Levels: MILD < MODERATE < SEVERE"
      ]
     },
     "metadata": {},
     "output_type": "display_data"
    }
   ],
   "source": [
    "symptoms[1]"
   ]
  },
  {
   "cell_type": "code",
   "execution_count": 24,
   "metadata": {},
   "outputs": [],
   "source": [
    "subject1 = list(fullname=subject_name[1],\n",
    "               temperature=temperature[1],\n",
    "               flu_status=flu_status[1],\n",
    "               gender=gender[1],\n",
    "               blood=blood[1],\n",
    "               symptoms=symptoms[1])"
   ]
  },
  {
   "cell_type": "code",
   "execution_count": 25,
   "metadata": {},
   "outputs": [
    {
     "data": {
      "text/html": [
       "<dl>\n",
       "\t<dt>$fullname</dt>\n",
       "\t\t<dd>'John Doe'</dd>\n",
       "\t<dt>$temperature</dt>\n",
       "\t\t<dd>98.1</dd>\n",
       "\t<dt>$flu_status</dt>\n",
       "\t\t<dd>FALSE</dd>\n",
       "\t<dt>$gender</dt>\n",
       "\t\t<dd>MALE</dd>\n",
       "\t<dt>$blood</dt>\n",
       "\t\t<dd>O</dd>\n",
       "\t<dt>$symptoms</dt>\n",
       "\t\t<dd>SEVERE</dd>\n",
       "</dl>\n"
      ],
      "text/latex": [
       "\\begin{description}\n",
       "\\item[\\$fullname] 'John Doe'\n",
       "\\item[\\$temperature] 98.1\n",
       "\\item[\\$flu\\_status] FALSE\n",
       "\\item[\\$gender] MALE\n",
       "\\item[\\$blood] O\n",
       "\\item[\\$symptoms] SEVERE\n",
       "\\end{description}\n"
      ],
      "text/markdown": [
       "$fullname\n",
       ":   'John Doe'\n",
       "$temperature\n",
       ":   98.1\n",
       "$flu_status\n",
       ":   FALSE\n",
       "$gender\n",
       ":   MALE\n",
       "$blood\n",
       ":   O\n",
       "$symptoms\n",
       ":   SEVERE\n",
       "\n",
       "\n"
      ],
      "text/plain": [
       "$fullname\n",
       "[1] \"John Doe\"\n",
       "\n",
       "$temperature\n",
       "[1] 98.1\n",
       "\n",
       "$flu_status\n",
       "[1] FALSE\n",
       "\n",
       "$gender\n",
       "[1] MALE\n",
       "Levels: FEMALE MALE\n",
       "\n",
       "$blood\n",
       "[1] O\n",
       "Levels: A B AB O\n",
       "\n",
       "$symptoms\n",
       "[1] SEVERE\n",
       "Levels: MILD < MODERATE < SEVERE\n"
      ]
     },
     "metadata": {},
     "output_type": "display_data"
    }
   ],
   "source": [
    "subject1"
   ]
  },
  {
   "cell_type": "code",
   "execution_count": 26,
   "metadata": {},
   "outputs": [
    {
     "data": {
      "text/html": [
       "<strong>$temperature</strong> = 98.1"
      ],
      "text/latex": [
       "\\textbf{\\$temperature} = 98.1"
      ],
      "text/markdown": [
       "**$temperature** = 98.1"
      ],
      "text/plain": [
       "$temperature\n",
       "[1] 98.1\n"
      ]
     },
     "metadata": {},
     "output_type": "display_data"
    }
   ],
   "source": [
    "subject1[2]"
   ]
  },
  {
   "cell_type": "code",
   "execution_count": 27,
   "metadata": {},
   "outputs": [
    {
     "data": {
      "text/html": [
       "98.1"
      ],
      "text/latex": [
       "98.1"
      ],
      "text/markdown": [
       "98.1"
      ],
      "text/plain": [
       "[1] 98.1"
      ]
     },
     "metadata": {},
     "output_type": "display_data"
    }
   ],
   "source": [
    "subject1$temperature"
   ]
  },
  {
   "cell_type": "code",
   "execution_count": 28,
   "metadata": {},
   "outputs": [
    {
     "data": {
      "text/html": [
       "<dl>\n",
       "\t<dt>$temperature</dt>\n",
       "\t\t<dd>98.1</dd>\n",
       "\t<dt>$flu_status</dt>\n",
       "\t\t<dd>FALSE</dd>\n",
       "</dl>\n"
      ],
      "text/latex": [
       "\\begin{description}\n",
       "\\item[\\$temperature] 98.1\n",
       "\\item[\\$flu\\_status] FALSE\n",
       "\\end{description}\n"
      ],
      "text/markdown": [
       "$temperature\n",
       ":   98.1\n",
       "$flu_status\n",
       ":   FALSE\n",
       "\n",
       "\n"
      ],
      "text/plain": [
       "$temperature\n",
       "[1] 98.1\n",
       "\n",
       "$flu_status\n",
       "[1] FALSE\n"
      ]
     },
     "metadata": {},
     "output_type": "display_data"
    }
   ],
   "source": [
    "subject1[c('temperature', 'flu_status')]"
   ]
  },
  {
   "cell_type": "code",
   "execution_count": 29,
   "metadata": {},
   "outputs": [
    {
     "data": {
      "text/html": [
       "<dl>\n",
       "\t<dt>$temperature</dt>\n",
       "\t\t<dd>98.1</dd>\n",
       "\t<dt>$flu_status</dt>\n",
       "\t\t<dd>FALSE</dd>\n",
       "</dl>\n"
      ],
      "text/latex": [
       "\\begin{description}\n",
       "\\item[\\$temperature] 98.1\n",
       "\\item[\\$flu\\_status] FALSE\n",
       "\\end{description}\n"
      ],
      "text/markdown": [
       "$temperature\n",
       ":   98.1\n",
       "$flu_status\n",
       ":   FALSE\n",
       "\n",
       "\n"
      ],
      "text/plain": [
       "$temperature\n",
       "[1] 98.1\n",
       "\n",
       "$flu_status\n",
       "[1] FALSE\n"
      ]
     },
     "metadata": {},
     "output_type": "display_data"
    }
   ],
   "source": [
    "subject1[2:3]"
   ]
  },
  {
   "cell_type": "code",
   "execution_count": 30,
   "metadata": {
    "collapsed": true
   },
   "outputs": [],
   "source": [
    "pt_data = data.frame(subject_name, temperature, flu_status, gender, \n",
    "                     blood, symptoms, stringsAsFactors = FALSE)"
   ]
  },
  {
   "cell_type": "code",
   "execution_count": 31,
   "metadata": {},
   "outputs": [
    {
     "data": {
      "text/html": [
       "<table>\n",
       "<thead><tr><th scope=col>subject_name</th><th scope=col>temperature</th><th scope=col>flu_status</th><th scope=col>gender</th><th scope=col>blood</th><th scope=col>symptoms</th></tr></thead>\n",
       "<tbody>\n",
       "\t<tr><td>John Doe    </td><td> 98.1       </td><td>FALSE       </td><td>MALE        </td><td>O           </td><td>SEVERE      </td></tr>\n",
       "\t<tr><td>Jane Doe    </td><td> 98.6       </td><td>FALSE       </td><td>FEMALE      </td><td>AB          </td><td>MILD        </td></tr>\n",
       "\t<tr><td>Steve Graves</td><td>101.4       </td><td> TRUE       </td><td>MALE        </td><td>A           </td><td>MODERATE    </td></tr>\n",
       "</tbody>\n",
       "</table>\n"
      ],
      "text/latex": [
       "\\begin{tabular}{r|llllll}\n",
       " subject\\_name & temperature & flu\\_status & gender & blood & symptoms\\\\\n",
       "\\hline\n",
       "\t John Doe     &  98.1        & FALSE        & MALE         & O            & SEVERE      \\\\\n",
       "\t Jane Doe     &  98.6        & FALSE        & FEMALE       & AB           & MILD        \\\\\n",
       "\t Steve Graves & 101.4        &  TRUE        & MALE         & A            & MODERATE    \\\\\n",
       "\\end{tabular}\n"
      ],
      "text/markdown": [
       "\n",
       "subject_name | temperature | flu_status | gender | blood | symptoms | \n",
       "|---|---|---|\n",
       "| John Doe     |  98.1        | FALSE        | MALE         | O            | SEVERE       | \n",
       "| Jane Doe     |  98.6        | FALSE        | FEMALE       | AB           | MILD         | \n",
       "| Steve Graves | 101.4        |  TRUE        | MALE         | A            | MODERATE     | \n",
       "\n",
       "\n"
      ],
      "text/plain": [
       "  subject_name temperature flu_status gender blood symptoms\n",
       "1 John Doe      98.1       FALSE      MALE   O     SEVERE  \n",
       "2 Jane Doe      98.6       FALSE      FEMALE AB    MILD    \n",
       "3 Steve Graves 101.4        TRUE      MALE   A     MODERATE"
      ]
     },
     "metadata": {},
     "output_type": "display_data"
    }
   ],
   "source": [
    "pt_data"
   ]
  },
  {
   "cell_type": "code",
   "execution_count": 32,
   "metadata": {},
   "outputs": [
    {
     "data": {
      "text/html": [
       "<ol class=list-inline>\n",
       "\t<li>'John Doe'</li>\n",
       "\t<li>'Jane Doe'</li>\n",
       "\t<li>'Steve Graves'</li>\n",
       "</ol>\n"
      ],
      "text/latex": [
       "\\begin{enumerate*}\n",
       "\\item 'John Doe'\n",
       "\\item 'Jane Doe'\n",
       "\\item 'Steve Graves'\n",
       "\\end{enumerate*}\n"
      ],
      "text/markdown": [
       "1. 'John Doe'\n",
       "2. 'Jane Doe'\n",
       "3. 'Steve Graves'\n",
       "\n",
       "\n"
      ],
      "text/plain": [
       "[1] \"John Doe\"     \"Jane Doe\"     \"Steve Graves\""
      ]
     },
     "metadata": {},
     "output_type": "display_data"
    }
   ],
   "source": [
    "pt_data$subject_name"
   ]
  },
  {
   "cell_type": "code",
   "execution_count": 33,
   "metadata": {},
   "outputs": [
    {
     "data": {
      "text/html": [
       "<table>\n",
       "<thead><tr><th scope=col>temperature</th><th scope=col>flu_status</th></tr></thead>\n",
       "<tbody>\n",
       "\t<tr><td> 98.1</td><td>FALSE</td></tr>\n",
       "\t<tr><td> 98.6</td><td>FALSE</td></tr>\n",
       "\t<tr><td>101.4</td><td> TRUE</td></tr>\n",
       "</tbody>\n",
       "</table>\n"
      ],
      "text/latex": [
       "\\begin{tabular}{r|ll}\n",
       " temperature & flu\\_status\\\\\n",
       "\\hline\n",
       "\t  98.1 & FALSE\\\\\n",
       "\t  98.6 & FALSE\\\\\n",
       "\t 101.4 &  TRUE\\\\\n",
       "\\end{tabular}\n"
      ],
      "text/markdown": [
       "\n",
       "temperature | flu_status | \n",
       "|---|---|---|\n",
       "|  98.1 | FALSE | \n",
       "|  98.6 | FALSE | \n",
       "| 101.4 |  TRUE | \n",
       "\n",
       "\n"
      ],
      "text/plain": [
       "  temperature flu_status\n",
       "1  98.1       FALSE     \n",
       "2  98.6       FALSE     \n",
       "3 101.4        TRUE     "
      ]
     },
     "metadata": {},
     "output_type": "display_data"
    }
   ],
   "source": [
    "pt_data[c('temperature', 'flu_status')]"
   ]
  },
  {
   "cell_type": "code",
   "execution_count": 34,
   "metadata": {},
   "outputs": [
    {
     "data": {
      "text/html": [
       "<table>\n",
       "<thead><tr><th scope=col>temperature</th><th scope=col>flu_status</th></tr></thead>\n",
       "<tbody>\n",
       "\t<tr><td> 98.1</td><td>FALSE</td></tr>\n",
       "\t<tr><td> 98.6</td><td>FALSE</td></tr>\n",
       "\t<tr><td>101.4</td><td> TRUE</td></tr>\n",
       "</tbody>\n",
       "</table>\n"
      ],
      "text/latex": [
       "\\begin{tabular}{r|ll}\n",
       " temperature & flu\\_status\\\\\n",
       "\\hline\n",
       "\t  98.1 & FALSE\\\\\n",
       "\t  98.6 & FALSE\\\\\n",
       "\t 101.4 &  TRUE\\\\\n",
       "\\end{tabular}\n"
      ],
      "text/markdown": [
       "\n",
       "temperature | flu_status | \n",
       "|---|---|---|\n",
       "|  98.1 | FALSE | \n",
       "|  98.6 | FALSE | \n",
       "| 101.4 |  TRUE | \n",
       "\n",
       "\n"
      ],
      "text/plain": [
       "  temperature flu_status\n",
       "1  98.1       FALSE     \n",
       "2  98.6       FALSE     \n",
       "3 101.4        TRUE     "
      ]
     },
     "metadata": {},
     "output_type": "display_data"
    }
   ],
   "source": [
    "pt_data[2:3]"
   ]
  },
  {
   "cell_type": "code",
   "execution_count": 35,
   "metadata": {},
   "outputs": [
    {
     "data": {
      "text/html": [
       "98.1"
      ],
      "text/latex": [
       "98.1"
      ],
      "text/markdown": [
       "98.1"
      ],
      "text/plain": [
       "[1] 98.1"
      ]
     },
     "metadata": {},
     "output_type": "display_data"
    }
   ],
   "source": [
    "pt_data[1,2]"
   ]
  },
  {
   "cell_type": "code",
   "execution_count": 36,
   "metadata": {},
   "outputs": [
    {
     "data": {
      "text/html": [
       "<table>\n",
       "<thead><tr><th></th><th scope=col>temperature</th><th scope=col>gender</th></tr></thead>\n",
       "<tbody>\n",
       "\t<tr><th scope=row>1</th><td> 98.1</td><td>MALE </td></tr>\n",
       "\t<tr><th scope=row>3</th><td>101.4</td><td>MALE </td></tr>\n",
       "</tbody>\n",
       "</table>\n"
      ],
      "text/latex": [
       "\\begin{tabular}{r|ll}\n",
       "  & temperature & gender\\\\\n",
       "\\hline\n",
       "\t1 &  98.1 & MALE \\\\\n",
       "\t3 & 101.4 & MALE \\\\\n",
       "\\end{tabular}\n"
      ],
      "text/markdown": [
       "\n",
       "| <!--/--> | temperature | gender | \n",
       "|---|---|\n",
       "| 1 |  98.1 | MALE  | \n",
       "| 3 | 101.4 | MALE  | \n",
       "\n",
       "\n"
      ],
      "text/plain": [
       "  temperature gender\n",
       "1  98.1       MALE  \n",
       "3 101.4       MALE  "
      ]
     },
     "metadata": {},
     "output_type": "display_data"
    }
   ],
   "source": [
    "pt_data[c(1,3), c(2,4)]"
   ]
  },
  {
   "cell_type": "code",
   "execution_count": 37,
   "metadata": {},
   "outputs": [
    {
     "data": {
      "text/html": [
       "<ol class=list-inline>\n",
       "\t<li>'John Doe'</li>\n",
       "\t<li>'Jane Doe'</li>\n",
       "\t<li>'Steve Graves'</li>\n",
       "</ol>\n"
      ],
      "text/latex": [
       "\\begin{enumerate*}\n",
       "\\item 'John Doe'\n",
       "\\item 'Jane Doe'\n",
       "\\item 'Steve Graves'\n",
       "\\end{enumerate*}\n"
      ],
      "text/markdown": [
       "1. 'John Doe'\n",
       "2. 'Jane Doe'\n",
       "3. 'Steve Graves'\n",
       "\n",
       "\n"
      ],
      "text/plain": [
       "[1] \"John Doe\"     \"Jane Doe\"     \"Steve Graves\""
      ]
     },
     "metadata": {},
     "output_type": "display_data"
    }
   ],
   "source": [
    "pt_data[, 1]"
   ]
  },
  {
   "cell_type": "code",
   "execution_count": 38,
   "metadata": {},
   "outputs": [
    {
     "data": {
      "text/html": [
       "<table>\n",
       "<thead><tr><th scope=col>subject_name</th><th scope=col>temperature</th><th scope=col>flu_status</th><th scope=col>gender</th><th scope=col>blood</th><th scope=col>symptoms</th></tr></thead>\n",
       "<tbody>\n",
       "\t<tr><td>John Doe</td><td>98.1    </td><td>FALSE   </td><td>MALE    </td><td>O       </td><td>SEVERE  </td></tr>\n",
       "</tbody>\n",
       "</table>\n"
      ],
      "text/latex": [
       "\\begin{tabular}{r|llllll}\n",
       " subject\\_name & temperature & flu\\_status & gender & blood & symptoms\\\\\n",
       "\\hline\n",
       "\t John Doe & 98.1     & FALSE    & MALE     & O        & SEVERE  \\\\\n",
       "\\end{tabular}\n"
      ],
      "text/markdown": [
       "\n",
       "subject_name | temperature | flu_status | gender | blood | symptoms | \n",
       "|---|\n",
       "| John Doe | 98.1     | FALSE    | MALE     | O        | SEVERE   | \n",
       "\n",
       "\n"
      ],
      "text/plain": [
       "  subject_name temperature flu_status gender blood symptoms\n",
       "1 John Doe     98.1        FALSE      MALE   O     SEVERE  "
      ]
     },
     "metadata": {},
     "output_type": "display_data"
    }
   ],
   "source": [
    "pt_data[1, ]"
   ]
  },
  {
   "cell_type": "code",
   "execution_count": 39,
   "metadata": {},
   "outputs": [
    {
     "data": {
      "text/html": [
       "<table>\n",
       "<thead><tr><th scope=col>subject_name</th><th scope=col>temperature</th><th scope=col>flu_status</th><th scope=col>gender</th><th scope=col>blood</th><th scope=col>symptoms</th></tr></thead>\n",
       "<tbody>\n",
       "\t<tr><td>John Doe    </td><td> 98.1       </td><td>FALSE       </td><td>MALE        </td><td>O           </td><td>SEVERE      </td></tr>\n",
       "\t<tr><td>Jane Doe    </td><td> 98.6       </td><td>FALSE       </td><td>FEMALE      </td><td>AB          </td><td>MILD        </td></tr>\n",
       "\t<tr><td>Steve Graves</td><td>101.4       </td><td> TRUE       </td><td>MALE        </td><td>A           </td><td>MODERATE    </td></tr>\n",
       "</tbody>\n",
       "</table>\n"
      ],
      "text/latex": [
       "\\begin{tabular}{r|llllll}\n",
       " subject\\_name & temperature & flu\\_status & gender & blood & symptoms\\\\\n",
       "\\hline\n",
       "\t John Doe     &  98.1        & FALSE        & MALE         & O            & SEVERE      \\\\\n",
       "\t Jane Doe     &  98.6        & FALSE        & FEMALE       & AB           & MILD        \\\\\n",
       "\t Steve Graves & 101.4        &  TRUE        & MALE         & A            & MODERATE    \\\\\n",
       "\\end{tabular}\n"
      ],
      "text/markdown": [
       "\n",
       "subject_name | temperature | flu_status | gender | blood | symptoms | \n",
       "|---|---|---|\n",
       "| John Doe     |  98.1        | FALSE        | MALE         | O            | SEVERE       | \n",
       "| Jane Doe     |  98.6        | FALSE        | FEMALE       | AB           | MILD         | \n",
       "| Steve Graves | 101.4        |  TRUE        | MALE         | A            | MODERATE     | \n",
       "\n",
       "\n"
      ],
      "text/plain": [
       "  subject_name temperature flu_status gender blood symptoms\n",
       "1 John Doe      98.1       FALSE      MALE   O     SEVERE  \n",
       "2 Jane Doe      98.6       FALSE      FEMALE AB    MILD    \n",
       "3 Steve Graves 101.4        TRUE      MALE   A     MODERATE"
      ]
     },
     "metadata": {},
     "output_type": "display_data"
    }
   ],
   "source": [
    "pt_data[,]"
   ]
  },
  {
   "cell_type": "code",
   "execution_count": 40,
   "metadata": {},
   "outputs": [
    {
     "data": {
      "text/html": [
       "<table>\n",
       "<thead><tr><th></th><th scope=col>temperature</th><th scope=col>gender</th></tr></thead>\n",
       "<tbody>\n",
       "\t<tr><th scope=row>1</th><td> 98.1</td><td>MALE </td></tr>\n",
       "\t<tr><th scope=row>3</th><td>101.4</td><td>MALE </td></tr>\n",
       "</tbody>\n",
       "</table>\n"
      ],
      "text/latex": [
       "\\begin{tabular}{r|ll}\n",
       "  & temperature & gender\\\\\n",
       "\\hline\n",
       "\t1 &  98.1 & MALE \\\\\n",
       "\t3 & 101.4 & MALE \\\\\n",
       "\\end{tabular}\n"
      ],
      "text/markdown": [
       "\n",
       "| <!--/--> | temperature | gender | \n",
       "|---|---|\n",
       "| 1 |  98.1 | MALE  | \n",
       "| 3 | 101.4 | MALE  | \n",
       "\n",
       "\n"
      ],
      "text/plain": [
       "  temperature gender\n",
       "1  98.1       MALE  \n",
       "3 101.4       MALE  "
      ]
     },
     "metadata": {},
     "output_type": "display_data"
    }
   ],
   "source": [
    "pt_data[c(1,3), c('temperature', 'gender')]"
   ]
  },
  {
   "cell_type": "code",
   "execution_count": 42,
   "metadata": {},
   "outputs": [
    {
     "data": {
      "text/html": [
       "<table>\n",
       "<thead><tr><th></th><th scope=col>temperature</th><th scope=col>gender</th></tr></thead>\n",
       "<tbody>\n",
       "\t<tr><th scope=row>1</th><td> 98.1</td><td>MALE </td></tr>\n",
       "\t<tr><th scope=row>3</th><td>101.4</td><td>MALE </td></tr>\n",
       "</tbody>\n",
       "</table>\n"
      ],
      "text/latex": [
       "\\begin{tabular}{r|ll}\n",
       "  & temperature & gender\\\\\n",
       "\\hline\n",
       "\t1 &  98.1 & MALE \\\\\n",
       "\t3 & 101.4 & MALE \\\\\n",
       "\\end{tabular}\n"
      ],
      "text/markdown": [
       "\n",
       "| <!--/--> | temperature | gender | \n",
       "|---|---|\n",
       "| 1 |  98.1 | MALE  | \n",
       "| 3 | 101.4 | MALE  | \n",
       "\n",
       "\n"
      ],
      "text/plain": [
       "  temperature gender\n",
       "1  98.1       MALE  \n",
       "3 101.4       MALE  "
      ]
     },
     "metadata": {},
     "output_type": "display_data"
    }
   ],
   "source": [
    "pt_data[-2, c(-1, -3, -5, -6)]"
   ]
  },
  {
   "cell_type": "code",
   "execution_count": 43,
   "metadata": {
    "collapsed": true
   },
   "outputs": [],
   "source": [
    "m = matrix(c(1, 2, 3, 4), nrow=2)"
   ]
  },
  {
   "cell_type": "code",
   "execution_count": 44,
   "metadata": {},
   "outputs": [
    {
     "data": {
      "text/html": [
       "<table>\n",
       "<tbody>\n",
       "\t<tr><td>1</td><td>3</td></tr>\n",
       "\t<tr><td>2</td><td>4</td></tr>\n",
       "</tbody>\n",
       "</table>\n"
      ],
      "text/latex": [
       "\\begin{tabular}{ll}\n",
       "\t 1 & 3\\\\\n",
       "\t 2 & 4\\\\\n",
       "\\end{tabular}\n"
      ],
      "text/markdown": [
       "\n",
       "| 1 | 3 | \n",
       "| 2 | 4 | \n",
       "\n",
       "\n"
      ],
      "text/plain": [
       "     [,1] [,2]\n",
       "[1,] 1    3   \n",
       "[2,] 2    4   "
      ]
     },
     "metadata": {},
     "output_type": "display_data"
    }
   ],
   "source": [
    "m"
   ]
  },
  {
   "cell_type": "code",
   "execution_count": 45,
   "metadata": {
    "collapsed": true
   },
   "outputs": [],
   "source": [
    "m = matrix(c(1,2,3,4), ncol=2)"
   ]
  },
  {
   "cell_type": "code",
   "execution_count": 46,
   "metadata": {},
   "outputs": [
    {
     "data": {
      "text/html": [
       "<table>\n",
       "<tbody>\n",
       "\t<tr><td>1</td><td>3</td></tr>\n",
       "\t<tr><td>2</td><td>4</td></tr>\n",
       "</tbody>\n",
       "</table>\n"
      ],
      "text/latex": [
       "\\begin{tabular}{ll}\n",
       "\t 1 & 3\\\\\n",
       "\t 2 & 4\\\\\n",
       "\\end{tabular}\n"
      ],
      "text/markdown": [
       "\n",
       "| 1 | 3 | \n",
       "| 2 | 4 | \n",
       "\n",
       "\n"
      ],
      "text/plain": [
       "     [,1] [,2]\n",
       "[1,] 1    3   \n",
       "[2,] 2    4   "
      ]
     },
     "metadata": {},
     "output_type": "display_data"
    }
   ],
   "source": [
    "m"
   ]
  },
  {
   "cell_type": "code",
   "execution_count": 49,
   "metadata": {},
   "outputs": [],
   "source": [
    "m = matrix(c(1, 2, 3, 4, 5, 6), nrow=2)"
   ]
  },
  {
   "cell_type": "code",
   "execution_count": 51,
   "metadata": {},
   "outputs": [
    {
     "data": {
      "text/html": [
       "<table>\n",
       "<tbody>\n",
       "\t<tr><td>1</td><td>4</td></tr>\n",
       "\t<tr><td>2</td><td>5</td></tr>\n",
       "\t<tr><td>3</td><td>6</td></tr>\n",
       "</tbody>\n",
       "</table>\n"
      ],
      "text/latex": [
       "\\begin{tabular}{ll}\n",
       "\t 1 & 4\\\\\n",
       "\t 2 & 5\\\\\n",
       "\t 3 & 6\\\\\n",
       "\\end{tabular}\n"
      ],
      "text/markdown": [
       "\n",
       "| 1 | 4 | \n",
       "| 2 | 5 | \n",
       "| 3 | 6 | \n",
       "\n",
       "\n"
      ],
      "text/plain": [
       "     [,1] [,2]\n",
       "[1,] 1    4   \n",
       "[2,] 2    5   \n",
       "[3,] 3    6   "
      ]
     },
     "metadata": {},
     "output_type": "display_data"
    }
   ],
   "source": [
    "m"
   ]
  },
  {
   "cell_type": "code",
   "execution_count": 53,
   "metadata": {},
   "outputs": [],
   "source": [
    "m = matrix(c(1, 2, 3, 4, 5, 6), ncol=2)"
   ]
  },
  {
   "cell_type": "code",
   "execution_count": 54,
   "metadata": {},
   "outputs": [
    {
     "data": {
      "text/html": [
       "<table>\n",
       "<tbody>\n",
       "\t<tr><td>1</td><td>4</td></tr>\n",
       "\t<tr><td>2</td><td>5</td></tr>\n",
       "\t<tr><td>3</td><td>6</td></tr>\n",
       "</tbody>\n",
       "</table>\n"
      ],
      "text/latex": [
       "\\begin{tabular}{ll}\n",
       "\t 1 & 4\\\\\n",
       "\t 2 & 5\\\\\n",
       "\t 3 & 6\\\\\n",
       "\\end{tabular}\n"
      ],
      "text/markdown": [
       "\n",
       "| 1 | 4 | \n",
       "| 2 | 5 | \n",
       "| 3 | 6 | \n",
       "\n",
       "\n"
      ],
      "text/plain": [
       "     [,1] [,2]\n",
       "[1,] 1    4   \n",
       "[2,] 2    5   \n",
       "[3,] 3    6   "
      ]
     },
     "metadata": {},
     "output_type": "display_data"
    }
   ],
   "source": [
    "m"
   ]
  },
  {
   "cell_type": "code",
   "execution_count": 55,
   "metadata": {},
   "outputs": [
    {
     "data": {
      "text/html": [
       "1"
      ],
      "text/latex": [
       "1"
      ],
      "text/markdown": [
       "1"
      ],
      "text/plain": [
       "[1] 1"
      ]
     },
     "metadata": {},
     "output_type": "display_data"
    }
   ],
   "source": [
    "m[1, 1]"
   ]
  },
  {
   "cell_type": "code",
   "execution_count": 56,
   "metadata": {},
   "outputs": [
    {
     "data": {
      "text/html": [
       "6"
      ],
      "text/latex": [
       "6"
      ],
      "text/markdown": [
       "6"
      ],
      "text/plain": [
       "[1] 6"
      ]
     },
     "metadata": {},
     "output_type": "display_data"
    }
   ],
   "source": [
    "m[3,2]"
   ]
  },
  {
   "cell_type": "code",
   "execution_count": 57,
   "metadata": {},
   "outputs": [
    {
     "data": {
      "text/html": [
       "<ol class=list-inline>\n",
       "\t<li>1</li>\n",
       "\t<li>4</li>\n",
       "</ol>\n"
      ],
      "text/latex": [
       "\\begin{enumerate*}\n",
       "\\item 1\n",
       "\\item 4\n",
       "\\end{enumerate*}\n"
      ],
      "text/markdown": [
       "1. 1\n",
       "2. 4\n",
       "\n",
       "\n"
      ],
      "text/plain": [
       "[1] 1 4"
      ]
     },
     "metadata": {},
     "output_type": "display_data"
    }
   ],
   "source": [
    "m[1,]"
   ]
  },
  {
   "cell_type": "code",
   "execution_count": 58,
   "metadata": {},
   "outputs": [
    {
     "data": {
      "text/html": [
       "<ol class=list-inline>\n",
       "\t<li>1</li>\n",
       "\t<li>2</li>\n",
       "\t<li>3</li>\n",
       "</ol>\n"
      ],
      "text/latex": [
       "\\begin{enumerate*}\n",
       "\\item 1\n",
       "\\item 2\n",
       "\\item 3\n",
       "\\end{enumerate*}\n"
      ],
      "text/markdown": [
       "1. 1\n",
       "2. 2\n",
       "3. 3\n",
       "\n",
       "\n"
      ],
      "text/plain": [
       "[1] 1 2 3"
      ]
     },
     "metadata": {},
     "output_type": "display_data"
    }
   ],
   "source": [
    "m[,1]"
   ]
  },
  {
   "cell_type": "code",
   "execution_count": 59,
   "metadata": {},
   "outputs": [
    {
     "data": {
      "text/html": [
       "<ol class=list-inline>\n",
       "\t<li>'blood'</li>\n",
       "\t<li>'flu_status'</li>\n",
       "\t<li>'gender'</li>\n",
       "\t<li>'m'</li>\n",
       "\t<li>'pt_data'</li>\n",
       "\t<li>'subject_name'</li>\n",
       "\t<li>'subject1'</li>\n",
       "\t<li>'symptoms'</li>\n",
       "\t<li>'temperature'</li>\n",
       "</ol>\n"
      ],
      "text/latex": [
       "\\begin{enumerate*}\n",
       "\\item 'blood'\n",
       "\\item 'flu\\_status'\n",
       "\\item 'gender'\n",
       "\\item 'm'\n",
       "\\item 'pt\\_data'\n",
       "\\item 'subject\\_name'\n",
       "\\item 'subject1'\n",
       "\\item 'symptoms'\n",
       "\\item 'temperature'\n",
       "\\end{enumerate*}\n"
      ],
      "text/markdown": [
       "1. 'blood'\n",
       "2. 'flu_status'\n",
       "3. 'gender'\n",
       "4. 'm'\n",
       "5. 'pt_data'\n",
       "6. 'subject_name'\n",
       "7. 'subject1'\n",
       "8. 'symptoms'\n",
       "9. 'temperature'\n",
       "\n",
       "\n"
      ],
      "text/plain": [
       "[1] \"blood\"        \"flu_status\"   \"gender\"       \"m\"            \"pt_data\"     \n",
       "[6] \"subject_name\" \"subject1\"     \"symptoms\"     \"temperature\" "
      ]
     },
     "metadata": {},
     "output_type": "display_data"
    }
   ],
   "source": [
    "ls()"
   ]
  },
  {
   "cell_type": "code",
   "execution_count": 60,
   "metadata": {
    "collapsed": true
   },
   "outputs": [],
   "source": [
    "rm(m, subject1)"
   ]
  },
  {
   "cell_type": "code",
   "execution_count": 61,
   "metadata": {},
   "outputs": [
    {
     "data": {
      "text/html": [
       "<ol class=list-inline>\n",
       "\t<li>'blood'</li>\n",
       "\t<li>'flu_status'</li>\n",
       "\t<li>'gender'</li>\n",
       "\t<li>'pt_data'</li>\n",
       "\t<li>'subject_name'</li>\n",
       "\t<li>'symptoms'</li>\n",
       "\t<li>'temperature'</li>\n",
       "</ol>\n"
      ],
      "text/latex": [
       "\\begin{enumerate*}\n",
       "\\item 'blood'\n",
       "\\item 'flu\\_status'\n",
       "\\item 'gender'\n",
       "\\item 'pt\\_data'\n",
       "\\item 'subject\\_name'\n",
       "\\item 'symptoms'\n",
       "\\item 'temperature'\n",
       "\\end{enumerate*}\n"
      ],
      "text/markdown": [
       "1. 'blood'\n",
       "2. 'flu_status'\n",
       "3. 'gender'\n",
       "4. 'pt_data'\n",
       "5. 'subject_name'\n",
       "6. 'symptoms'\n",
       "7. 'temperature'\n",
       "\n",
       "\n"
      ],
      "text/plain": [
       "[1] \"blood\"        \"flu_status\"   \"gender\"       \"pt_data\"      \"subject_name\"\n",
       "[6] \"symptoms\"     \"temperature\" "
      ]
     },
     "metadata": {},
     "output_type": "display_data"
    }
   ],
   "source": [
    "ls()"
   ]
  },
  {
   "cell_type": "code",
   "execution_count": 62,
   "metadata": {
    "collapsed": true
   },
   "outputs": [],
   "source": [
    "rm(list=ls())"
   ]
  },
  {
   "cell_type": "code",
   "execution_count": 63,
   "metadata": {},
   "outputs": [
    {
     "data": {
      "text/html": [],
      "text/latex": [],
      "text/markdown": [],
      "text/plain": [
       "character(0)"
      ]
     },
     "metadata": {},
     "output_type": "display_data"
    }
   ],
   "source": [
    "ls()"
   ]
  },
  {
   "cell_type": "code",
   "execution_count": 64,
   "metadata": {
    "collapsed": true
   },
   "outputs": [],
   "source": [
    "## exploring data"
   ]
  },
  {
   "cell_type": "code",
   "execution_count": 65,
   "metadata": {
    "collapsed": true
   },
   "outputs": [],
   "source": [
    "usedcars = read.csv('../R_projects//MLwR/Machine Learning with R (2nd Ed.)//Chapter 02/usedcars.csv', stringsAsFactors=F)"
   ]
  },
  {
   "cell_type": "code",
   "execution_count": 66,
   "metadata": {},
   "outputs": [
    {
     "name": "stdout",
     "output_type": "stream",
     "text": [
      "'data.frame':\t150 obs. of  6 variables:\n",
      " $ year        : int  2011 2011 2011 2011 2012 2010 2011 2010 2011 2010 ...\n",
      " $ model       : chr  \"SEL\" \"SEL\" \"SEL\" \"SEL\" ...\n",
      " $ price       : int  21992 20995 19995 17809 17500 17495 17000 16995 16995 16995 ...\n",
      " $ mileage     : int  7413 10926 7351 11613 8367 25125 27393 21026 32655 36116 ...\n",
      " $ color       : chr  \"Yellow\" \"Gray\" \"Silver\" \"Gray\" ...\n",
      " $ transmission: chr  \"AUTO\" \"AUTO\" \"AUTO\" \"AUTO\" ...\n"
     ]
    }
   ],
   "source": [
    "str(usedcars)"
   ]
  },
  {
   "cell_type": "code",
   "execution_count": 67,
   "metadata": {},
   "outputs": [
    {
     "data": {
      "text/plain": [
       "   Min. 1st Qu.  Median    Mean 3rd Qu.    Max. \n",
       "   2000    2008    2009    2009    2010    2012 "
      ]
     },
     "metadata": {},
     "output_type": "display_data"
    }
   ],
   "source": [
    "summary(usedcars$year)"
   ]
  },
  {
   "cell_type": "code",
   "execution_count": 69,
   "metadata": {},
   "outputs": [
    {
     "data": {
      "text/plain": [
       "     price          mileage      \n",
       " Min.   : 3800   Min.   :  4867  \n",
       " 1st Qu.:10995   1st Qu.: 27200  \n",
       " Median :13592   Median : 36385  \n",
       " Mean   :12962   Mean   : 44261  \n",
       " 3rd Qu.:14904   3rd Qu.: 55124  \n",
       " Max.   :21992   Max.   :151479  "
      ]
     },
     "metadata": {},
     "output_type": "display_data"
    }
   ],
   "source": [
    "summary(usedcars[c('price', 'mileage')])"
   ]
  },
  {
   "cell_type": "code",
   "execution_count": 70,
   "metadata": {
    "collapsed": true
   },
   "outputs": [],
   "source": [
    "## mean(), median()"
   ]
  },
  {
   "cell_type": "code",
   "execution_count": 71,
   "metadata": {},
   "outputs": [
    {
     "data": {
      "text/html": [
       "<ol class=list-inline>\n",
       "\t<li>3800</li>\n",
       "\t<li>21992</li>\n",
       "</ol>\n"
      ],
      "text/latex": [
       "\\begin{enumerate*}\n",
       "\\item 3800\n",
       "\\item 21992\n",
       "\\end{enumerate*}\n"
      ],
      "text/markdown": [
       "1. 3800\n",
       "2. 21992\n",
       "\n",
       "\n"
      ],
      "text/plain": [
       "[1]  3800 21992"
      ]
     },
     "metadata": {},
     "output_type": "display_data"
    }
   ],
   "source": [
    "range(usedcars$price)"
   ]
  },
  {
   "cell_type": "code",
   "execution_count": 72,
   "metadata": {},
   "outputs": [
    {
     "data": {
      "text/html": [
       "18192"
      ],
      "text/latex": [
       "18192"
      ],
      "text/markdown": [
       "18192"
      ],
      "text/plain": [
       "[1] 18192"
      ]
     },
     "metadata": {},
     "output_type": "display_data"
    }
   ],
   "source": [
    "diff(range(usedcars$price))"
   ]
  },
  {
   "cell_type": "code",
   "execution_count": 73,
   "metadata": {},
   "outputs": [
    {
     "data": {
      "text/html": [
       "3909.5"
      ],
      "text/latex": [
       "3909.5"
      ],
      "text/markdown": [
       "3909.5"
      ],
      "text/plain": [
       "[1] 3909.5"
      ]
     },
     "metadata": {},
     "output_type": "display_data"
    }
   ],
   "source": [
    "IQR(usedcars$price)"
   ]
  },
  {
   "cell_type": "code",
   "execution_count": 74,
   "metadata": {},
   "outputs": [
    {
     "data": {
      "text/html": [
       "<dl class=dl-horizontal>\n",
       "\t<dt>0%</dt>\n",
       "\t\t<dd>3800</dd>\n",
       "\t<dt>25%</dt>\n",
       "\t\t<dd>10995</dd>\n",
       "\t<dt>50%</dt>\n",
       "\t\t<dd>13591.5</dd>\n",
       "\t<dt>75%</dt>\n",
       "\t\t<dd>14904.5</dd>\n",
       "\t<dt>100%</dt>\n",
       "\t\t<dd>21992</dd>\n",
       "</dl>\n"
      ],
      "text/latex": [
       "\\begin{description*}\n",
       "\\item[0\\textbackslash{}\\%] 3800\n",
       "\\item[25\\textbackslash{}\\%] 10995\n",
       "\\item[50\\textbackslash{}\\%] 13591.5\n",
       "\\item[75\\textbackslash{}\\%] 14904.5\n",
       "\\item[100\\textbackslash{}\\%] 21992\n",
       "\\end{description*}\n"
      ],
      "text/markdown": [
       "0%\n",
       ":   380025%\n",
       ":   1099550%\n",
       ":   13591.575%\n",
       ":   14904.5100%\n",
       ":   21992\n",
       "\n"
      ],
      "text/plain": [
       "     0%     25%     50%     75%    100% \n",
       " 3800.0 10995.0 13591.5 14904.5 21992.0 "
      ]
     },
     "metadata": {},
     "output_type": "display_data"
    }
   ],
   "source": [
    "quantile(usedcars$price)"
   ]
  },
  {
   "cell_type": "code",
   "execution_count": 75,
   "metadata": {},
   "outputs": [
    {
     "data": {
      "text/html": [
       "<dl class=dl-horizontal>\n",
       "\t<dt>1%</dt>\n",
       "\t\t<dd>5428.69</dd>\n",
       "\t<dt>99%</dt>\n",
       "\t\t<dd>20505</dd>\n",
       "</dl>\n"
      ],
      "text/latex": [
       "\\begin{description*}\n",
       "\\item[1\\textbackslash{}\\%] 5428.69\n",
       "\\item[99\\textbackslash{}\\%] 20505\n",
       "\\end{description*}\n"
      ],
      "text/markdown": [
       "1%\n",
       ":   5428.6999%\n",
       ":   20505\n",
       "\n"
      ],
      "text/plain": [
       "      1%      99% \n",
       " 5428.69 20505.00 "
      ]
     },
     "metadata": {},
     "output_type": "display_data"
    }
   ],
   "source": [
    "quantile(usedcars$price, probs=c(.01, .99))"
   ]
  },
  {
   "cell_type": "code",
   "execution_count": 76,
   "metadata": {},
   "outputs": [
    {
     "data": {
      "text/html": [
       "<dl class=dl-horizontal>\n",
       "\t<dt>0%</dt>\n",
       "\t\t<dd>3800</dd>\n",
       "\t<dt>20%</dt>\n",
       "\t\t<dd>10759.4</dd>\n",
       "\t<dt>40%</dt>\n",
       "\t\t<dd>12993.8</dd>\n",
       "\t<dt>60%</dt>\n",
       "\t\t<dd>13992</dd>\n",
       "\t<dt>80%</dt>\n",
       "\t\t<dd>14999</dd>\n",
       "\t<dt>100%</dt>\n",
       "\t\t<dd>21992</dd>\n",
       "</dl>\n"
      ],
      "text/latex": [
       "\\begin{description*}\n",
       "\\item[0\\textbackslash{}\\%] 3800\n",
       "\\item[20\\textbackslash{}\\%] 10759.4\n",
       "\\item[40\\textbackslash{}\\%] 12993.8\n",
       "\\item[60\\textbackslash{}\\%] 13992\n",
       "\\item[80\\textbackslash{}\\%] 14999\n",
       "\\item[100\\textbackslash{}\\%] 21992\n",
       "\\end{description*}\n"
      ],
      "text/markdown": [
       "0%\n",
       ":   380020%\n",
       ":   10759.440%\n",
       ":   12993.860%\n",
       ":   1399280%\n",
       ":   14999100%\n",
       ":   21992\n",
       "\n"
      ],
      "text/plain": [
       "     0%     20%     40%     60%     80%    100% \n",
       " 3800.0 10759.4 12993.8 13992.0 14999.0 21992.0 "
      ]
     },
     "metadata": {},
     "output_type": "display_data"
    }
   ],
   "source": [
    "quantile(usedcars$price, seq(from=0, to=1, by=.2))"
   ]
  },
  {
   "cell_type": "code",
   "execution_count": 77,
   "metadata": {},
   "outputs": [
    {
     "data": {
      "image/png": "[encoded data removed]",
      "text/plain": [
       "Plot with title “Boxplot of Used Car Prices”"
      ]
     },
     "metadata": {},
     "output_type": "display_data"
    }
   ],
   "source": [
    "boxplot(usedcars$price, main='Boxplot of Used Car Prices', ylab='Price ($)')"
   ]
  },
  {
   "cell_type": "code",
   "execution_count": 78,
   "metadata": {},
   "outputs": [
    {
     "data": {
      "image/png": "[encoded data removed]",
      "text/plain": [
       "Plot with title “Boxplot of Used Car Prices”"
      ]
     },
     "metadata": {},
     "output_type": "display_data"
    }
   ],
   "source": [
    "boxplot(usedcars$mileage, main='Boxplot of Used Car Prices', ylab='Odometer (mi.)')"
   ]
  },
  {
   "cell_type": "code",
   "execution_count": 79,
   "metadata": {},
   "outputs": [
    {
     "data": {
      "image/png": "[encoded data removed]",
      "text/plain": [
       "Plot with title “Histogram of used car prices”"
      ]
     },
     "metadata": {},
     "output_type": "display_data"
    }
   ],
   "source": [
    "hist(usedcars$price, main='Histogram of used car prices', xlab='price ($)')"
   ]
  },
  {
   "cell_type": "code",
   "execution_count": 80,
   "metadata": {},
   "outputs": [
    {
     "data": {
      "image/png": "[encoded data removed]",
      "text/plain": [
       "Plot with title “Histogram of used car mileage”"
      ]
     },
     "metadata": {},
     "output_type": "display_data"
    }
   ],
   "source": [
    "hist(usedcars$mileage, main='Histogram of used car mileage', xlab='odometer (mi.)')"
   ]
  },
  {
   "cell_type": "code",
   "execution_count": 81,
   "metadata": {},
   "outputs": [
    {
     "data": {
      "text/html": [
       "9749892.18344519"
      ],
      "text/latex": [
       "9749892.18344519"
      ],
      "text/markdown": [
       "9749892.18344519"
      ],
      "text/plain": [
       "[1] 9749892"
      ]
     },
     "metadata": {},
     "output_type": "display_data"
    }
   ],
   "source": [
    "var(usedcars$price)"
   ]
  },
  {
   "cell_type": "code",
   "execution_count": 82,
   "metadata": {},
   "outputs": [
    {
     "data": {
      "text/html": [
       "3122.4817346856"
      ],
      "text/latex": [
       "3122.4817346856"
      ],
      "text/markdown": [
       "3122.4817346856"
      ],
      "text/plain": [
       "[1] 3122.482"
      ]
     },
     "metadata": {},
     "output_type": "display_data"
    }
   ],
   "source": [
    "sd(usedcars$price)"
   ]
  },
  {
   "cell_type": "code",
   "execution_count": 83,
   "metadata": {},
   "outputs": [
    {
     "data": {
      "text/html": [
       "728033953.639418"
      ],
      "text/latex": [
       "728033953.639418"
      ],
      "text/markdown": [
       "728033953.639418"
      ],
      "text/plain": [
       "[1] 728033954"
      ]
     },
     "metadata": {},
     "output_type": "display_data"
    }
   ],
   "source": [
    "var(usedcars$mileage)"
   ]
  },
  {
   "cell_type": "code",
   "execution_count": 84,
   "metadata": {},
   "outputs": [
    {
     "data": {
      "text/html": [
       "26982.1043219282"
      ],
      "text/latex": [
       "26982.1043219282"
      ],
      "text/markdown": [
       "26982.1043219282"
      ],
      "text/plain": [
       "[1] 26982.1"
      ]
     },
     "metadata": {},
     "output_type": "display_data"
    }
   ],
   "source": [
    "sd(usedcars$mileage)"
   ]
  },
  {
   "cell_type": "code",
   "execution_count": 85,
   "metadata": {},
   "outputs": [
    {
     "data": {
      "text/plain": [
       "\n",
       "2000 2001 2002 2003 2004 2005 2006 2007 2008 2009 2010 2011 2012 \n",
       "   3    1    1    1    3    2    6   11   14   42   49   16    1 "
      ]
     },
     "metadata": {},
     "output_type": "display_data"
    }
   ],
   "source": [
    "table(usedcars$year)"
   ]
  },
  {
   "cell_type": "code",
   "execution_count": 86,
   "metadata": {},
   "outputs": [
    {
     "data": {
      "text/plain": [
       "\n",
       " SE SEL SES \n",
       " 78  23  49 "
      ]
     },
     "metadata": {},
     "output_type": "display_data"
    }
   ],
   "source": [
    "table(usedcars$model)"
   ]
  },
  {
   "cell_type": "code",
   "execution_count": 88,
   "metadata": {},
   "outputs": [
    {
     "data": {
      "text/plain": [
       "\n",
       " Black   Blue   Gold   Gray  Green    Red Silver  White Yellow \n",
       "    35     17      1     16      5     25     32     16      3 "
      ]
     },
     "metadata": {},
     "output_type": "display_data"
    }
   ],
   "source": [
    "table(usedcars$color)"
   ]
  },
  {
   "cell_type": "code",
   "execution_count": 89,
   "metadata": {
    "collapsed": true
   },
   "outputs": [],
   "source": [
    "model_table = table(usedcars$model)"
   ]
  },
  {
   "cell_type": "code",
   "execution_count": 90,
   "metadata": {},
   "outputs": [
    {
     "data": {
      "text/plain": [
       "\n",
       "       SE       SEL       SES \n",
       "0.5200000 0.1533333 0.3266667 "
      ]
     },
     "metadata": {},
     "output_type": "display_data"
    }
   ],
   "source": [
    "prop.table(model_table)"
   ]
  },
  {
   "cell_type": "code",
   "execution_count": 91,
   "metadata": {
    "collapsed": true
   },
   "outputs": [],
   "source": [
    "color_table = table(usedcars$color)"
   ]
  },
  {
   "cell_type": "code",
   "execution_count": 92,
   "metadata": {
    "collapsed": true
   },
   "outputs": [],
   "source": [
    "color_pct = prop.table(color_table) * 100"
   ]
  },
  {
   "cell_type": "code",
   "execution_count": 93,
   "metadata": {},
   "outputs": [
    {
     "data": {
      "text/plain": [
       "\n",
       " Black   Blue   Gold   Gray  Green    Red Silver  White Yellow \n",
       "  23.3   11.3    0.7   10.7    3.3   16.7   21.3   10.7    2.0 "
      ]
     },
     "metadata": {},
     "output_type": "display_data"
    }
   ],
   "source": [
    "round(color_pct, digits = 1)"
   ]
  },
  {
   "cell_type": "code",
   "execution_count": 94,
   "metadata": {
    "collapsed": true
   },
   "outputs": [],
   "source": [
    "## relationship"
   ]
  },
  {
   "cell_type": "code",
   "execution_count": 95,
   "metadata": {},
   "outputs": [
    {
     "data": {
      "image/png": "[encoded data removed]",
      "text/plain": [
       "Plot with title “Scatterplot of price vs. mileage”"
      ]
     },
     "metadata": {},
     "output_type": "display_data"
    }
   ],
   "source": [
    "plot(x=usedcars$mileage, y=usedcars$price, main='Scatterplot of price vs. mileage',\n",
    "    xlab='used car odometer (mi.)',\n",
    "    ylab='used car price ($)')"
   ]
  },
  {
   "cell_type": "code",
   "execution_count": 97,
   "metadata": {},
   "outputs": [
    {
     "data": {
      "image/png": "[encoded data removed]",
      "text/plain": [
       "Plot with title “Scatterplot of price vs. mileage”"
      ]
     },
     "metadata": {},
     "output_type": "display_data"
    }
   ],
   "source": [
    "plot(usedcars$price ~ usedcars$mileage , main='Scatterplot of price vs. mileage',\n",
    "    xlab='used car odometer (mi.)',\n",
    "    ylab='used car price ($)')"
   ]
  },
  {
   "cell_type": "code",
   "execution_count": 98,
   "metadata": {
    "collapsed": true
   },
   "outputs": [],
   "source": [
    "usedcars$conservative = usedcars$color %in% c('Black', 'Gray', 'Silver', \"White\")"
   ]
  },
  {
   "cell_type": "code",
   "execution_count": 99,
   "metadata": {},
   "outputs": [
    {
     "data": {
      "text/plain": [
       "\n",
       "FALSE  TRUE \n",
       "   51    99 "
      ]
     },
     "metadata": {},
     "output_type": "display_data"
    }
   ],
   "source": [
    "table(usedcars$conservative)"
   ]
  },
  {
   "cell_type": "code",
   "execution_count": 100,
   "metadata": {
    "collapsed": true
   },
   "outputs": [],
   "source": [
    "library(gmodels)"
   ]
  },
  {
   "cell_type": "code",
   "execution_count": 101,
   "metadata": {},
   "outputs": [
    {
     "name": "stdout",
     "output_type": "stream",
     "text": [
      "\n",
      " \n",
      "   Cell Contents\n",
      "|-------------------------|\n",
      "|                       N |\n",
      "| Chi-square contribution |\n",
      "|           N / Row Total |\n",
      "|           N / Col Total |\n",
      "|         N / Table Total |\n",
      "|-------------------------|\n",
      "\n",
      " \n",
      "Total Observations in Table:  150 \n",
      "\n",
      " \n",
      "               | usedcars$conservative \n",
      "usedcars$model |     FALSE |      TRUE | Row Total | \n",
      "---------------|-----------|-----------|-----------|\n",
      "            SE |        27 |        51 |        78 | \n",
      "               |     0.009 |     0.004 |           | \n",
      "               |     0.346 |     0.654 |     0.520 | \n",
      "               |     0.529 |     0.515 |           | \n",
      "               |     0.180 |     0.340 |           | \n",
      "---------------|-----------|-----------|-----------|\n",
      "           SEL |         7 |        16 |        23 | \n",
      "               |     0.086 |     0.044 |           | \n",
      "               |     0.304 |     0.696 |     0.153 | \n",
      "               |     0.137 |     0.162 |           | \n",
      "               |     0.047 |     0.107 |           | \n",
      "---------------|-----------|-----------|-----------|\n",
      "           SES |        17 |        32 |        49 | \n",
      "               |     0.007 |     0.004 |           | \n",
      "               |     0.347 |     0.653 |     0.327 | \n",
      "               |     0.333 |     0.323 |           | \n",
      "               |     0.113 |     0.213 |           | \n",
      "---------------|-----------|-----------|-----------|\n",
      "  Column Total |        51 |        99 |       150 | \n",
      "               |     0.340 |     0.660 |           | \n",
      "---------------|-----------|-----------|-----------|\n",
      "\n",
      " \n"
     ]
    }
   ],
   "source": [
    "CrossTable(x=usedcars$model, y=usedcars$conservative)"
   ]
  },
  {
   "cell_type": "code",
   "execution_count": 102,
   "metadata": {
    "collapsed": true
   },
   "outputs": [],
   "source": [
    "## variance - avg of the squared differences between each value and the mean\n",
    "## variance - larger numbers indicate that the data are spread more widely around the mean\n",
    "## stddev - on average, how much each value differs from the mean\n",
    "## 68-95-99.7 rule - 68% of the vals in normal dist. fall within one sdev of the mean,\n",
    "## 95% between two, and 99.7% between three\n",
    "## bivariate - relationship between two variables\n",
    "## y variable depends on the other\n",
    "## mileage is not dependent on a car's price\n",
    "## a car's price is dependent on its mileage\n",
    "## y - price - dependent variable\n",
    "## chi^2 test - contribution in the test for independence between two variables\n",
    "## chisq measures how likely it is that the difference in the cell counts in the table is\n",
    "## due to chance alone. \n",
    "## p = .92 suggests it's very likely the variations in cell count are due to chance alone"
   ]
  },
  {
   "cell_type": "code",
   "execution_count": null,
   "metadata": {
    "collapsed": true
   },
   "outputs": [],
   "source": []
  }
 ],
 "metadata": {
  "kernelspec": {
   "display_name": "R",
   "language": "R",
   "name": "ir"
  },
  "language_info": {
   "codemirror_mode": "r",
   "file_extension": ".r",
   "mimetype": "text/x-r-source",
   "name": "R",
   "pygments_lexer": "r",
   "version": "3.4.0"
  }
 },
 "nbformat": 4,
 "nbformat_minor": 2
}
