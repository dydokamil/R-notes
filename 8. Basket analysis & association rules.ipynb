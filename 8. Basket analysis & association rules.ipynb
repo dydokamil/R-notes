{
 "cells": [
  {
   "cell_type": "markdown",
   "metadata": {},
   "source": [
    "Association rules are the result of market basket analysis that specify patterns found in the relationships among items.\n",
    "$$\\{peanut butter, jelly\\} \\rightarrow \\{bread\\}$$"
   ]
  },
  {
   "cell_type": "markdown",
   "metadata": {},
   "source": [
    "If peanut putter and jelly are purchased together, then bread is also likely to be purchased. Peanut butter and jelly imply bread."
   ]
  },
  {
   "cell_type": "markdown",
   "metadata": {},
   "source": [
    "Association rules applications:\n",
    "+ useful for searching interesting and frequently occuring patterns of DNA and protein sequences in cancer data\n",
    "+ finding patterns of purchases or medical claims that occur in combination with fradulent credit card or insurance use\n",
    "+ identifying combinations of behavior that precede customers dropping their cellular phone service or upgrading their cable TV package"
   ]
  },
  {
   "cell_type": "markdown",
   "metadata": {},
   "source": [
    "A priori:\n",
    "+ Is capable of working with large amounts of transactional data\n",
    "+ Results in rules theat are easy to understand\n",
    "+ Useful for \"data mining\" and discovering unexpected knowledge in DBs\n",
    "- Not very helpful for small datasets\n",
    "- Requires effort to separate the true insight from common sense\n",
    "- Easy to draw spurious conclusions from random patterns"
   ]
  },
  {
   "cell_type": "markdown",
   "metadata": {},
   "source": [
    "Apriori property: {motor oil, lipstic} can only be frequent when both {motor oil} and {lipstick} occur frequently as well.\n",
    "\n",
    "If either motor oil or lipstick is infrequent, any set containing these items can be excluded from the search."
   ]
  },
  {
   "cell_type": "markdown",
   "metadata": {},
   "source": [
    "<b>Support</b> of an itemset or rule measures how frequently it occurs in the data. A function defining support for the itemset X can be defined as:"
   ]
  },
  {
   "cell_type": "markdown",
   "metadata": {},
   "source": [
    "$$support(X) = \\frac{count(X)}{N}$$"
   ]
  },
  {
   "cell_type": "markdown",
   "metadata": {},
   "source": [
    "N - number of transations in the database\n",
    "\n",
    "count(X) - the number of transactions containing itemset X."
   ]
  },
  {
   "cell_type": "markdown",
   "metadata": {},
   "source": [
    "if 2 transactions out of 5 contain a candy bar, then:"
   ]
  },
  {
   "cell_type": "markdown",
   "metadata": {},
   "source": [
    "$$support(candy bar) = \\frac{2}{5}=.4$$"
   ]
  },
  {
   "cell_type": "markdown",
   "metadata": {},
   "source": [
    "<b>Confidence</b> is a measurement of its predictive power or accuracy.\n",
    "\n",
    "It is defined as the support of the itemset containing both X and Y divided by the support of the itemset containing only X:"
   ]
  },
  {
   "cell_type": "markdown",
   "metadata": {},
   "source": [
    "$$confidence(X\\rightarrow Y)=\\frac{support(X,Y)}{support(X)}$$"
   ]
  },
  {
   "cell_type": "markdown",
   "metadata": {},
   "source": [
    "support(X, Y) are transactions where X and Y appear together divided by the total number of transactions"
   ]
  },
  {
   "cell_type": "markdown",
   "metadata": {},
   "source": [
    "$$\\{flowers\\}\\rightarrow \\{get well card\\}$$"
   ]
  },
  {
   "cell_type": "markdown",
   "metadata": {},
   "source": [
    "is different from"
   ]
  },
  {
   "cell_type": "markdown",
   "metadata": {},
   "source": [
    "$$\\{get well card\\} \\rightarrow \\{flowers\\}$$"
   ]
  },
  {
   "cell_type": "markdown",
   "metadata": {},
   "source": [
    "$$support(A, B) = P(A\\cap B)$$"
   ]
  },
  {
   "cell_type": "markdown",
   "metadata": {},
   "source": [
    "$$confidence(A \\rightarrow B) = P(B|A)$$"
   ]
  },
  {
   "cell_type": "markdown",
   "metadata": {},
   "source": [
    "# identifying frequently purchased groceries with association rules"
   ]
  },
  {
   "cell_type": "code",
   "execution_count": 1,
   "metadata": {},
   "outputs": [
    {
     "name": "stderr",
     "output_type": "stream",
     "text": [
      "Loading required package: Matrix\n",
      "\n",
      "Attaching package: ‘arules’\n",
      "\n",
      "The following objects are masked from ‘package:base’:\n",
      "\n",
      "    abbreviate, write\n",
      "\n"
     ]
    }
   ],
   "source": [
    "library(arules)"
   ]
  },
  {
   "cell_type": "code",
   "execution_count": 2,
   "metadata": {
    "collapsed": true
   },
   "outputs": [],
   "source": [
    "groceries = read.transactions('../../R_projects//MLwR/Machine Learning with R (2nd Ed.)//Chapter 08/groceries.csv',\n",
    "                             sep=',')"
   ]
  },
  {
   "cell_type": "code",
   "execution_count": 3,
   "metadata": {},
   "outputs": [
    {
     "data": {
      "text/plain": [
       "transactions as itemMatrix in sparse format with\n",
       " 9835 rows (elements/itemsets/transactions) and\n",
       " 169 columns (items) and a density of 0.02609146 \n",
       "\n",
       "most frequent items:\n",
       "      whole milk other vegetables       rolls/buns             soda \n",
       "            2513             1903             1809             1715 \n",
       "          yogurt          (Other) \n",
       "            1372            34055 \n",
       "\n",
       "element (itemset/transaction) length distribution:\n",
       "sizes\n",
       "   1    2    3    4    5    6    7    8    9   10   11   12   13   14   15   16 \n",
       "2159 1643 1299 1005  855  645  545  438  350  246  182  117   78   77   55   46 \n",
       "  17   18   19   20   21   22   23   24   26   27   28   29   32 \n",
       "  29   14   14    9   11    4    6    1    1    1    1    3    1 \n",
       "\n",
       "   Min. 1st Qu.  Median    Mean 3rd Qu.    Max. \n",
       "  1.000   2.000   3.000   4.409   6.000  32.000 \n",
       "\n",
       "includes extended item information - examples:\n",
       "            labels\n",
       "1 abrasive cleaner\n",
       "2 artif. sweetener\n",
       "3   baby cosmetics"
      ]
     },
     "metadata": {},
     "output_type": "display_data"
    }
   ],
   "source": [
    "summary(groceries)"
   ]
  },
  {
   "cell_type": "markdown",
   "metadata": {},
   "source": [
    "During 30 days of operation, the average transaction contained 43,367 / 9,835 = 4.409 distinct grocery items."
   ]
  },
  {
   "cell_type": "markdown",
   "metadata": {},
   "source": [
    "2,513 / 9,835 = 0.2555, we can determine that the whole milk appeared in 25.6 percent of the transactions."
   ]
  },
  {
   "cell_type": "code",
   "execution_count": 4,
   "metadata": {},
   "outputs": [
    {
     "name": "stdout",
     "output_type": "stream",
     "text": [
      "    items                     \n",
      "[1] {citrus fruit,            \n",
      "     margarine,               \n",
      "     ready soups,             \n",
      "     semi-finished bread}     \n",
      "[2] {coffee,                  \n",
      "     tropical fruit,          \n",
      "     yogurt}                  \n",
      "[3] {whole milk}              \n",
      "[4] {cream cheese,            \n",
      "     meat spreads,            \n",
      "     pip fruit,               \n",
      "     yogurt}                  \n",
      "[5] {condensed milk,          \n",
      "     long life bakery product,\n",
      "     other vegetables,        \n",
      "     whole milk}              \n"
     ]
    }
   ],
   "source": [
    "inspect(groceries[1:5])"
   ]
  },
  {
   "cell_type": "code",
   "execution_count": 5,
   "metadata": {},
   "outputs": [
    {
     "data": {
      "text/html": [
       "<dl class=dl-horizontal>\n",
       "\t<dt>abrasive cleaner</dt>\n",
       "\t\t<dd>0.00355871886120996</dd>\n",
       "\t<dt>artif. sweetener</dt>\n",
       "\t\t<dd>0.0032536858159634</dd>\n",
       "\t<dt>baby cosmetics</dt>\n",
       "\t\t<dd>0.000610066090493137</dd>\n",
       "</dl>\n"
      ],
      "text/latex": [
       "\\begin{description*}\n",
       "\\item[abrasive cleaner] 0.00355871886120996\n",
       "\\item[artif. sweetener] 0.0032536858159634\n",
       "\\item[baby cosmetics] 0.000610066090493137\n",
       "\\end{description*}\n"
      ],
      "text/markdown": [
       "abrasive cleaner\n",
       ":   0.00355871886120996artif. sweetener\n",
       ":   0.0032536858159634baby cosmetics\n",
       ":   0.000610066090493137\n",
       "\n"
      ],
      "text/plain": [
       "abrasive cleaner artif. sweetener   baby cosmetics \n",
       "    0.0035587189     0.0032536858     0.0006100661 "
      ]
     },
     "metadata": {},
     "output_type": "display_data"
    }
   ],
   "source": [
    "itemFrequency(groceries[, 1:3])"
   ]
  },
  {
   "cell_type": "code",
   "execution_count": 6,
   "metadata": {},
   "outputs": [
    {
     "data": {
      "image/png": "[encoded data removed]",
      "text/plain": [
       "plot without title"
      ]
     },
     "metadata": {},
     "output_type": "display_data"
    }
   ],
   "source": [
    "itemFrequencyPlot(groceries, support = .1)"
   ]
  },
  {
   "cell_type": "code",
   "execution_count": 7,
   "metadata": {},
   "outputs": [
    {
     "name": "stderr",
     "output_type": "stream",
     "text": [
      "Warning message in plot.window(xlim, ylim, log = log, ...):\n",
      "“\"labels\" is not a graphical parameter”"
     ]
    },
    {
     "ename": "ERROR",
     "evalue": "Error in axis(if (horiz) 2 else 1, at = at.l, labels = names.arg, lty = axis.lty, : formal argument \"labels\" matched by multiple actual arguments\n",
     "output_type": "error",
     "traceback": [
      "Error in axis(if (horiz) 2 else 1, at = at.l, labels = names.arg, lty = axis.lty, : formal argument \"labels\" matched by multiple actual arguments\nTraceback:\n",
      "1. itemFrequencyPlot(groceries, topN = 169, labels = F)",
      "2. itemFrequencyPlot(groceries, topN = 169, labels = F)",
      "3. .local(x, ...)",
      "4. .barplot_vert(itemFrequency, ..., offset = offset, cex.names = cex.names, \n .     xlab = xlab, ylab = if (is.null(ylab)) label else ylab, mai = mai)",
      "5. graphics::barplot(height, ..., xaxt = \"n\", xlab = \"\", ylab = ylab)",
      "6. barplot.default(height, ..., xaxt = \"n\", xlab = \"\", ylab = ylab)"
     ]
    },
    {
     "data": {
      "image/png": "[encoded data removed]",
      "text/plain": [
       "plot without title"
      ]
     },
     "metadata": {},
     "output_type": "display_data"
    }
   ],
   "source": [
    "itemFrequencyPlot(groceries, topN = 169, labels=F)"
   ]
  },
  {
   "cell_type": "markdown",
   "metadata": {},
   "source": [
    "Logarytmy są wszędzie!"
   ]
  },
  {
   "cell_type": "code",
   "execution_count": 8,
   "metadata": {},
   "outputs": [
    {
     "data": {
      "image/png": "[encoded data removed]",
      "text/plain": [
       "plot without title"
      ]
     },
     "metadata": {},
     "output_type": "display_data"
    }
   ],
   "source": [
    "itemFrequencyPlot(groceries, topN = 20)"
   ]
  },
  {
   "cell_type": "markdown",
   "metadata": {},
   "source": [
    "# Visualizing the transaction data"
   ]
  },
  {
   "cell_type": "code",
   "execution_count": 10,
   "metadata": {},
   "outputs": [
    {
     "data": {},
     "metadata": {},
     "output_type": "display_data"
    },
    {
     "data": {
      "image/png": "[encoded data removed]",
      "text/plain": [
       "plot without title"
      ]
     },
     "metadata": {},
     "output_type": "display_data"
    }
   ],
   "source": [
    "image(groceries[1:5])"
   ]
  },
  {
   "cell_type": "code",
   "execution_count": 11,
   "metadata": {},
   "outputs": [
    {
     "data": {},
     "metadata": {},
     "output_type": "display_data"
    },
    {
     "data": {
      "image/png": "[encoded data removed]",
      "text/plain": [
       "plot without title"
      ]
     },
     "metadata": {},
     "output_type": "display_data"
    }
   ],
   "source": [
    "image(sample(groceries, 100))"
   ]
  },
  {
   "cell_type": "markdown",
   "metadata": {},
   "source": [
    "## train\n",
    "apriori(data = mydata, parameter = list(support = .1, confidence = .8, minlen = 1))"
   ]
  },
  {
   "cell_type": "markdown",
   "metadata": {},
   "source": [
    "## test\n",
    "inspect(myrules)"
   ]
  },
  {
   "cell_type": "markdown",
   "metadata": {},
   "source": [
    "If an item is purchased twice a day (about 60 times in a month of data), it may be an interesting pattern. Since 60 out of 9,835 = .006, we'll try setting the support there first."
   ]
  },
  {
   "cell_type": "markdown",
   "metadata": {},
   "source": [
    "If the confidence is too high, we will be limited to the rules that are obvious or inevitable."
   ]
  },
  {
   "cell_type": "markdown",
   "metadata": {},
   "source": [
    "If confidence is too low, we might be overwhelmed with a large number of unreliable rules."
   ]
  },
  {
   "cell_type": "markdown",
   "metadata": {},
   "source": [
    "Setting the confidence to .25 will include the rules that are correct at least 25 percent of the time."
   ]
  },
  {
   "cell_type": "markdown",
   "metadata": {},
   "source": [
    "Setting minlen = 2 will eliminate rules that contain fewer than two items."
   ]
  },
  {
   "cell_type": "code",
   "execution_count": 12,
   "metadata": {},
   "outputs": [
    {
     "name": "stdout",
     "output_type": "stream",
     "text": [
      "Apriori\n",
      "\n",
      "Parameter specification:\n",
      " confidence minval smax arem  aval originalSupport maxtime support minlen\n",
      "       0.25    0.1    1 none FALSE            TRUE       5   0.006      2\n",
      " maxlen target   ext\n",
      "     10  rules FALSE\n",
      "\n",
      "Algorithmic control:\n",
      " filter tree heap memopt load sort verbose\n",
      "    0.1 TRUE TRUE  FALSE TRUE    2    TRUE\n",
      "\n",
      "Absolute minimum support count: 59 \n",
      "\n",
      "set item appearances ...[0 item(s)] done [0.00s].\n",
      "set transactions ...[169 item(s), 9835 transaction(s)] done [0.00s].\n",
      "sorting and recoding items ... [109 item(s)] done [0.00s].\n",
      "creating transaction tree ... done [0.00s].\n",
      "checking subsets of size 1 2 3 4 done [0.00s].\n",
      "writing ... [463 rule(s)] done [0.00s].\n",
      "creating S4 object  ... done [0.00s].\n"
     ]
    }
   ],
   "source": [
    "groceryrules = apriori(groceries, parameter = list(support=.006,\n",
    "                                                   confidence = .25,\n",
    "                                                   minlen = 2))"
   ]
  },
  {
   "cell_type": "code",
   "execution_count": 13,
   "metadata": {},
   "outputs": [
    {
     "data": {
      "text/plain": [
       "set of 463 rules "
      ]
     },
     "metadata": {},
     "output_type": "display_data"
    }
   ],
   "source": [
    "groceryrules"
   ]
  },
  {
   "cell_type": "code",
   "execution_count": 14,
   "metadata": {},
   "outputs": [
    {
     "data": {
      "text/plain": [
       "set of 463 rules\n",
       "\n",
       "rule length distribution (lhs + rhs):sizes\n",
       "  2   3   4 \n",
       "150 297  16 \n",
       "\n",
       "   Min. 1st Qu.  Median    Mean 3rd Qu.    Max. \n",
       "  2.000   2.000   3.000   2.711   3.000   4.000 \n",
       "\n",
       "summary of quality measures:\n",
       "    support           confidence          lift       \n",
       " Min.   :0.006101   Min.   :0.2500   Min.   :0.9932  \n",
       " 1st Qu.:0.007117   1st Qu.:0.2971   1st Qu.:1.6229  \n",
       " Median :0.008744   Median :0.3554   Median :1.9332  \n",
       " Mean   :0.011539   Mean   :0.3786   Mean   :2.0351  \n",
       " 3rd Qu.:0.012303   3rd Qu.:0.4495   3rd Qu.:2.3565  \n",
       " Max.   :0.074835   Max.   :0.6600   Max.   :3.9565  \n",
       "\n",
       "mining info:\n",
       "      data ntransactions support confidence\n",
       " groceries          9835   0.006       0.25"
      ]
     },
     "metadata": {},
     "output_type": "display_data"
    }
   ],
   "source": [
    "summary(groceryrules)"
   ]
  },
  {
   "cell_type": "markdown",
   "metadata": {},
   "source": [
    "150 rules have only two items, while 297 have three, and 16 have four."
   ]
  },
  {
   "cell_type": "markdown",
   "metadata": {},
   "source": [
    "{bread} -> {butter} is size 2 and {peanut butter, jelly} -> {bread} is size 3"
   ]
  },
  {
   "cell_type": "markdown",
   "metadata": {},
   "source": [
    "If most or all of the rules had support and confidence very near the minimum threshold it would mean that we may have set the bar too high."
   ]
  },
  {
   "cell_type": "markdown",
   "metadata": {},
   "source": [
    "Lift of a rule measures how much more likely one item or itemset is purchased relative to its typical rate of purchase, given that another item or itemset has been purchased."
   ]
  },
  {
   "cell_type": "markdown",
   "metadata": {},
   "source": [
    "$$lift(X \\rightarrow Y)=\\frac{confidence(X \\rightarrow Y)}{support(Y)}$$"
   ]
  },
  {
   "cell_type": "markdown",
   "metadata": {},
   "source": [
    "Large lift value is a strong indicator that a rule is important, and reflects a true connection between the items."
   ]
  },
  {
   "cell_type": "code",
   "execution_count": 15,
   "metadata": {},
   "outputs": [
    {
     "name": "stdout",
     "output_type": "stream",
     "text": [
      "    lhs                rhs               support     confidence lift    \n",
      "[1] {potted plants} => {whole milk}      0.006914082 0.4000000  1.565460\n",
      "[2] {pasta}         => {whole milk}      0.006100661 0.4054054  1.586614\n",
      "[3] {herbs}         => {root vegetables} 0.007015760 0.4312500  3.956477\n"
     ]
    }
   ],
   "source": [
    "inspect(groceryrules[1:3])"
   ]
  },
  {
   "cell_type": "markdown",
   "metadata": {},
   "source": [
    "1: if a customer buys potted plants, they will also buy whole milk. This rule covers .7% of the transactions and is correct in 40% of purchases involving potted plants."
   ]
  },
  {
   "cell_type": "markdown",
   "metadata": {},
   "source": [
    "Lift value describes how much more likely a customer is to buy whole milk relative to the average customer, give that they bought a potted plant."
   ]
  },
  {
   "cell_type": "markdown",
   "metadata": {},
   "source": [
    "About 25.6% of the customers bought whole milk (support), while 40% of the customers buying a potted plant bought whole milk (confidence), the lift value is .4 / .256 = 1.56"
   ]
  },
  {
   "cell_type": "markdown",
   "metadata": {},
   "source": [
    "<b>Actionable</b> rules provide a clear and useful insight.\n",
    "\n",
    "<b>Trivial rules</b> include any rules that are so obvious that they are not worth mentioning - clear, but not useful.\n",
    "\n",
    "<b>Inexplicable rules</b> provide connections between items that are so unclear that figuring out how to use the information is impossible or nearly impossible."
   ]
  },
  {
   "cell_type": "code",
   "execution_count": 20,
   "metadata": {},
   "outputs": [
    {
     "name": "stdout",
     "output_type": "stream",
     "text": [
      "    lhs                   rhs                      support confidence     lift\n",
      "[1] {herbs}            => {root vegetables}    0.007015760  0.4312500 3.956477\n",
      "[2] {berries}          => {whipped/sour cream} 0.009049314  0.2721713 3.796886\n",
      "[3] {other vegetables,                                                        \n",
      "     tropical fruit,                                                          \n",
      "     whole milk}       => {root vegetables}    0.007015760  0.4107143 3.768074\n",
      "[4] {beef,                                                                    \n",
      "     other vegetables} => {root vegetables}    0.007930859  0.4020619 3.688692\n",
      "[5] {other vegetables,                                                        \n",
      "     tropical fruit}   => {pip fruit}          0.009456024  0.2634561 3.482649\n"
     ]
    }
   ],
   "source": [
    "inspect(sort(groceryrules, by = 'lift')[1:5])"
   ]
  },
  {
   "cell_type": "markdown",
   "metadata": {},
   "source": [
    "1. lift ~3.96 implies that people who buy herbs are nearly four times more likely to buy root vegetables than the typical customer\n",
    "2. Whipped cream is over three times more likely to be found in a shopping cart with berries versus other carts."
   ]
  },
  {
   "cell_type": "code",
   "execution_count": 21,
   "metadata": {
    "collapsed": true
   },
   "outputs": [],
   "source": [
    "berryrules = subset(groceryrules, items %in% 'berries')"
   ]
  },
  {
   "cell_type": "code",
   "execution_count": 22,
   "metadata": {},
   "outputs": [
    {
     "name": "stdout",
     "output_type": "stream",
     "text": [
      "    lhs          rhs                  support     confidence lift    \n",
      "[1] {berries} => {whipped/sour cream} 0.009049314 0.2721713  3.796886\n",
      "[2] {berries} => {yogurt}             0.010574479 0.3180428  2.279848\n",
      "[3] {berries} => {other vegetables}   0.010269446 0.3088685  1.596280\n",
      "[4] {berries} => {whole milk}         0.011794611 0.3547401  1.388328\n"
     ]
    }
   ],
   "source": [
    "inspect(berryrules)"
   ]
  },
  {
   "cell_type": "markdown",
   "metadata": {},
   "source": [
    "items %pin% 'fruit' allows to find both citrus fruit and tropical fruit\n",
    "\n",
    "items %ain% c('berries', 'yogurt') finds only rules with both berries and yogurt."
   ]
  },
  {
   "cell_type": "code",
   "execution_count": 23,
   "metadata": {
    "collapsed": true
   },
   "outputs": [],
   "source": [
    "write(groceryrules, file = 'groceryrules.csv', sep = ',', quote = TRUE, row.names = F)"
   ]
  },
  {
   "cell_type": "code",
   "execution_count": 24,
   "metadata": {
    "collapsed": true
   },
   "outputs": [],
   "source": [
    "groceryrules_df = as(groceryrules, 'data.frame')"
   ]
  },
  {
   "cell_type": "code",
   "execution_count": 25,
   "metadata": {},
   "outputs": [
    {
     "name": "stdout",
     "output_type": "stream",
     "text": [
      "'data.frame':\t463 obs. of  4 variables:\n",
      " $ rules     : Factor w/ 463 levels \"{baking powder} => {other vegetables}\",..: 340 302 207 206 208 341 402 21 139 140 ...\n",
      " $ support   : num  0.00691 0.0061 0.00702 0.00773 0.00773 ...\n",
      " $ confidence: num  0.4 0.405 0.431 0.475 0.475 ...\n",
      " $ lift      : num  1.57 1.59 3.96 2.45 1.86 ...\n"
     ]
    }
   ],
   "source": [
    "str(groceryrules_df)"
   ]
  }
 ],
 "metadata": {
  "kernelspec": {
   "display_name": "R",
   "language": "R",
   "name": "ir"
  },
  "language_info": {
   "codemirror_mode": "r",
   "file_extension": ".r",
   "mimetype": "text/x-r-source",
   "name": "R",
   "pygments_lexer": "r",
   "version": "3.4.0"
  }
 },
 "nbformat": 4,
 "nbformat_minor": 2
}
