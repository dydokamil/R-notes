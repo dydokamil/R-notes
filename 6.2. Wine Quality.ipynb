{
 "cells": [
  {
   "cell_type": "code",
   "execution_count": 2,
   "metadata": {
    "collapsed": true
   },
   "outputs": [],
   "source": [
    "tee = c(1, 1, 1, 2, 2, 3, 4, 5, 5, 6, 6, 7, 7, 7, 7)\n",
    "at1 = c(1, 1, 1, 2, 2, 3, 4, 5, 5)\n",
    "at2 = c(6, 6, 7, 7, 7, 7)\n",
    "bt1 = c(1, 1, 1, 2, 2, 3, 4)\n",
    "bt2 = c(5, 5, 6, 6, 7, 7, 7, 7)"
   ]
  },
  {
   "cell_type": "markdown",
   "metadata": {},
   "source": [
    "$$SDR=sd(T)-\\sum_{i}{\\frac{|T_i|}{|T|}\\times\\ sd(T_i)}$$"
   ]
  },
  {
   "cell_type": "code",
   "execution_count": null,
   "metadata": {
    "collapsed": true
   },
   "outputs": [],
   "source": [
    "# sd - standard deviation of the values in set T, while T_1, ... ,T_n\n",
    "# are the sets of values resulting from a split on a feature\n",
    "# |T| - number of observations in set T"
   ]
  },
  {
   "cell_type": "code",
   "execution_count": 8,
   "metadata": {},
   "outputs": [],
   "source": [
    "sdr_a = sd(tee) - (length(at1) / length(tee) * sd(at1) + length(at2) /\n",
    "                   length(tee) * sd(at2))\n",
    "sdr_b = sd(tee) - (length(bt1) / length(tee) * sd(bt1) + length(bt2) /\n",
    "                  length(tee) * sd(bt2))"
   ]
  },
  {
   "cell_type": "code",
   "execution_count": 9,
   "metadata": {},
   "outputs": [
    {
     "data": {
      "text/html": [
       "1.20281456809792"
      ],
      "text/latex": [
       "1.20281456809792"
      ],
      "text/markdown": [
       "1.20281456809792"
      ],
      "text/plain": [
       "[1] 1.202815"
      ]
     },
     "metadata": {},
     "output_type": "display_data"
    }
   ],
   "source": [
    "sdr_a"
   ]
  },
  {
   "cell_type": "code",
   "execution_count": 10,
   "metadata": {},
   "outputs": [
    {
     "data": {
      "text/html": [
       "1.39275139353039"
      ],
      "text/latex": [
       "1.39275139353039"
      ],
      "text/markdown": [
       "1.39275139353039"
      ],
      "text/plain": [
       "[1] 1.392751"
      ]
     },
     "metadata": {},
     "output_type": "display_data"
    }
   ],
   "source": [
    "sdr_b"
   ]
  },
  {
   "cell_type": "code",
   "execution_count": 11,
   "metadata": {
    "collapsed": true
   },
   "outputs": [],
   "source": [
    "wine = read.csv('../../R_projects//MLwR/Machine Learning with R (2nd Ed.)//Chapter 06/whitewines.csv')"
   ]
  },
  {
   "cell_type": "code",
   "execution_count": 12,
   "metadata": {},
   "outputs": [
    {
     "name": "stdout",
     "output_type": "stream",
     "text": [
      "'data.frame':\t4898 obs. of  12 variables:\n",
      " $ fixed.acidity       : num  6.7 5.7 5.9 5.3 6.4 7 7.9 6.6 7 6.5 ...\n",
      " $ volatile.acidity    : num  0.62 0.22 0.19 0.47 0.29 0.14 0.12 0.38 0.16 0.37 ...\n",
      " $ citric.acid         : num  0.24 0.2 0.26 0.1 0.21 0.41 0.49 0.28 0.3 0.33 ...\n",
      " $ residual.sugar      : num  1.1 16 7.4 1.3 9.65 0.9 5.2 2.8 2.6 3.9 ...\n",
      " $ chlorides           : num  0.039 0.044 0.034 0.036 0.041 0.037 0.049 0.043 0.043 0.027 ...\n",
      " $ free.sulfur.dioxide : num  6 41 33 11 36 22 33 17 34 40 ...\n",
      " $ total.sulfur.dioxide: num  62 113 123 74 119 95 152 67 90 130 ...\n",
      " $ density             : num  0.993 0.999 0.995 0.991 0.993 ...\n",
      " $ pH                  : num  3.41 3.22 3.49 3.48 2.99 3.25 3.18 3.21 2.88 3.28 ...\n",
      " $ sulphates           : num  0.32 0.46 0.42 0.54 0.34 0.43 0.47 0.47 0.47 0.39 ...\n",
      " $ alcohol             : num  10.4 8.9 10.1 11.2 10.9 ...\n",
      " $ quality             : int  5 6 6 4 6 6 6 6 6 7 ...\n"
     ]
    }
   ],
   "source": [
    "str(wine)"
   ]
  },
  {
   "cell_type": "code",
   "execution_count": 13,
   "metadata": {},
   "outputs": [
    {
     "data": {
      "image/png": "[encoded data removed]",
      "text/plain": [
       "Plot with title “Histogram of wine$quality”"
      ]
     },
     "metadata": {},
     "output_type": "display_data"
    }
   ],
   "source": [
    "hist(wine$quality)"
   ]
  },
  {
   "cell_type": "code",
   "execution_count": 14,
   "metadata": {
    "collapsed": true
   },
   "outputs": [],
   "source": [
    "wine_train = wine[1:3750, ]\n",
    "wine_test = wine[3751:4898, ]"
   ]
  },
  {
   "cell_type": "code",
   "execution_count": 16,
   "metadata": {
    "collapsed": true
   },
   "outputs": [],
   "source": [
    "library(rpart)"
   ]
  },
  {
   "cell_type": "code",
   "execution_count": 19,
   "metadata": {
    "collapsed": true
   },
   "outputs": [],
   "source": [
    "# rpart(dv ~ iv, data)\n",
    "# predict(m, test, type='vector')"
   ]
  },
  {
   "cell_type": "code",
   "execution_count": 20,
   "metadata": {
    "collapsed": true
   },
   "outputs": [],
   "source": [
    "m.rpart = rpart(quality ~ ., data = wine_train)"
   ]
  },
  {
   "cell_type": "code",
   "execution_count": 21,
   "metadata": {},
   "outputs": [
    {
     "data": {
      "text/plain": [
       "n= 3750 \n",
       "\n",
       "node), split, n, deviance, yval\n",
       "      * denotes terminal node\n",
       "\n",
       " 1) root 3750 2945.53200 5.870933  \n",
       "   2) alcohol< 10.85 2372 1418.86100 5.604975  \n",
       "     4) volatile.acidity>=0.2275 1611  821.30730 5.432030  \n",
       "       8) volatile.acidity>=0.3025 688  278.97670 5.255814 *\n",
       "       9) volatile.acidity< 0.3025 923  505.04230 5.563380 *\n",
       "     5) volatile.acidity< 0.2275 761  447.36400 5.971091 *\n",
       "   3) alcohol>=10.85 1378 1070.08200 6.328737  \n",
       "     6) free.sulfur.dioxide< 10.5 84   95.55952 5.369048 *\n",
       "     7) free.sulfur.dioxide>=10.5 1294  892.13600 6.391036  \n",
       "      14) alcohol< 11.76667 629  430.11130 6.173291  \n",
       "        28) volatile.acidity>=0.465 11   10.72727 4.545455 *\n",
       "        29) volatile.acidity< 0.465 618  389.71680 6.202265 *\n",
       "      15) alcohol>=11.76667 665  403.99400 6.596992 *"
      ]
     },
     "metadata": {},
     "output_type": "display_data"
    }
   ],
   "source": [
    "m.rpart"
   ]
  },
  {
   "cell_type": "code",
   "execution_count": 22,
   "metadata": {
    "collapsed": true
   },
   "outputs": [],
   "source": [
    "# any wine samples with alcohol < 10.85 and volatile.acidity < .2275\n",
    "# would therefore be predicted to have a quality of 5.97"
   ]
  },
  {
   "cell_type": "code",
   "execution_count": 24,
   "metadata": {},
   "outputs": [
    {
     "name": "stdout",
     "output_type": "stream",
     "text": [
      "Call:\n",
      "rpart(formula = quality ~ ., data = wine_train)\n",
      "  n= 3750 \n",
      "\n",
      "          CP nsplit rel error    xerror       xstd\n",
      "1 0.15501053      0 1.0000000 1.0008037 0.02447369\n",
      "2 0.05098911      1 0.8449895 0.8519743 0.02345315\n",
      "3 0.02796998      2 0.7940004 0.8051461 0.02268511\n",
      "4 0.01970128      3 0.7660304 0.7850306 0.02178670\n",
      "5 0.01265926      4 0.7463291 0.7695115 0.02128838\n",
      "6 0.01007193      5 0.7336698 0.7606845 0.02132508\n",
      "7 0.01000000      6 0.7235979 0.7562329 0.02105667\n",
      "\n",
      "Variable importance\n",
      "             alcohol              density     volatile.acidity \n",
      "                  34                   21                   15 \n",
      "           chlorides total.sulfur.dioxide  free.sulfur.dioxide \n",
      "                  11                    7                    6 \n",
      "      residual.sugar            sulphates          citric.acid \n",
      "                   3                    1                    1 \n",
      "\n",
      "Node number 1: 3750 observations,    complexity param=0.1550105\n",
      "  mean=5.870933, MSE=0.7854751 \n",
      "  left son=2 (2372 obs) right son=3 (1378 obs)\n",
      "  Primary splits:\n",
      "      alcohol              < 10.85    to the left,  improve=0.15501050, (0 missing)\n",
      "      density              < 0.992035 to the right, improve=0.10915940, (0 missing)\n",
      "      chlorides            < 0.0395   to the right, improve=0.07682258, (0 missing)\n",
      "      total.sulfur.dioxide < 158.5    to the right, improve=0.04089663, (0 missing)\n",
      "      citric.acid          < 0.235    to the left,  improve=0.03636458, (0 missing)\n",
      "  Surrogate splits:\n",
      "      density              < 0.991995 to the right, agree=0.869, adj=0.644, (0 split)\n",
      "      chlorides            < 0.0375   to the right, agree=0.757, adj=0.339, (0 split)\n",
      "      total.sulfur.dioxide < 103.5    to the right, agree=0.690, adj=0.155, (0 split)\n",
      "      residual.sugar       < 5.375    to the right, agree=0.667, adj=0.094, (0 split)\n",
      "      sulphates            < 0.345    to the right, agree=0.647, adj=0.038, (0 split)\n",
      "\n",
      "Node number 2: 2372 observations,    complexity param=0.05098911\n",
      "  mean=5.604975, MSE=0.5981709 \n",
      "  left son=4 (1611 obs) right son=5 (761 obs)\n",
      "  Primary splits:\n",
      "      volatile.acidity    < 0.2275   to the right, improve=0.10585250, (0 missing)\n",
      "      free.sulfur.dioxide < 13.5     to the left,  improve=0.03390500, (0 missing)\n",
      "      citric.acid         < 0.235    to the left,  improve=0.03204075, (0 missing)\n",
      "      alcohol             < 10.11667 to the left,  improve=0.03136524, (0 missing)\n",
      "      chlorides           < 0.0585   to the right, improve=0.01633599, (0 missing)\n",
      "  Surrogate splits:\n",
      "      pH                   < 3.485    to the left,  agree=0.694, adj=0.047, (0 split)\n",
      "      sulphates            < 0.755    to the left,  agree=0.685, adj=0.020, (0 split)\n",
      "      total.sulfur.dioxide < 105.5    to the right, agree=0.683, adj=0.011, (0 split)\n",
      "      residual.sugar       < 0.75     to the right, agree=0.681, adj=0.007, (0 split)\n",
      "      chlorides            < 0.0285   to the right, agree=0.680, adj=0.003, (0 split)\n",
      "\n",
      "Node number 3: 1378 observations,    complexity param=0.02796998\n",
      "  mean=6.328737, MSE=0.7765472 \n",
      "  left son=6 (84 obs) right son=7 (1294 obs)\n",
      "  Primary splits:\n",
      "      free.sulfur.dioxide  < 10.5     to the left,  improve=0.07699080, (0 missing)\n",
      "      alcohol              < 11.76667 to the left,  improve=0.06210660, (0 missing)\n",
      "      total.sulfur.dioxide < 67.5     to the left,  improve=0.04438619, (0 missing)\n",
      "      residual.sugar       < 1.375    to the left,  improve=0.02905351, (0 missing)\n",
      "      fixed.acidity        < 7.35     to the right, improve=0.02613259, (0 missing)\n",
      "  Surrogate splits:\n",
      "      total.sulfur.dioxide < 53.5     to the left,  agree=0.952, adj=0.214, (0 split)\n",
      "      volatile.acidity     < 0.875    to the right, agree=0.940, adj=0.024, (0 split)\n",
      "\n",
      "Node number 4: 1611 observations,    complexity param=0.01265926\n",
      "  mean=5.43203, MSE=0.5098121 \n",
      "  left son=8 (688 obs) right son=9 (923 obs)\n",
      "  Primary splits:\n",
      "      volatile.acidity    < 0.3025   to the right, improve=0.04540111, (0 missing)\n",
      "      alcohol             < 10.05    to the left,  improve=0.03874403, (0 missing)\n",
      "      free.sulfur.dioxide < 13.5     to the left,  improve=0.03338886, (0 missing)\n",
      "      chlorides           < 0.0495   to the right, improve=0.02574623, (0 missing)\n",
      "      citric.acid         < 0.195    to the left,  improve=0.02327981, (0 missing)\n",
      "  Surrogate splits:\n",
      "      citric.acid          < 0.215    to the left,  agree=0.633, adj=0.141, (0 split)\n",
      "      free.sulfur.dioxide  < 20.5     to the left,  agree=0.600, adj=0.063, (0 split)\n",
      "      chlorides            < 0.0595   to the right, agree=0.593, adj=0.047, (0 split)\n",
      "      residual.sugar       < 1.15     to the left,  agree=0.583, adj=0.023, (0 split)\n",
      "      total.sulfur.dioxide < 219.25   to the right, agree=0.582, adj=0.022, (0 split)\n",
      "\n",
      "Node number 5: 761 observations\n",
      "  mean=5.971091, MSE=0.5878633 \n",
      "\n",
      "Node number 6: 84 observations\n",
      "  mean=5.369048, MSE=1.137613 \n",
      "\n",
      "Node number 7: 1294 observations,    complexity param=0.01970128\n",
      "  mean=6.391036, MSE=0.6894405 \n",
      "  left son=14 (629 obs) right son=15 (665 obs)\n",
      "  Primary splits:\n",
      "      alcohol              < 11.76667 to the left,  improve=0.06504696, (0 missing)\n",
      "      chlorides            < 0.0395   to the right, improve=0.02758705, (0 missing)\n",
      "      fixed.acidity        < 7.35     to the right, improve=0.02750932, (0 missing)\n",
      "      pH                   < 3.055    to the left,  improve=0.02307356, (0 missing)\n",
      "      total.sulfur.dioxide < 191.5    to the right, improve=0.02186818, (0 missing)\n",
      "  Surrogate splits:\n",
      "      density              < 0.990885 to the right, agree=0.720, adj=0.424, (0 split)\n",
      "      volatile.acidity     < 0.2675   to the left,  agree=0.637, adj=0.253, (0 split)\n",
      "      chlorides            < 0.0365   to the right, agree=0.630, adj=0.238, (0 split)\n",
      "      residual.sugar       < 1.475    to the left,  agree=0.575, adj=0.126, (0 split)\n",
      "      total.sulfur.dioxide < 128.5    to the right, agree=0.574, adj=0.124, (0 split)\n",
      "\n",
      "Node number 8: 688 observations\n",
      "  mean=5.255814, MSE=0.4054895 \n",
      "\n",
      "Node number 9: 923 observations\n",
      "  mean=5.56338, MSE=0.5471747 \n",
      "\n",
      "Node number 14: 629 observations,    complexity param=0.01007193\n",
      "  mean=6.173291, MSE=0.6838017 \n",
      "  left son=28 (11 obs) right son=29 (618 obs)\n",
      "  Primary splits:\n",
      "      volatile.acidity     < 0.465    to the right, improve=0.06897561, (0 missing)\n",
      "      total.sulfur.dioxide < 200      to the right, improve=0.04223066, (0 missing)\n",
      "      residual.sugar       < 0.975    to the left,  improve=0.03061714, (0 missing)\n",
      "      fixed.acidity        < 7.35     to the right, improve=0.02978501, (0 missing)\n",
      "      sulphates            < 0.575    to the left,  improve=0.02165970, (0 missing)\n",
      "  Surrogate splits:\n",
      "      citric.acid          < 0.045    to the left,  agree=0.986, adj=0.182, (0 split)\n",
      "      total.sulfur.dioxide < 279.25   to the right, agree=0.986, adj=0.182, (0 split)\n",
      "\n",
      "Node number 15: 665 observations\n",
      "  mean=6.596992, MSE=0.6075098 \n",
      "\n",
      "Node number 28: 11 observations\n",
      "  mean=4.545455, MSE=0.9752066 \n",
      "\n",
      "Node number 29: 618 observations\n",
      "  mean=6.202265, MSE=0.6306098 \n",
      "\n"
     ]
    }
   ],
   "source": [
    "summary(m.rpart)"
   ]
  },
  {
   "cell_type": "code",
   "execution_count": 26,
   "metadata": {
    "collapsed": true
   },
   "outputs": [],
   "source": [
    "library(rpart.plot)"
   ]
  },
  {
   "cell_type": "code",
   "execution_count": 27,
   "metadata": {},
   "outputs": [
    {
     "data": {
      "image/png": "[encoded data removed]",
      "text/plain": [
       "plot without title"
      ]
     },
     "metadata": {},
     "output_type": "display_data"
    }
   ],
   "source": [
    "rpart.plot(m.rpart, digits = 3)"
   ]
  },
  {
   "cell_type": "code",
   "execution_count": 45,
   "metadata": {},
   "outputs": [
    {
     "data": {
      "image/png": "[encoded data removed]",
      "text/plain": [
       "plot without title"
      ]
     },
     "metadata": {},
     "output_type": "display_data"
    }
   ],
   "source": [
    "rpart.plot(m.rpart, digits = 4, fallen.leaves = T, type = 3, extra = 101)"
   ]
  },
  {
   "cell_type": "code",
   "execution_count": 63,
   "metadata": {
    "collapsed": true
   },
   "outputs": [],
   "source": [
    "p.rpart = predict(m.rpart, wine_test)"
   ]
  },
  {
   "cell_type": "code",
   "execution_count": 64,
   "metadata": {},
   "outputs": [
    {
     "data": {
      "text/plain": [
       "   Min. 1st Qu.  Median    Mean 3rd Qu.    Max. \n",
       "  4.545   5.563   5.971   5.893   6.202   6.597 "
      ]
     },
     "metadata": {},
     "output_type": "display_data"
    }
   ],
   "source": [
    "summary(p.rpart)"
   ]
  },
  {
   "cell_type": "code",
   "execution_count": 65,
   "metadata": {},
   "outputs": [
    {
     "data": {
      "text/plain": [
       "   Min. 1st Qu.  Median    Mean 3rd Qu.    Max. \n",
       "  3.000   5.000   6.000   5.901   6.000   9.000 "
      ]
     },
     "metadata": {},
     "output_type": "display_data"
    }
   ],
   "source": [
    "summary(wine_test$quality)"
   ]
  },
  {
   "cell_type": "code",
   "execution_count": 66,
   "metadata": {
    "collapsed": true
   },
   "outputs": [],
   "source": [
    "# problem - the predictions fall on a much narrower range \n",
    "# than the true values.\n",
    "# model is incorrectly identifying extreme cases, but Q1, Q3 are OK.\n",
    "# use correlation to measure the model's performance."
   ]
  },
  {
   "cell_type": "code",
   "execution_count": 67,
   "metadata": {},
   "outputs": [
    {
     "data": {
      "text/html": [
       "0.53695245485698"
      ],
      "text/latex": [
       "0.53695245485698"
      ],
      "text/markdown": [
       "0.53695245485698"
      ],
      "text/plain": [
       "[1] 0.5369525"
      ]
     },
     "metadata": {},
     "output_type": "display_data"
    }
   ],
   "source": [
    "cor(p.rpart, wine_test$quality)"
   ]
  },
  {
   "cell_type": "code",
   "execution_count": 68,
   "metadata": {
    "collapsed": true
   },
   "outputs": [],
   "source": [
    "# this correlation is acceptable.\n",
    "# correlation measures how strongly the predictions are related to the \n",
    "# true value; it is not a measure of how far off the predictions were\n",
    "# from the true values"
   ]
  },
  {
   "cell_type": "markdown",
   "metadata": {},
   "source": [
    "# Measuring performance with the MAE"
   ]
  },
  {
   "cell_type": "markdown",
   "metadata": {},
   "source": [
    "$$MAE=\\frac{1}{n}\\sum_{i=1}^{n}{|e_i|}$$"
   ]
  },
  {
   "cell_type": "code",
   "execution_count": 69,
   "metadata": {
    "collapsed": true
   },
   "outputs": [],
   "source": [
    "MAE = function(actual, predicted) {\n",
    "    mean(abs(actual - predicted))\n",
    "}"
   ]
  },
  {
   "cell_type": "code",
   "execution_count": 70,
   "metadata": {},
   "outputs": [
    {
     "data": {
      "text/html": [
       "0.587265173945366"
      ],
      "text/latex": [
       "0.587265173945366"
      ],
      "text/markdown": [
       "0.587265173945366"
      ],
      "text/plain": [
       "[1] 0.5872652"
      ]
     },
     "metadata": {},
     "output_type": "display_data"
    }
   ],
   "source": [
    "MAE(p.rpart, wine_test$quality)"
   ]
  },
  {
   "cell_type": "code",
   "execution_count": 72,
   "metadata": {
    "collapsed": true
   },
   "outputs": [],
   "source": [
    "# the difference between model's pred. and the true quality is .587"
   ]
  },
  {
   "cell_type": "code",
   "execution_count": 73,
   "metadata": {},
   "outputs": [
    {
     "data": {
      "text/html": [
       "5.87093333333333"
      ],
      "text/latex": [
       "5.87093333333333"
      ],
      "text/markdown": [
       "5.87093333333333"
      ],
      "text/plain": [
       "[1] 5.870933"
      ]
     },
     "metadata": {},
     "output_type": "display_data"
    }
   ],
   "source": [
    "mean(wine_train$quality)"
   ]
  },
  {
   "cell_type": "code",
   "execution_count": 74,
   "metadata": {},
   "outputs": [
    {
     "data": {
      "text/html": [
       "0.672247386759582"
      ],
      "text/latex": [
       "0.672247386759582"
      ],
      "text/markdown": [
       "0.672247386759582"
      ],
      "text/plain": [
       "[1] 0.6722474"
      ]
     },
     "metadata": {},
     "output_type": "display_data"
    }
   ],
   "source": [
    "MAE(5.87, wine_test$quality)"
   ]
  },
  {
   "cell_type": "code",
   "execution_count": 93,
   "metadata": {
    "collapsed": true
   },
   "outputs": [],
   "source": [
    "# model tree improves on regression trees by replacing the leaf nodes\n",
    "# with regression models.\n",
    "# M5P(dv ~ iv, data)\n",
    "# predict(m, test)"
   ]
  },
  {
   "cell_type": "code",
   "execution_count": 78,
   "metadata": {
    "collapsed": true
   },
   "outputs": [],
   "source": [
    "library(RWeka)"
   ]
  },
  {
   "cell_type": "code",
   "execution_count": 79,
   "metadata": {
    "collapsed": true
   },
   "outputs": [],
   "source": [
    "m.m5p = M5P(quality ~ ., data = wine_train)"
   ]
  },
  {
   "cell_type": "code",
   "execution_count": 83,
   "metadata": {},
   "outputs": [
    {
     "data": {
      "text/plain": [
       "M5 pruned model tree:\n",
       "(using smoothed linear models)\n",
       "\n",
       "alcohol <= 10.85 : \n",
       "|   volatile.acidity <= 0.237 : \n",
       "|   |   fixed.acidity <= 6.85 : LM1 (406/66.024%)\n",
       "|   |   fixed.acidity >  6.85 : \n",
       "|   |   |   free.sulfur.dioxide <= 24.5 : LM2 (113/87.697%)\n",
       "|   |   |   free.sulfur.dioxide >  24.5 : \n",
       "|   |   |   |   alcohol <= 9.15 : \n",
       "|   |   |   |   |   citric.acid <= 0.305 : \n",
       "|   |   |   |   |   |   residual.sugar <= 14.45 : \n",
       "|   |   |   |   |   |   |   residual.sugar <= 13.8 : \n",
       "|   |   |   |   |   |   |   |   chlorides <= 0.052 : LM3 (6/77.537%)\n",
       "|   |   |   |   |   |   |   |   chlorides >  0.052 : LM4 (13/0%)\n",
       "|   |   |   |   |   |   |   residual.sugar >  13.8 : LM5 (11/0%)\n",
       "|   |   |   |   |   |   residual.sugar >  14.45 : LM6 (12/0%)\n",
       "|   |   |   |   |   citric.acid >  0.305 : \n",
       "|   |   |   |   |   |   total.sulfur.dioxide <= 169.5 : \n",
       "|   |   |   |   |   |   |   total.sulfur.dioxide <= 161.5 : \n",
       "|   |   |   |   |   |   |   |   pH <= 3.355 : \n",
       "|   |   |   |   |   |   |   |   |   volatile.acidity <= 0.215 : \n",
       "|   |   |   |   |   |   |   |   |   |   free.sulfur.dioxide <= 44 : LM7 (3/53.19%)\n",
       "|   |   |   |   |   |   |   |   |   |   free.sulfur.dioxide >  44 : LM8 (8/48.858%)\n",
       "|   |   |   |   |   |   |   |   |   volatile.acidity >  0.215 : LM9 (3/0%)\n",
       "|   |   |   |   |   |   |   |   pH >  3.355 : LM10 (4/0%)\n",
       "|   |   |   |   |   |   |   total.sulfur.dioxide >  161.5 : LM11 (6/0%)\n",
       "|   |   |   |   |   |   total.sulfur.dioxide >  169.5 : \n",
       "|   |   |   |   |   |   |   sulphates <= 0.56 : \n",
       "|   |   |   |   |   |   |   |   free.sulfur.dioxide <= 48.5 : LM12 (7/0%)\n",
       "|   |   |   |   |   |   |   |   free.sulfur.dioxide >  48.5 : \n",
       "|   |   |   |   |   |   |   |   |   fixed.acidity <= 7.3 : LM13 (5/0%)\n",
       "|   |   |   |   |   |   |   |   |   fixed.acidity >  7.3 : LM14 (4/0%)\n",
       "|   |   |   |   |   |   |   sulphates >  0.56 : LM15 (11/0%)\n",
       "|   |   |   |   alcohol >  9.15 : \n",
       "|   |   |   |   |   density <= 0.996 : \n",
       "|   |   |   |   |   |   sulphates <= 0.395 : LM16 (38/85.791%)\n",
       "|   |   |   |   |   |   sulphates >  0.395 : LM17 (120/71.353%)\n",
       "|   |   |   |   |   density >  0.996 : \n",
       "|   |   |   |   |   |   residual.sugar <= 14.7 : LM18 (84/45.874%)\n",
       "|   |   |   |   |   |   residual.sugar >  14.7 : LM19 (24/62.764%)\n",
       "|   volatile.acidity >  0.237 : \n",
       "|   |   alcohol <= 10.15 : \n",
       "|   |   |   volatile.acidity <= 0.302 : \n",
       "|   |   |   |   citric.acid <= 0.265 : \n",
       "|   |   |   |   |   free.sulfur.dioxide <= 25.5 : LM20 (39/41.77%)\n",
       "|   |   |   |   |   free.sulfur.dioxide >  25.5 : LM21 (131/61.681%)\n",
       "|   |   |   |   citric.acid >  0.265 : \n",
       "|   |   |   |   |   citric.acid <= 0.395 : LM22 (213/72.749%)\n",
       "|   |   |   |   |   citric.acid >  0.395 : LM23 (189/62.097%)\n",
       "|   |   |   volatile.acidity >  0.302 : LM24 (552/64.09%)\n",
       "|   |   alcohol >  10.15 : \n",
       "|   |   |   free.sulfur.dioxide <= 26.5 : LM25 (151/75.998%)\n",
       "|   |   |   free.sulfur.dioxide >  26.5 : \n",
       "|   |   |   |   total.sulfur.dioxide <= 161.5 : LM26 (142/74.4%)\n",
       "|   |   |   |   total.sulfur.dioxide >  161.5 : LM27 (77/77.736%)\n",
       "alcohol >  10.85 : \n",
       "|   alcohol <= 11.767 : \n",
       "|   |   free.sulfur.dioxide <= 21.5 : \n",
       "|   |   |   free.sulfur.dioxide <= 11.5 : \n",
       "|   |   |   |   density <= 0.992 : LM28 (19/84.403%)\n",
       "|   |   |   |   density >  0.992 : \n",
       "|   |   |   |   |   fixed.acidity <= 6.85 : LM29 (6/108.029%)\n",
       "|   |   |   |   |   fixed.acidity >  6.85 : LM30 (21/69.935%)\n",
       "|   |   |   free.sulfur.dioxide >  11.5 : \n",
       "|   |   |   |   volatile.acidity <= 0.195 : LM31 (36/61.98%)\n",
       "|   |   |   |   volatile.acidity >  0.195 : \n",
       "|   |   |   |   |   chlorides <= 0.036 : LM32 (34/115.199%)\n",
       "|   |   |   |   |   chlorides >  0.036 : LM33 (59/78.207%)\n",
       "|   |   free.sulfur.dioxide >  21.5 : LM34 (495/84.229%)\n",
       "|   alcohol >  11.767 : \n",
       "|   |   free.sulfur.dioxide <= 21.5 : LM35 (181/88.599%)\n",
       "|   |   free.sulfur.dioxide >  21.5 : LM36 (527/81.837%)\n",
       "\n",
       "LM num: 1\n",
       "quality = \n",
       "\t0.266 * fixed.acidity \n",
       "\t- 2.3082 * volatile.acidity \n",
       "\t- 0.012 * citric.acid \n",
       "\t+ 0.0421 * residual.sugar \n",
       "\t+ 0.1126 * chlorides \n",
       "\t+ 0 * free.sulfur.dioxide \n",
       "\t- 0.0015 * total.sulfur.dioxide \n",
       "\t- 109.8813 * density \n",
       "\t+ 0.035 * pH \n",
       "\t+ 1.4122 * sulphates \n",
       "\t- 0.0046 * alcohol \n",
       "\t+ 113.1021\n",
       "\n",
       "LM num: 2\n",
       "quality = \n",
       "\t-0.2557 * fixed.acidity \n",
       "\t- 0.8082 * volatile.acidity \n",
       "\t- 0.1062 * citric.acid \n",
       "\t+ 0.0738 * residual.sugar \n",
       "\t+ 0.0973 * chlorides \n",
       "\t+ 0.0006 * free.sulfur.dioxide \n",
       "\t+ 0.0003 * total.sulfur.dioxide \n",
       "\t- 210.1018 * density \n",
       "\t+ 0.0323 * pH \n",
       "\t- 0.9604 * sulphates \n",
       "\t- 0.0231 * alcohol \n",
       "\t+ 216.8857\n",
       "\n",
       "LM num: 3\n",
       "quality = \n",
       "\t0.0725 * fixed.acidity \n",
       "\t- 1.0921 * volatile.acidity \n",
       "\t- 0.6118 * citric.acid \n",
       "\t+ 0.0294 * residual.sugar \n",
       "\t+ 105.3735 * chlorides \n",
       "\t- 0.0027 * free.sulfur.dioxide \n",
       "\t+ 0.0001 * total.sulfur.dioxide \n",
       "\t- 31.5856 * density \n",
       "\t+ 0.0323 * pH \n",
       "\t+ 0.1199 * sulphates \n",
       "\t- 0.0373 * alcohol \n",
       "\t+ 32.2345\n",
       "\n",
       "LM num: 4\n",
       "quality = \n",
       "\t0.0725 * fixed.acidity \n",
       "\t- 1.0921 * volatile.acidity \n",
       "\t- 0.6118 * citric.acid \n",
       "\t+ 0.0294 * residual.sugar \n",
       "\t+ 99.4295 * chlorides \n",
       "\t- 0.0027 * free.sulfur.dioxide \n",
       "\t+ 0.0001 * total.sulfur.dioxide \n",
       "\t- 31.5856 * density \n",
       "\t+ 0.0323 * pH \n",
       "\t+ 0.1199 * sulphates \n",
       "\t- 0.0373 * alcohol \n",
       "\t+ 32.6786\n",
       "\n",
       "LM num: 5\n",
       "quality = \n",
       "\t0.0944 * fixed.acidity \n",
       "\t- 1.0921 * volatile.acidity \n",
       "\t- 0.6118 * citric.acid \n",
       "\t+ 0.0255 * residual.sugar \n",
       "\t+ 95.8527 * chlorides \n",
       "\t- 0.0027 * free.sulfur.dioxide \n",
       "\t+ 0.0001 * total.sulfur.dioxide \n",
       "\t- 31.5856 * density \n",
       "\t+ 0.0323 * pH \n",
       "\t+ 0.1199 * sulphates \n",
       "\t- 0.0373 * alcohol \n",
       "\t+ 32.9544\n",
       "\n",
       "LM num: 6\n",
       "quality = \n",
       "\t0.0012 * fixed.acidity \n",
       "\t- 1.0921 * volatile.acidity \n",
       "\t- 0.6118 * citric.acid \n",
       "\t+ 0.0491 * residual.sugar \n",
       "\t+ 54.3184 * chlorides \n",
       "\t- 0.0027 * free.sulfur.dioxide \n",
       "\t+ 0.0001 * total.sulfur.dioxide \n",
       "\t- 31.5856 * density \n",
       "\t+ 0.0323 * pH \n",
       "\t+ 0.1199 * sulphates \n",
       "\t- 0.0373 * alcohol \n",
       "\t+ 35.4429\n",
       "\n",
       "LM num: 7\n",
       "quality = \n",
       "\t0.0012 * fixed.acidity \n",
       "\t- 2.7131 * volatile.acidity \n",
       "\t- 1.0049 * citric.acid \n",
       "\t+ 0.0297 * residual.sugar \n",
       "\t+ 5.7935 * chlorides \n",
       "\t- 0.0147 * free.sulfur.dioxide \n",
       "\t+ 0.0001 * total.sulfur.dioxide \n",
       "\t- 31.5856 * density \n",
       "\t+ 0.633 * pH \n",
       "\t+ 0.1199 * sulphates \n",
       "\t- 0.0373 * alcohol \n",
       "\t+ 36.9235\n",
       "\n",
       "LM num: 8\n",
       "quality = \n",
       "\t0.0012 * fixed.acidity \n",
       "\t- 2.7131 * volatile.acidity \n",
       "\t- 1.0049 * citric.acid \n",
       "\t+ 0.0297 * residual.sugar \n",
       "\t+ 5.7935 * chlorides \n",
       "\t- 0.0141 * free.sulfur.dioxide \n",
       "\t+ 0.0001 * total.sulfur.dioxide \n",
       "\t- 31.5856 * density \n",
       "\t+ 0.633 * pH \n",
       "\t+ 0.1199 * sulphates \n",
       "\t- 0.0373 * alcohol \n",
       "\t+ 36.8808\n",
       "\n",
       "LM num: 9\n",
       "quality = \n",
       "\t0.0012 * fixed.acidity \n",
       "\t- 3.4336 * volatile.acidity \n",
       "\t- 1.0049 * citric.acid \n",
       "\t+ 0.0297 * residual.sugar \n",
       "\t+ 5.7935 * chlorides \n",
       "\t- 0.0146 * free.sulfur.dioxide \n",
       "\t+ 0.0001 * total.sulfur.dioxide \n",
       "\t- 31.5856 * density \n",
       "\t+ 0.633 * pH \n",
       "\t+ 0.1199 * sulphates \n",
       "\t- 0.0373 * alcohol \n",
       "\t+ 37.0118\n",
       "\n",
       "LM num: 10\n",
       "quality = \n",
       "\t0.0012 * fixed.acidity \n",
       "\t- 1.0921 * volatile.acidity \n",
       "\t- 1.0049 * citric.acid \n",
       "\t+ 0.0297 * residual.sugar \n",
       "\t+ 5.7935 * chlorides \n",
       "\t- 0.0065 * free.sulfur.dioxide \n",
       "\t+ 0.0001 * total.sulfur.dioxide \n",
       "\t- 31.5856 * density \n",
       "\t+ 0.8211 * pH \n",
       "\t+ 0.1199 * sulphates \n",
       "\t- 0.0373 * alcohol \n",
       "\t+ 35.686\n",
       "\n",
       "LM num: 11\n",
       "quality = \n",
       "\t0.0012 * fixed.acidity \n",
       "\t- 1.0921 * volatile.acidity \n",
       "\t- 1.0049 * citric.acid \n",
       "\t+ 0.0297 * residual.sugar \n",
       "\t+ 5.7935 * chlorides \n",
       "\t- 0.0065 * free.sulfur.dioxide \n",
       "\t+ 0.0001 * total.sulfur.dioxide \n",
       "\t- 31.5856 * density \n",
       "\t+ 0.2757 * pH \n",
       "\t+ 0.1199 * sulphates \n",
       "\t- 0.0373 * alcohol \n",
       "\t+ 37.5168\n",
       "\n",
       "LM num: 12\n",
       "quality = \n",
       "\t-0.0571 * fixed.acidity \n",
       "\t- 1.0921 * volatile.acidity \n",
       "\t- 1.534 * citric.acid \n",
       "\t+ 0.0297 * residual.sugar \n",
       "\t+ 5.7935 * chlorides \n",
       "\t- 0.0098 * free.sulfur.dioxide \n",
       "\t+ 0.0001 * total.sulfur.dioxide \n",
       "\t- 31.5856 * density \n",
       "\t+ 0.2583 * pH \n",
       "\t+ 0.3345 * sulphates \n",
       "\t- 0.0373 * alcohol \n",
       "\t+ 38.0548\n",
       "\n",
       "LM num: 13\n",
       "quality = \n",
       "\t-0.304 * fixed.acidity \n",
       "\t- 1.0921 * volatile.acidity \n",
       "\t+ 0.3698 * citric.acid \n",
       "\t+ 0.0297 * residual.sugar \n",
       "\t+ 5.7935 * chlorides \n",
       "\t- 0.0097 * free.sulfur.dioxide \n",
       "\t+ 0.0001 * total.sulfur.dioxide \n",
       "\t- 31.5856 * density \n",
       "\t+ 0.2583 * pH \n",
       "\t+ 0.3345 * sulphates \n",
       "\t- 0.0373 * alcohol \n",
       "\t+ 39.1208\n",
       "\n",
       "LM num: 14\n",
       "quality = \n",
       "\t-0.317 * fixed.acidity \n",
       "\t- 1.0921 * volatile.acidity \n",
       "\t- 1.5116 * citric.acid \n",
       "\t+ 0.0297 * residual.sugar \n",
       "\t+ 5.7935 * chlorides \n",
       "\t- 0.0097 * free.sulfur.dioxide \n",
       "\t+ 0.0001 * total.sulfur.dioxide \n",
       "\t- 31.5856 * density \n",
       "\t+ 0.2583 * pH \n",
       "\t+ 0.3345 * sulphates \n",
       "\t- 0.0373 * alcohol \n",
       "\t+ 39.9144\n",
       "\n",
       "LM num: 15\n",
       "quality = \n",
       "\t-0.0683 * fixed.acidity \n",
       "\t- 1.0921 * volatile.acidity \n",
       "\t- 1.3217 * citric.acid \n",
       "\t+ 0.0297 * residual.sugar \n",
       "\t+ 5.7935 * chlorides \n",
       "\t- 0.0088 * free.sulfur.dioxide \n",
       "\t+ 0.0001 * total.sulfur.dioxide \n",
       "\t- 31.5856 * density \n",
       "\t+ 0.2583 * pH \n",
       "\t+ 0.3758 * sulphates \n",
       "\t- 0.0373 * alcohol \n",
       "\t+ 37.9875\n",
       "\n",
       "LM num: 16\n",
       "quality = \n",
       "\t-0.4138 * fixed.acidity \n",
       "\t- 2.4188 * volatile.acidity \n",
       "\t- 0.1001 * citric.acid \n",
       "\t+ 0.0519 * residual.sugar \n",
       "\t+ 1.2445 * chlorides \n",
       "\t+ 0.0002 * free.sulfur.dioxide \n",
       "\t+ 0.0001 * total.sulfur.dioxide \n",
       "\t+ 146.7811 * density \n",
       "\t+ 0.5635 * pH \n",
       "\t+ 0.3884 * sulphates \n",
       "\t+ 0.7403 * alcohol \n",
       "\t- 145.8266\n",
       "\n",
       "LM num: 17\n",
       "quality = \n",
       "\t0.2744 * fixed.acidity \n",
       "\t- 3.6766 * volatile.acidity \n",
       "\t- 0.1001 * citric.acid \n",
       "\t+ 0.0846 * residual.sugar \n",
       "\t+ 0.5477 * chlorides \n",
       "\t+ 0.0002 * free.sulfur.dioxide \n",
       "\t+ 0.0001 * total.sulfur.dioxide \n",
       "\t- 239.7241 * density \n",
       "\t+ 1.5648 * pH \n",
       "\t+ 0.8289 * sulphates \n",
       "\t- 0.0207 * alcohol \n",
       "\t+ 237.4198\n",
       "\n",
       "LM num: 18\n",
       "quality = \n",
       "\t0.0178 * fixed.acidity \n",
       "\t- 1.19 * volatile.acidity \n",
       "\t- 0.1001 * citric.acid \n",
       "\t+ 0.041 * residual.sugar \n",
       "\t+ 0.0973 * chlorides \n",
       "\t+ 0.0002 * free.sulfur.dioxide \n",
       "\t+ 0.0001 * total.sulfur.dioxide \n",
       "\t- 46.7151 * density \n",
       "\t+ 0.1443 * pH \n",
       "\t+ 0.1669 * sulphates \n",
       "\t- 0.0207 * alcohol \n",
       "\t+ 51.8086\n",
       "\n",
       "LM num: 19\n",
       "quality = \n",
       "\t0.0178 * fixed.acidity \n",
       "\t- 11.6553 * volatile.acidity \n",
       "\t- 0.1001 * citric.acid \n",
       "\t+ 0.0199 * residual.sugar \n",
       "\t+ 0.0973 * chlorides \n",
       "\t+ 0.0002 * free.sulfur.dioxide \n",
       "\t+ 0.0044 * total.sulfur.dioxide \n",
       "\t- 46.7151 * density \n",
       "\t+ 2.2855 * pH \n",
       "\t+ 0.1669 * sulphates \n",
       "\t- 0.0207 * alcohol \n",
       "\t+ 46.4726\n",
       "\n",
       "LM num: 20\n",
       "quality = \n",
       "\t-0.0389 * fixed.acidity \n",
       "\t- 0.2704 * volatile.acidity \n",
       "\t+ 0.6445 * citric.acid \n",
       "\t+ 0.0043 * residual.sugar \n",
       "\t- 11.7525 * chlorides \n",
       "\t+ 0.0148 * free.sulfur.dioxide \n",
       "\t+ 13.1536 * density \n",
       "\t- 0.2235 * pH \n",
       "\t+ 0.0154 * sulphates \n",
       "\t+ 0.1335 * alcohol \n",
       "\t- 8.119\n",
       "\n",
       "LM num: 21\n",
       "quality = \n",
       "\t-0.0139 * fixed.acidity \n",
       "\t- 0.2704 * volatile.acidity \n",
       "\t+ 2.7911 * citric.acid \n",
       "\t+ 0.0043 * residual.sugar \n",
       "\t- 16.394 * chlorides \n",
       "\t- 0.0093 * free.sulfur.dioxide \n",
       "\t- 0.0028 * total.sulfur.dioxide \n",
       "\t+ 2.2255 * density \n",
       "\t- 0.088 * pH \n",
       "\t+ 0.0154 * sulphates \n",
       "\t+ 0.285 * alcohol \n",
       "\t+ 1.9775\n",
       "\n",
       "LM num: 22\n",
       "quality = \n",
       "\t0.0008 * fixed.acidity \n",
       "\t- 3.3571 * volatile.acidity \n",
       "\t- 0.0474 * citric.acid \n",
       "\t+ 0.0167 * residual.sugar \n",
       "\t+ 0.0002 * free.sulfur.dioxide \n",
       "\t- 0.0001 * total.sulfur.dioxide \n",
       "\t- 2.6496 * density \n",
       "\t+ 0.0071 * pH \n",
       "\t+ 0.0154 * sulphates \n",
       "\t+ 0.0295 * alcohol \n",
       "\t+ 8.7127\n",
       "\n",
       "LM num: 23\n",
       "quality = \n",
       "\t0.0008 * fixed.acidity \n",
       "\t- 0.1682 * volatile.acidity \n",
       "\t- 0.0533 * citric.acid \n",
       "\t+ 0.0034 * residual.sugar \n",
       "\t+ 0.0112 * free.sulfur.dioxide \n",
       "\t- 0.004 * total.sulfur.dioxide \n",
       "\t- 2.4685 * density \n",
       "\t+ 0.0071 * pH \n",
       "\t+ 0.0154 * sulphates \n",
       "\t+ 0.3099 * alcohol \n",
       "\t+ 5.1272\n",
       "\n",
       "LM num: 24\n",
       "quality = \n",
       "\t-0.1011 * fixed.acidity \n",
       "\t- 0.8767 * volatile.acidity \n",
       "\t+ 0.0025 * citric.acid \n",
       "\t+ 0.0183 * residual.sugar \n",
       "\t- 1.5815 * chlorides \n",
       "\t+ 0 * free.sulfur.dioxide \n",
       "\t+ 0.0015 * total.sulfur.dioxide \n",
       "\t- 4.1889 * density \n",
       "\t+ 0.0195 * pH \n",
       "\t+ 0.0154 * sulphates \n",
       "\t+ 0.2656 * alcohol \n",
       "\t+ 7.556\n",
       "\n",
       "LM num: 25\n",
       "quality = \n",
       "\t0.1885 * fixed.acidity \n",
       "\t- 1.6681 * volatile.acidity \n",
       "\t+ 0.0075 * citric.acid \n",
       "\t+ 0.1434 * residual.sugar \n",
       "\t+ 0.0181 * free.sulfur.dioxide \n",
       "\t- 438.9263 * density \n",
       "\t+ 1.5263 * pH \n",
       "\t+ 1.5041 * sulphates \n",
       "\t+ 0.0067 * alcohol \n",
       "\t+ 434.1083\n",
       "\n",
       "LM num: 26\n",
       "quality = \n",
       "\t0.3156 * fixed.acidity \n",
       "\t- 0.3103 * volatile.acidity \n",
       "\t+ 0.0075 * citric.acid \n",
       "\t+ 0.0769 * residual.sugar \n",
       "\t+ 0.0157 * free.sulfur.dioxide \n",
       "\t- 0.0006 * total.sulfur.dioxide \n",
       "\t- 224.3886 * density \n",
       "\t+ 2.8971 * pH \n",
       "\t+ 1.4123 * sulphates \n",
       "\t+ 0.0067 * alcohol \n",
       "\t+ 215.8849\n",
       "\n",
       "LM num: 27\n",
       "quality = \n",
       "\t0.0704 * fixed.acidity \n",
       "\t- 1.6931 * volatile.acidity \n",
       "\t+ 0.0075 * citric.acid \n",
       "\t+ 0.0268 * residual.sugar \n",
       "\t+ 0 * free.sulfur.dioxide \n",
       "\t- 0.0058 * total.sulfur.dioxide \n",
       "\t- 69.0546 * density \n",
       "\t+ 0.5221 * pH \n",
       "\t+ 0.3033 * sulphates \n",
       "\t+ 0.0067 * alcohol \n",
       "\t+ 73.2245\n",
       "\n",
       "LM num: 28\n",
       "quality = \n",
       "\t-0.0359 * fixed.acidity \n",
       "\t- 2.1355 * volatile.acidity \n",
       "\t+ 0.0312 * residual.sugar \n",
       "\t- 0.7007 * chlorides \n",
       "\t+ 0.0139 * free.sulfur.dioxide \n",
       "\t- 3.9257 * density \n",
       "\t+ 0.1002 * pH \n",
       "\t+ 0.0883 * sulphates \n",
       "\t+ 0.0057 * alcohol \n",
       "\t+ 9.0802\n",
       "\n",
       "LM num: 29\n",
       "quality = \n",
       "\t-0.1622 * fixed.acidity \n",
       "\t- 1.936 * volatile.acidity \n",
       "\t+ 0.0312 * residual.sugar \n",
       "\t- 0.7007 * chlorides \n",
       "\t+ 0.0139 * free.sulfur.dioxide \n",
       "\t- 8.2054 * density \n",
       "\t+ 0.5998 * pH \n",
       "\t+ 0.0883 * sulphates \n",
       "\t+ 0.0057 * alcohol \n",
       "\t+ 13.1705\n",
       "\n",
       "LM num: 30\n",
       "quality = \n",
       "\t-0.1095 * fixed.acidity \n",
       "\t- 1.936 * volatile.acidity \n",
       "\t+ 0.0312 * residual.sugar \n",
       "\t- 0.7007 * chlorides \n",
       "\t+ 0.0139 * free.sulfur.dioxide \n",
       "\t- 8.2054 * density \n",
       "\t+ 0.8708 * pH \n",
       "\t+ 0.0883 * sulphates \n",
       "\t+ 0.0057 * alcohol \n",
       "\t+ 11.7475\n",
       "\n",
       "LM num: 31\n",
       "quality = \n",
       "\t-0.2583 * fixed.acidity \n",
       "\t- 1.4215 * volatile.acidity \n",
       "\t- 1.371 * citric.acid \n",
       "\t+ 0.0305 * residual.sugar \n",
       "\t- 3.2137 * chlorides \n",
       "\t+ 0.0063 * free.sulfur.dioxide \n",
       "\t- 18.7292 * density \n",
       "\t+ 0.1002 * pH \n",
       "\t+ 0.0883 * sulphates \n",
       "\t+ 0.1232 * alcohol \n",
       "\t+ 25.7445\n",
       "\n",
       "LM num: 32\n",
       "quality = \n",
       "\t-0.0968 * fixed.acidity \n",
       "\t- 0.9855 * volatile.acidity \n",
       "\t+ 0.0245 * residual.sugar \n",
       "\t- 4.6936 * chlorides \n",
       "\t+ 0.0063 * free.sulfur.dioxide \n",
       "\t- 18.7292 * density \n",
       "\t- 0.2017 * pH \n",
       "\t+ 0.0883 * sulphates \n",
       "\t+ 0.0612 * alcohol \n",
       "\t+ 25.5306\n",
       "\n",
       "LM num: 33\n",
       "quality = \n",
       "\t-0.0764 * fixed.acidity \n",
       "\t- 0.9855 * volatile.acidity \n",
       "\t+ 0.0461 * residual.sugar \n",
       "\t- 3.7456 * chlorides \n",
       "\t+ 0.0063 * free.sulfur.dioxide \n",
       "\t- 18.7292 * density \n",
       "\t- 0.0997 * pH \n",
       "\t+ 0.0883 * sulphates \n",
       "\t+ 0.4563 * alcohol \n",
       "\t+ 20.1476\n",
       "\n",
       "LM num: 34\n",
       "quality = \n",
       "\t0.0026 * fixed.acidity \n",
       "\t- 1.5467 * volatile.acidity \n",
       "\t+ 0.5902 * citric.acid \n",
       "\t+ 0.0796 * residual.sugar \n",
       "\t- 7.6293 * chlorides \n",
       "\t+ 0.0004 * free.sulfur.dioxide \n",
       "\t- 0.002 * total.sulfur.dioxide \n",
       "\t- 105.9188 * density \n",
       "\t+ 0.9409 * pH \n",
       "\t+ 1.1632 * sulphates \n",
       "\t+ 0.0057 * alcohol \n",
       "\t+ 108.0478\n",
       "\n",
       "LM num: 35\n",
       "quality = \n",
       "\t0.1974 * fixed.acidity \n",
       "\t- 1.5244 * volatile.acidity \n",
       "\t- 1.1342 * citric.acid \n",
       "\t+ 0.1108 * residual.sugar \n",
       "\t- 0.5309 * chlorides \n",
       "\t+ 0.0345 * free.sulfur.dioxide \n",
       "\t+ 0.0002 * total.sulfur.dioxide \n",
       "\t- 306.9205 * density \n",
       "\t+ 1.162 * pH \n",
       "\t+ 0.0755 * sulphates \n",
       "\t- 0.0054 * alcohol \n",
       "\t+ 305.176\n",
       "\n",
       "LM num: 36\n",
       "quality = \n",
       "\t0.2738 * fixed.acidity \n",
       "\t- 0.0442 * volatile.acidity \n",
       "\t+ 0.1664 * residual.sugar \n",
       "\t- 7.6486 * chlorides \n",
       "\t+ 0.0005 * free.sulfur.dioxide \n",
       "\t+ 0.0001 * total.sulfur.dioxide \n",
       "\t- 350.199 * density \n",
       "\t+ 1.7781 * pH \n",
       "\t+ 1.0583 * sulphates \n",
       "\t- 0.1722 * alcohol \n",
       "\t+ 347.3058\n",
       "\n",
       "Number of Rules : 36"
      ]
     },
     "metadata": {},
     "output_type": "display_data"
    }
   ],
   "source": [
    "# nodes terminate in a linear model\n",
    "m.m5p"
   ]
  },
  {
   "cell_type": "code",
   "execution_count": 92,
   "metadata": {
    "collapsed": true
   },
   "outputs": [],
   "source": [
    "# LM num: 1\n",
    "# quality =\n",
    "#     0.266 * fixed.acidity \n",
    "#     - 2.3082 * volatile.acidity\n",
    "# for an increase of 1 unit of acidity, the wine quality is\n",
    "# expected to increase by .266"
   ]
  },
  {
   "cell_type": "code",
   "execution_count": 85,
   "metadata": {},
   "outputs": [
    {
     "data": {
      "text/plain": [
       "\n",
       "=== Summary ===\n",
       "\n",
       "Correlation coefficient                  0.6666\n",
       "Mean absolute error                      0.5151\n",
       "Root mean squared error                  0.6614\n",
       "Relative absolute error                 76.4921 %\n",
       "Root relative squared error             74.6259 %\n",
       "Total Number of Instances             3750     "
      ]
     },
     "metadata": {},
     "output_type": "display_data"
    }
   ],
   "source": [
    "summary(m.m5p)"
   ]
  },
  {
   "cell_type": "code",
   "execution_count": 86,
   "metadata": {
    "collapsed": true
   },
   "outputs": [],
   "source": [
    "p.m5p = predict(m.m5p, wine_test)"
   ]
  },
  {
   "cell_type": "code",
   "execution_count": 87,
   "metadata": {},
   "outputs": [
    {
     "data": {
      "text/plain": [
       "   Min. 1st Qu.  Median    Mean 3rd Qu.    Max. \n",
       "  4.389   5.430   5.863   5.874   6.305   7.437 "
      ]
     },
     "metadata": {},
     "output_type": "display_data"
    }
   ],
   "source": [
    "summary(p.m5p)"
   ]
  },
  {
   "cell_type": "markdown",
   "metadata": {},
   "source": [
    "the model tree appears to be predicting a wider range of values than the regression tree"
   ]
  },
  {
   "cell_type": "code",
   "execution_count": 89,
   "metadata": {},
   "outputs": [
    {
     "data": {
      "text/html": [
       "0.627297294215539"
      ],
      "text/latex": [
       "0.627297294215539"
      ],
      "text/markdown": [
       "0.627297294215539"
      ],
      "text/plain": [
       "[1] 0.6272973"
      ]
     },
     "metadata": {},
     "output_type": "display_data"
    }
   ],
   "source": [
    "cor(p.m5p, wine_test$quality)"
   ]
  },
  {
   "cell_type": "markdown",
   "metadata": {},
   "source": [
    "the correlation also seems to be substantially higher"
   ]
  },
  {
   "cell_type": "code",
   "execution_count": 94,
   "metadata": {},
   "outputs": [
    {
     "data": {
      "text/html": [
       "0.546302276753945"
      ],
      "text/latex": [
       "0.546302276753945"
      ],
      "text/markdown": [
       "0.546302276753945"
      ],
      "text/plain": [
       "[1] 0.5463023"
      ]
     },
     "metadata": {},
     "output_type": "display_data"
    }
   ],
   "source": [
    "MAE(wine_test$quality, p.m5p)"
   ]
  },
  {
   "cell_type": "markdown",
   "metadata": {},
   "source": [
    "the model has slightly reduced the mean absolute error"
   ]
  }
 ],
 "metadata": {
  "kernelspec": {
   "display_name": "R",
   "language": "R",
   "name": "ir"
  },
  "language_info": {
   "codemirror_mode": "r",
   "file_extension": ".r",
   "mimetype": "text/x-r-source",
   "name": "R",
   "pygments_lexer": "r",
   "version": "3.4.0"
  }
 },
 "nbformat": 4,
 "nbformat_minor": 2
}
