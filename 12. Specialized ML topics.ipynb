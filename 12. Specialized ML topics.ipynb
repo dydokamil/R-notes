{
 "cells": [
  {
   "cell_type": "code",
   "execution_count": 2,
   "metadata": {},
   "outputs": [],
   "source": [
    "library('rio')"
   ]
  },
  {
   "cell_type": "code",
   "execution_count": 3,
   "metadata": {
    "collapsed": true
   },
   "outputs": [],
   "source": [
    "credit = import('../../R_projects//MLwR/Machine Learning with R (2nd Ed.)//Chapter 05//credit.csv')"
   ]
  },
  {
   "cell_type": "code",
   "execution_count": 6,
   "metadata": {
    "collapsed": true
   },
   "outputs": [],
   "source": [
    "# export as xlsx\n",
    "# export(credit, 'credit.xlsx')"
   ]
  },
  {
   "cell_type": "code",
   "execution_count": 7,
   "metadata": {
    "collapsed": true
   },
   "outputs": [],
   "source": [
    "# convert a file\n",
    "# convert('credit.csv', 'credit.dta')"
   ]
  },
  {
   "cell_type": "code",
   "execution_count": 16,
   "metadata": {},
   "outputs": [],
   "source": [
    "library('RODBC')"
   ]
  },
  {
   "cell_type": "code",
   "execution_count": 18,
   "metadata": {},
   "outputs": [],
   "source": [
    "# my_db = odbcConnect('my_dsn') # no password\n",
    "# my_db = odbcConnect('my_dsn',\n",
    "#     uid = 'my_username',\n",
    "#     pwd = 'my_password')"
   ]
  },
  {
   "cell_type": "code",
   "execution_count": 19,
   "metadata": {
    "collapsed": true
   },
   "outputs": [],
   "source": [
    "# my_query = 'select * from my_table where my_value = 1'\n",
    "# results_df = sqlQuery(channel = my_db, query = sql_query,\n",
    "#     stringsAsFactors = FALSE)"
   ]
  },
  {
   "cell_type": "code",
   "execution_count": 20,
   "metadata": {
    "collapsed": true
   },
   "outputs": [],
   "source": [
    "# close the database connection:\n",
    "# odbcClose(my_db)"
   ]
  },
  {
   "cell_type": "code",
   "execution_count": 21,
   "metadata": {
    "collapsed": true
   },
   "outputs": [],
   "source": [
    "# read csv from the web\n",
    "# mydata = read.csv('http...')"
   ]
  },
  {
   "cell_type": "code",
   "execution_count": 22,
   "metadata": {
    "collapsed": true
   },
   "outputs": [],
   "source": [
    "# if the above doesn't work try:\n",
    "# mytext = readLines('http...')"
   ]
  },
  {
   "cell_type": "code",
   "execution_count": 23,
   "metadata": {
    "collapsed": true
   },
   "outputs": [],
   "source": [
    "# download.file('http...')"
   ]
  },
  {
   "cell_type": "markdown",
   "metadata": {},
   "source": [
    "## downloading the complete text of web pages"
   ]
  },
  {
   "cell_type": "code",
   "execution_count": 27,
   "metadata": {},
   "outputs": [],
   "source": [
    "library('RCurl')"
   ]
  },
  {
   "cell_type": "code",
   "execution_count": 30,
   "metadata": {
    "collapsed": true
   },
   "outputs": [],
   "source": [
    "packt_page = getURL('https://www.packtpub.com/')"
   ]
  },
  {
   "cell_type": "code",
   "execution_count": 31,
   "metadata": {},
   "outputs": [
    {
     "name": "stdout",
     "output_type": "stream",
     "text": [
      " chr \"<!DOCTYPE html>\\n<html xmlns=\\\"http://www.w3.org/1999/xhtml\\\" lang=\\\"en\\\" xml:lang=\\\"en\\\">\\n\\t<head>\\n\\t\\t<title>Packt Publishing | Technology Books, eBooks & Videos</title>\\n\\t\\t<scr\"| __truncated__\n"
     ]
    }
   ],
   "source": [
    "str(packt_page, nchar.max = 200)"
   ]
  },
  {
   "cell_type": "code",
   "execution_count": 33,
   "metadata": {},
   "outputs": [],
   "source": [
    "library('httr')"
   ]
  },
  {
   "cell_type": "code",
   "execution_count": 34,
   "metadata": {
    "collapsed": true
   },
   "outputs": [],
   "source": [
    "packt_page = GET('https://www.packtpub.com')"
   ]
  },
  {
   "cell_type": "code",
   "execution_count": 35,
   "metadata": {},
   "outputs": [
    {
     "name": "stdout",
     "output_type": "stream",
     "text": [
      "List of 10\n",
      " $ url        : chr \"https://www.packtpub.com/\"\n",
      " $ status_code: int 200\n",
      " $ headers    :List of 10\n",
      "  ..- attr(*, \"class\")= chr [1:2] \"insensitive\" \"list\"\n",
      " $ all_headers:List of 1\n",
      " $ cookies    :'data.frame':\t0 obs. of  7 variables:\n",
      " $ content    : raw [1:64412] 3c 21 44 4f ...\n",
      " $ date       : POSIXct[1:1], format: \"2017-06-09 13:14:32\"\n",
      " $ times      : Named num [1:6] 0 0.0238 0.0765 0.1955 0.2634 ...\n",
      "  ..- attr(*, \"names\")= chr [1:6] \"redirect\" \"namelookup\" \"connect\" \"pretransfer\" ...\n",
      " $ request    :List of 7\n",
      "  ..- attr(*, \"class\")= chr \"request\"\n",
      " $ handle     :Class 'curl_handle' <externalptr> \n",
      " - attr(*, \"class\")= chr \"response\"\n"
     ]
    }
   ],
   "source": [
    "str(packt_page, max.level = 1)"
   ]
  },
  {
   "cell_type": "code",
   "execution_count": 36,
   "metadata": {},
   "outputs": [
    {
     "name": "stderr",
     "output_type": "stream",
     "text": [
      "No encoding supplied: defaulting to UTF-8.\n"
     ]
    },
    {
     "name": "stdout",
     "output_type": "stream",
     "text": [
      " chr \"<!DOCTYPE html>\\n<html xmlns=\\\"http://www.w3.org/1999/xhtml\\\" lang=\\\"en\\\" xml:lang=\\\"en\\\">\\n\\t<head>\\n\\t\\t<title>Packt Publishing | Technology Books, eBooks & Videos</title>\\n\\t\\t<scr\"| __truncated__\n"
     ]
    }
   ],
   "source": [
    "str(content(packt_page, type='text'), nchar.max=200)"
   ]
  },
  {
   "cell_type": "code",
   "execution_count": 38,
   "metadata": {},
   "outputs": [
    {
     "name": "stderr",
     "output_type": "stream",
     "text": [
      "Loading required package: xml2\n"
     ]
    }
   ],
   "source": [
    "library('rvest')"
   ]
  },
  {
   "cell_type": "code",
   "execution_count": 48,
   "metadata": {},
   "outputs": [],
   "source": [
    "packt_page = read_html('https://www.packtpub.com')"
   ]
  },
  {
   "cell_type": "code",
   "execution_count": 49,
   "metadata": {},
   "outputs": [
    {
     "data": {
      "text/plain": [
       "{xml_node}\n",
       "<title>\n",
       "NULL"
      ]
     },
     "metadata": {},
     "output_type": "display_data"
    }
   ],
   "source": [
    "html_node(packt_page, 'title')"
   ]
  },
  {
   "cell_type": "markdown",
   "metadata": {},
   "source": [
    ":("
   ]
  },
  {
   "cell_type": "code",
   "execution_count": 52,
   "metadata": {},
   "outputs": [],
   "source": [
    "cran_ml = read_html('http://cran.r-project.org/web/views/MachineLearning.html')"
   ]
  },
  {
   "cell_type": "code",
   "execution_count": 53,
   "metadata": {},
   "outputs": [
    {
     "data": {
      "text/plain": [
       "{xml_document}\n",
       "<html xmlns=\"http://www.w3.org/1999/xhtml\">\n",
       "[1] <head>\\n<title>CRAN Task View: Machine Learning &amp; Statistical Learnin ...\n",
       "[2] <body>\\n  <h2>CRAN Task View: Machine Learning &amp; Statistical Learning ..."
      ]
     },
     "metadata": {},
     "output_type": "display_data"
    }
   ],
   "source": [
    "cran_ml"
   ]
  },
  {
   "cell_type": "code",
   "execution_count": 54,
   "metadata": {
    "collapsed": true
   },
   "outputs": [],
   "source": [
    "ml_packages = html_nodes(cran_ml, 'a')"
   ]
  },
  {
   "cell_type": "code",
   "execution_count": 55,
   "metadata": {},
   "outputs": [
    {
     "data": {
      "text/plain": [
       "{xml_nodeset (7)}\n",
       "[1] <a href=\"https://CRAN.R-project.org/view=MachineLearning\">https://CRAN.R- ...\n",
       "[2] <a href=\"../packages/nnet/index.html\">nnet</a>\n",
       "[3] <a href=\"../packages/RSNNS/index.html\">RSNNS</a>\n",
       "[4] <a href=\"../packages/FCNN4R/index.html\">FCNN4R</a>\n",
       "[5] <a href=\"../packages/rnn/index.html\">rnn</a>\n",
       "[6] <a href=\"../packages/darch/index.html\">darch</a>\n",
       "[7] <a href=\"../packages/deepnet/index.html\">deepnet</a>"
      ]
     },
     "metadata": {},
     "output_type": "display_data"
    }
   ],
   "source": [
    "head(ml_packages, n = 7)"
   ]
  },
  {
   "cell_type": "markdown",
   "metadata": {},
   "source": [
    "## parsing JSON"
   ]
  },
  {
   "cell_type": "code",
   "execution_count": 73,
   "metadata": {
    "collapsed": true
   },
   "outputs": [],
   "source": [
    "map_search = GET('https://maps.googleapis.com/maps/api/geocode/json',\n",
    "                query = list(address = 'Eiffel Tower'))"
   ]
  },
  {
   "cell_type": "code",
   "execution_count": 74,
   "metadata": {
    "collapsed": true
   },
   "outputs": [
    {
     "data": {
      "text/html": [
       "<dl>\n",
       "\t<dt>$results</dt>\n",
       "\t\t<dd><ol>\n",
       "\t<li><dl>\n",
       "\t<dt>$address_components</dt>\n",
       "\t\t<dd><ol>\n",
       "\t<li><dl>\n",
       "\t<dt>$long_name</dt>\n",
       "\t\t<dd>'Champ de Mars'</dd>\n",
       "\t<dt>$short_name</dt>\n",
       "\t\t<dd>'Champ de Mars'</dd>\n",
       "\t<dt>$types</dt>\n",
       "\t\t<dd><ol>\n",
       "\t<li>'establishment'</li>\n",
       "\t<li>'point_of_interest'</li>\n",
       "</ol>\n",
       "</dd>\n",
       "</dl>\n",
       "</li>\n",
       "\t<li><dl>\n",
       "\t<dt>$long_name</dt>\n",
       "\t\t<dd>'5'</dd>\n",
       "\t<dt>$short_name</dt>\n",
       "\t\t<dd>'5'</dd>\n",
       "\t<dt>$types</dt>\n",
       "\t\t<dd><ol>\n",
       "\t<li>'street_number'</li>\n",
       "</ol>\n",
       "</dd>\n",
       "</dl>\n",
       "</li>\n",
       "\t<li><dl>\n",
       "\t<dt>$long_name</dt>\n",
       "\t\t<dd>'Avenue Anatole France'</dd>\n",
       "\t<dt>$short_name</dt>\n",
       "\t\t<dd>'Avenue Anatole France'</dd>\n",
       "\t<dt>$types</dt>\n",
       "\t\t<dd><ol>\n",
       "\t<li>'route'</li>\n",
       "</ol>\n",
       "</dd>\n",
       "</dl>\n",
       "</li>\n",
       "\t<li><dl>\n",
       "\t<dt>$long_name</dt>\n",
       "\t\t<dd>'Paris'</dd>\n",
       "\t<dt>$short_name</dt>\n",
       "\t\t<dd>'Paris'</dd>\n",
       "\t<dt>$types</dt>\n",
       "\t\t<dd><ol>\n",
       "\t<li>'locality'</li>\n",
       "\t<li>'political'</li>\n",
       "</ol>\n",
       "</dd>\n",
       "</dl>\n",
       "</li>\n",
       "\t<li><dl>\n",
       "\t<dt>$long_name</dt>\n",
       "\t\t<dd>'Paris'</dd>\n",
       "\t<dt>$short_name</dt>\n",
       "\t\t<dd>'Paris'</dd>\n",
       "\t<dt>$types</dt>\n",
       "\t\t<dd><ol>\n",
       "\t<li>'administrative_area_level_2'</li>\n",
       "\t<li>'political'</li>\n",
       "</ol>\n",
       "</dd>\n",
       "</dl>\n",
       "</li>\n",
       "\t<li><dl>\n",
       "\t<dt>$long_name</dt>\n",
       "\t\t<dd>'Île-de-France'</dd>\n",
       "\t<dt>$short_name</dt>\n",
       "\t\t<dd>'Île-de-France'</dd>\n",
       "\t<dt>$types</dt>\n",
       "\t\t<dd><ol>\n",
       "\t<li>'administrative_area_level_1'</li>\n",
       "\t<li>'political'</li>\n",
       "</ol>\n",
       "</dd>\n",
       "</dl>\n",
       "</li>\n",
       "\t<li><dl>\n",
       "\t<dt>$long_name</dt>\n",
       "\t\t<dd>'France'</dd>\n",
       "\t<dt>$short_name</dt>\n",
       "\t\t<dd>'FR'</dd>\n",
       "\t<dt>$types</dt>\n",
       "\t\t<dd><ol>\n",
       "\t<li>'country'</li>\n",
       "\t<li>'political'</li>\n",
       "</ol>\n",
       "</dd>\n",
       "</dl>\n",
       "</li>\n",
       "\t<li><dl>\n",
       "\t<dt>$long_name</dt>\n",
       "\t\t<dd>'75007'</dd>\n",
       "\t<dt>$short_name</dt>\n",
       "\t\t<dd>'75007'</dd>\n",
       "\t<dt>$types</dt>\n",
       "\t\t<dd><ol>\n",
       "\t<li>'postal_code'</li>\n",
       "</ol>\n",
       "</dd>\n",
       "</dl>\n",
       "</li>\n",
       "</ol>\n",
       "</dd>\n",
       "\t<dt>$formatted_address</dt>\n",
       "\t\t<dd>'Champ de Mars, 5 Avenue Anatole France, 75007 Paris, France'</dd>\n",
       "\t<dt>$geometry</dt>\n",
       "\t\t<dd><dl>\n",
       "\t<dt>$location</dt>\n",
       "\t\t<dd><dl>\n",
       "\t<dt>$lat</dt>\n",
       "\t\t<dd>48.8583701</dd>\n",
       "\t<dt>$lng</dt>\n",
       "\t\t<dd>2.2944813</dd>\n",
       "</dl>\n",
       "</dd>\n",
       "\t<dt>$location_type</dt>\n",
       "\t\t<dd>'APPROXIMATE'</dd>\n",
       "\t<dt>$viewport</dt>\n",
       "\t\t<dd><dl>\n",
       "\t<dt>$northeast</dt>\n",
       "\t\t<dd><dl>\n",
       "\t<dt>$lat</dt>\n",
       "\t\t<dd>48.8597190802915</dd>\n",
       "\t<dt>$lng</dt>\n",
       "\t\t<dd>2.2958302802915</dd>\n",
       "</dl>\n",
       "</dd>\n",
       "\t<dt>$southwest</dt>\n",
       "\t\t<dd><dl>\n",
       "\t<dt>$lat</dt>\n",
       "\t\t<dd>48.8570211197085</dd>\n",
       "\t<dt>$lng</dt>\n",
       "\t\t<dd>2.2931323197085</dd>\n",
       "</dl>\n",
       "</dd>\n",
       "</dl>\n",
       "</dd>\n",
       "</dl>\n",
       "</dd>\n",
       "\t<dt>$place_id</dt>\n",
       "\t\t<dd>'ChIJLU7jZClu5kcR4PcOOO6p3I0'</dd>\n",
       "\t<dt>$types</dt>\n",
       "\t\t<dd><ol>\n",
       "\t<li>'establishment'</li>\n",
       "\t<li>'point_of_interest'</li>\n",
       "\t<li>'premise'</li>\n",
       "</ol>\n",
       "</dd>\n",
       "</dl>\n",
       "</li>\n",
       "</ol>\n",
       "</dd>\n",
       "\t<dt>$status</dt>\n",
       "\t\t<dd>'OK'</dd>\n",
       "</dl>\n"
      ],
      "text/latex": [
       "\\begin{description}\n",
       "\\item[\\$results] \\begin{enumerate}\n",
       "\\item \\begin{description}\n",
       "\\item[\\$address\\_components] \\begin{enumerate}\n",
       "\\item \\begin{description}\n",
       "\\item[\\$long\\_name] 'Champ de Mars'\n",
       "\\item[\\$short\\_name] 'Champ de Mars'\n",
       "\\item[\\$types] \\begin{enumerate}\n",
       "\\item 'establishment'\n",
       "\\item 'point\\_of\\_interest'\n",
       "\\end{enumerate}\n",
       "\n",
       "\\end{description}\n",
       "\n",
       "\\item \\begin{description}\n",
       "\\item[\\$long\\_name] '5'\n",
       "\\item[\\$short\\_name] '5'\n",
       "\\item[\\$types] \\begin{enumerate}\n",
       "\\item 'street\\_number'\n",
       "\\end{enumerate}\n",
       "\n",
       "\\end{description}\n",
       "\n",
       "\\item \\begin{description}\n",
       "\\item[\\$long\\_name] 'Avenue Anatole France'\n",
       "\\item[\\$short\\_name] 'Avenue Anatole France'\n",
       "\\item[\\$types] \\begin{enumerate}\n",
       "\\item 'route'\n",
       "\\end{enumerate}\n",
       "\n",
       "\\end{description}\n",
       "\n",
       "\\item \\begin{description}\n",
       "\\item[\\$long\\_name] 'Paris'\n",
       "\\item[\\$short\\_name] 'Paris'\n",
       "\\item[\\$types] \\begin{enumerate}\n",
       "\\item 'locality'\n",
       "\\item 'political'\n",
       "\\end{enumerate}\n",
       "\n",
       "\\end{description}\n",
       "\n",
       "\\item \\begin{description}\n",
       "\\item[\\$long\\_name] 'Paris'\n",
       "\\item[\\$short\\_name] 'Paris'\n",
       "\\item[\\$types] \\begin{enumerate}\n",
       "\\item 'administrative\\_area\\_level\\_2'\n",
       "\\item 'political'\n",
       "\\end{enumerate}\n",
       "\n",
       "\\end{description}\n",
       "\n",
       "\\item \\begin{description}\n",
       "\\item[\\$long\\_name] 'Île-de-France'\n",
       "\\item[\\$short\\_name] 'Île-de-France'\n",
       "\\item[\\$types] \\begin{enumerate}\n",
       "\\item 'administrative\\_area\\_level\\_1'\n",
       "\\item 'political'\n",
       "\\end{enumerate}\n",
       "\n",
       "\\end{description}\n",
       "\n",
       "\\item \\begin{description}\n",
       "\\item[\\$long\\_name] 'France'\n",
       "\\item[\\$short\\_name] 'FR'\n",
       "\\item[\\$types] \\begin{enumerate}\n",
       "\\item 'country'\n",
       "\\item 'political'\n",
       "\\end{enumerate}\n",
       "\n",
       "\\end{description}\n",
       "\n",
       "\\item \\begin{description}\n",
       "\\item[\\$long\\_name] '75007'\n",
       "\\item[\\$short\\_name] '75007'\n",
       "\\item[\\$types] \\begin{enumerate}\n",
       "\\item 'postal\\_code'\n",
       "\\end{enumerate}\n",
       "\n",
       "\\end{description}\n",
       "\n",
       "\\end{enumerate}\n",
       "\n",
       "\\item[\\$formatted\\_address] 'Champ de Mars, 5 Avenue Anatole France, 75007 Paris, France'\n",
       "\\item[\\$geometry] \\begin{description}\n",
       "\\item[\\$location] \\begin{description}\n",
       "\\item[\\$lat] 48.8583701\n",
       "\\item[\\$lng] 2.2944813\n",
       "\\end{description}\n",
       "\n",
       "\\item[\\$location\\_type] 'APPROXIMATE'\n",
       "\\item[\\$viewport] \\begin{description}\n",
       "\\item[\\$northeast] \\begin{description}\n",
       "\\item[\\$lat] 48.8597190802915\n",
       "\\item[\\$lng] 2.2958302802915\n",
       "\\end{description}\n",
       "\n",
       "\\item[\\$southwest] \\begin{description}\n",
       "\\item[\\$lat] 48.8570211197085\n",
       "\\item[\\$lng] 2.2931323197085\n",
       "\\end{description}\n",
       "\n",
       "\\end{description}\n",
       "\n",
       "\\end{description}\n",
       "\n",
       "\\item[\\$place\\_id] 'ChIJLU7jZClu5kcR4PcOOO6p3I0'\n",
       "\\item[\\$types] \\begin{enumerate}\n",
       "\\item 'establishment'\n",
       "\\item 'point\\_of\\_interest'\n",
       "\\item 'premise'\n",
       "\\end{enumerate}\n",
       "\n",
       "\\end{description}\n",
       "\n",
       "\\end{enumerate}\n",
       "\n",
       "\\item[\\$status] 'OK'\n",
       "\\end{description}\n"
      ],
      "text/markdown": [
       "$results\n",
       ":   1. $address_components\n",
       ":   1. $long_name\n",
       ":   'Champ de Mars'\n",
       "$short_name\n",
       ":   'Champ de Mars'\n",
       "$types\n",
       ":   1. 'establishment'\n",
       "2. 'point_of_interest'\n",
       "\n",
       "\n",
       "\n",
       "\n",
       "\n",
       "\n",
       "2. $long_name\n",
       ":   '5'\n",
       "$short_name\n",
       ":   '5'\n",
       "$types\n",
       ":   1. 'street_number'\n",
       "\n",
       "\n",
       "\n",
       "\n",
       "\n",
       "\n",
       "3. $long_name\n",
       ":   'Avenue Anatole France'\n",
       "$short_name\n",
       ":   'Avenue Anatole France'\n",
       "$types\n",
       ":   1. 'route'\n",
       "\n",
       "\n",
       "\n",
       "\n",
       "\n",
       "\n",
       "4. $long_name\n",
       ":   'Paris'\n",
       "$short_name\n",
       ":   'Paris'\n",
       "$types\n",
       ":   1. 'locality'\n",
       "2. 'political'\n",
       "\n",
       "\n",
       "\n",
       "\n",
       "\n",
       "\n",
       "5. $long_name\n",
       ":   'Paris'\n",
       "$short_name\n",
       ":   'Paris'\n",
       "$types\n",
       ":   1. 'administrative_area_level_2'\n",
       "2. 'political'\n",
       "\n",
       "\n",
       "\n",
       "\n",
       "\n",
       "\n",
       "6. $long_name\n",
       ":   'Île-de-France'\n",
       "$short_name\n",
       ":   'Île-de-France'\n",
       "$types\n",
       ":   1. 'administrative_area_level_1'\n",
       "2. 'political'\n",
       "\n",
       "\n",
       "\n",
       "\n",
       "\n",
       "\n",
       "7. $long_name\n",
       ":   'France'\n",
       "$short_name\n",
       ":   'FR'\n",
       "$types\n",
       ":   1. 'country'\n",
       "2. 'political'\n",
       "\n",
       "\n",
       "\n",
       "\n",
       "\n",
       "\n",
       "8. $long_name\n",
       ":   '75007'\n",
       "$short_name\n",
       ":   '75007'\n",
       "$types\n",
       ":   1. 'postal_code'\n",
       "\n",
       "\n",
       "\n",
       "\n",
       "\n",
       "\n",
       "\n",
       "\n",
       "\n",
       "$formatted_address\n",
       ":   'Champ de Mars, 5 Avenue Anatole France, 75007 Paris, France'\n",
       "$geometry\n",
       ":   $location\n",
       ":   $lat\n",
       ":   48.8583701\n",
       "$lng\n",
       ":   2.2944813\n",
       "\n",
       "\n",
       "\n",
       "$location_type\n",
       ":   'APPROXIMATE'\n",
       "$viewport\n",
       ":   $northeast\n",
       ":   $lat\n",
       ":   48.8597190802915\n",
       "$lng\n",
       ":   2.2958302802915\n",
       "\n",
       "\n",
       "\n",
       "$southwest\n",
       ":   $lat\n",
       ":   48.8570211197085\n",
       "$lng\n",
       ":   2.2931323197085\n",
       "\n",
       "\n",
       "\n",
       "\n",
       "\n",
       "\n",
       "\n",
       "\n",
       "\n",
       "$place_id\n",
       ":   'ChIJLU7jZClu5kcR4PcOOO6p3I0'\n",
       "$types\n",
       ":   1. 'establishment'\n",
       "2. 'point_of_interest'\n",
       "3. 'premise'\n",
       "\n",
       "\n",
       "\n",
       "\n",
       "\n",
       "\n",
       "\n",
       "\n",
       "\n",
       "$status\n",
       ":   'OK'\n",
       "\n",
       "\n"
      ],
      "text/plain": [
       "$results\n",
       "$results[[1]]\n",
       "$results[[1]]$address_components\n",
       "$results[[1]]$address_components[[1]]\n",
       "$results[[1]]$address_components[[1]]$long_name\n",
       "[1] \"Champ de Mars\"\n",
       "\n",
       "$results[[1]]$address_components[[1]]$short_name\n",
       "[1] \"Champ de Mars\"\n",
       "\n",
       "$results[[1]]$address_components[[1]]$types\n",
       "$results[[1]]$address_components[[1]]$types[[1]]\n",
       "[1] \"establishment\"\n",
       "\n",
       "$results[[1]]$address_components[[1]]$types[[2]]\n",
       "[1] \"point_of_interest\"\n",
       "\n",
       "\n",
       "\n",
       "$results[[1]]$address_components[[2]]\n",
       "$results[[1]]$address_components[[2]]$long_name\n",
       "[1] \"5\"\n",
       "\n",
       "$results[[1]]$address_components[[2]]$short_name\n",
       "[1] \"5\"\n",
       "\n",
       "$results[[1]]$address_components[[2]]$types\n",
       "$results[[1]]$address_components[[2]]$types[[1]]\n",
       "[1] \"street_number\"\n",
       "\n",
       "\n",
       "\n",
       "$results[[1]]$address_components[[3]]\n",
       "$results[[1]]$address_components[[3]]$long_name\n",
       "[1] \"Avenue Anatole France\"\n",
       "\n",
       "$results[[1]]$address_components[[3]]$short_name\n",
       "[1] \"Avenue Anatole France\"\n",
       "\n",
       "$results[[1]]$address_components[[3]]$types\n",
       "$results[[1]]$address_components[[3]]$types[[1]]\n",
       "[1] \"route\"\n",
       "\n",
       "\n",
       "\n",
       "$results[[1]]$address_components[[4]]\n",
       "$results[[1]]$address_components[[4]]$long_name\n",
       "[1] \"Paris\"\n",
       "\n",
       "$results[[1]]$address_components[[4]]$short_name\n",
       "[1] \"Paris\"\n",
       "\n",
       "$results[[1]]$address_components[[4]]$types\n",
       "$results[[1]]$address_components[[4]]$types[[1]]\n",
       "[1] \"locality\"\n",
       "\n",
       "$results[[1]]$address_components[[4]]$types[[2]]\n",
       "[1] \"political\"\n",
       "\n",
       "\n",
       "\n",
       "$results[[1]]$address_components[[5]]\n",
       "$results[[1]]$address_components[[5]]$long_name\n",
       "[1] \"Paris\"\n",
       "\n",
       "$results[[1]]$address_components[[5]]$short_name\n",
       "[1] \"Paris\"\n",
       "\n",
       "$results[[1]]$address_components[[5]]$types\n",
       "$results[[1]]$address_components[[5]]$types[[1]]\n",
       "[1] \"administrative_area_level_2\"\n",
       "\n",
       "$results[[1]]$address_components[[5]]$types[[2]]\n",
       "[1] \"political\"\n",
       "\n",
       "\n",
       "\n",
       "$results[[1]]$address_components[[6]]\n",
       "$results[[1]]$address_components[[6]]$long_name\n",
       "[1] \"Île-de-France\"\n",
       "\n",
       "$results[[1]]$address_components[[6]]$short_name\n",
       "[1] \"Île-de-France\"\n",
       "\n",
       "$results[[1]]$address_components[[6]]$types\n",
       "$results[[1]]$address_components[[6]]$types[[1]]\n",
       "[1] \"administrative_area_level_1\"\n",
       "\n",
       "$results[[1]]$address_components[[6]]$types[[2]]\n",
       "[1] \"political\"\n",
       "\n",
       "\n",
       "\n",
       "$results[[1]]$address_components[[7]]\n",
       "$results[[1]]$address_components[[7]]$long_name\n",
       "[1] \"France\"\n",
       "\n",
       "$results[[1]]$address_components[[7]]$short_name\n",
       "[1] \"FR\"\n",
       "\n",
       "$results[[1]]$address_components[[7]]$types\n",
       "$results[[1]]$address_components[[7]]$types[[1]]\n",
       "[1] \"country\"\n",
       "\n",
       "$results[[1]]$address_components[[7]]$types[[2]]\n",
       "[1] \"political\"\n",
       "\n",
       "\n",
       "\n",
       "$results[[1]]$address_components[[8]]\n",
       "$results[[1]]$address_components[[8]]$long_name\n",
       "[1] \"75007\"\n",
       "\n",
       "$results[[1]]$address_components[[8]]$short_name\n",
       "[1] \"75007\"\n",
       "\n",
       "$results[[1]]$address_components[[8]]$types\n",
       "$results[[1]]$address_components[[8]]$types[[1]]\n",
       "[1] \"postal_code\"\n",
       "\n",
       "\n",
       "\n",
       "\n",
       "$results[[1]]$formatted_address\n",
       "[1] \"Champ de Mars, 5 Avenue Anatole France, 75007 Paris, France\"\n",
       "\n",
       "$results[[1]]$geometry\n",
       "$results[[1]]$geometry$location\n",
       "$results[[1]]$geometry$location$lat\n",
       "[1] 48.85837\n",
       "\n",
       "$results[[1]]$geometry$location$lng\n",
       "[1] 2.294481\n",
       "\n",
       "\n",
       "$results[[1]]$geometry$location_type\n",
       "[1] \"APPROXIMATE\"\n",
       "\n",
       "$results[[1]]$geometry$viewport\n",
       "$results[[1]]$geometry$viewport$northeast\n",
       "$results[[1]]$geometry$viewport$northeast$lat\n",
       "[1] 48.85972\n",
       "\n",
       "$results[[1]]$geometry$viewport$northeast$lng\n",
       "[1] 2.29583\n",
       "\n",
       "\n",
       "$results[[1]]$geometry$viewport$southwest\n",
       "$results[[1]]$geometry$viewport$southwest$lat\n",
       "[1] 48.85702\n",
       "\n",
       "$results[[1]]$geometry$viewport$southwest$lng\n",
       "[1] 2.293132\n",
       "\n",
       "\n",
       "\n",
       "\n",
       "$results[[1]]$place_id\n",
       "[1] \"ChIJLU7jZClu5kcR4PcOOO6p3I0\"\n",
       "\n",
       "$results[[1]]$types\n",
       "$results[[1]]$types[[1]]\n",
       "[1] \"establishment\"\n",
       "\n",
       "$results[[1]]$types[[2]]\n",
       "[1] \"point_of_interest\"\n",
       "\n",
       "$results[[1]]$types[[3]]\n",
       "[1] \"premise\"\n",
       "\n",
       "\n",
       "\n",
       "\n",
       "$status\n",
       "[1] \"OK\"\n"
      ]
     },
     "metadata": {},
     "output_type": "display_data"
    }
   ],
   "source": [
    "content(map_search)"
   ]
  },
  {
   "cell_type": "code",
   "execution_count": 75,
   "metadata": {},
   "outputs": [
    {
     "data": {
      "text/html": [
       "<dl>\n",
       "\t<dt>$lat</dt>\n",
       "\t\t<dd>48.8583701</dd>\n",
       "\t<dt>$lng</dt>\n",
       "\t\t<dd>2.2944813</dd>\n",
       "</dl>\n"
      ],
      "text/latex": [
       "\\begin{description}\n",
       "\\item[\\$lat] 48.8583701\n",
       "\\item[\\$lng] 2.2944813\n",
       "\\end{description}\n"
      ],
      "text/markdown": [
       "$lat\n",
       ":   48.8583701\n",
       "$lng\n",
       ":   2.2944813\n",
       "\n",
       "\n"
      ],
      "text/plain": [
       "$lat\n",
       "[1] 48.85837\n",
       "\n",
       "$lng\n",
       "[1] 2.294481\n"
      ]
     },
     "metadata": {},
     "output_type": "display_data"
    }
   ],
   "source": [
    "content(map_search)$results[[1]]$geometry$location"
   ]
  },
  {
   "cell_type": "code",
   "execution_count": 76,
   "metadata": {},
   "outputs": [
    {
     "data": {
      "text/html": [
       "'Champ de Mars, 5 Avenue Anatole France, 75007 Paris, France'"
      ],
      "text/latex": [
       "'Champ de Mars, 5 Avenue Anatole France, 75007 Paris, France'"
      ],
      "text/markdown": [
       "'Champ de Mars, 5 Avenue Anatole France, 75007 Paris, France'"
      ],
      "text/plain": [
       "[1] \"Champ de Mars, 5 Avenue Anatole France, 75007 Paris, France\""
      ]
     },
     "metadata": {},
     "output_type": "display_data"
    }
   ],
   "source": [
    "content(map_search)$results[[1]]$formatted_address"
   ]
  },
  {
   "cell_type": "code",
   "execution_count": 80,
   "metadata": {},
   "outputs": [],
   "source": [
    "library('rjson')"
   ]
  },
  {
   "cell_type": "code",
   "execution_count": 82,
   "metadata": {},
   "outputs": [],
   "source": [
    "ml_book = list(book_title = \"Machine Learning with R\", \n",
    "               author = \"Brett Lantz\")"
   ]
  },
  {
   "cell_type": "code",
   "execution_count": 83,
   "metadata": {},
   "outputs": [
    {
     "data": {
      "text/html": [
       "'{\"book_title\":\"Machine Learning with R\",\"author\":\"Brett Lantz\"}'"
      ],
      "text/latex": [
       "'\\{\"book\\_title\":\"Machine Learning with R\",\"author\":\"Brett Lantz\"\\}'"
      ],
      "text/markdown": [
       "'{\"book_title\":\"Machine Learning with R\",\"author\":\"Brett Lantz\"}'"
      ],
      "text/plain": [
       "[1] \"{\\\"book_title\\\":\\\"Machine Learning with R\\\",\\\"author\\\":\\\"Brett Lantz\\\"}\""
      ]
     },
     "metadata": {},
     "output_type": "display_data"
    }
   ],
   "source": [
    "toJSON(ml_book)"
   ]
  },
  {
   "cell_type": "code",
   "execution_count": 87,
   "metadata": {
    "collapsed": true
   },
   "outputs": [],
   "source": [
    "ml_book_json = \"{\n",
    "    \\\"title\\\": \\\"Machine Learning with R\\\",\n",
    "    \\\"author\\\": \\\"Brett Lantz\\\",\n",
    "    \\\"publisher\\\": {\n",
    "        \\\"name\\\": \\\"Packt Publishing\\\",\n",
    "        \\\"url\\\": \\\"https://www.packtpub.com\\\"\n",
    "    },\n",
    "    \\\"topics\\\": [\\\"R\\\", \\\"machine learning\\\", \\\"data mining\\\"],\n",
    "    \\\"MSRP\\\": 54.99\n",
    "}\""
   ]
  },
  {
   "cell_type": "code",
   "execution_count": 88,
   "metadata": {
    "collapsed": true
   },
   "outputs": [],
   "source": [
    "ml_book_r = fromJSON(ml_book_json)"
   ]
  },
  {
   "cell_type": "code",
   "execution_count": 89,
   "metadata": {},
   "outputs": [
    {
     "name": "stdout",
     "output_type": "stream",
     "text": [
      "List of 5\n",
      " $ title    : chr \"Machine Learning with R\"\n",
      " $ author   : chr \"Brett Lantz\"\n",
      " $ publisher:List of 2\n",
      "  ..$ name: chr \"Packt Publishing\"\n",
      "  ..$ url : chr \"https://www.packtpub.com\"\n",
      " $ topics   : chr [1:3] \"R\" \"machine learning\" \"data mining\"\n",
      " $ MSRP     : num 55\n"
     ]
    }
   ],
   "source": [
    "str(ml_book_r)"
   ]
  },
  {
   "cell_type": "markdown",
   "metadata": {},
   "source": [
    "## reading graphs"
   ]
  },
  {
   "cell_type": "code",
   "execution_count": 91,
   "metadata": {},
   "outputs": [
    {
     "name": "stderr",
     "output_type": "stream",
     "text": [
      "\n",
      "Attaching package: ‘igraph’\n",
      "\n",
      "The following object is masked from ‘package:rvest’:\n",
      "\n",
      "    %>%\n",
      "\n",
      "The following objects are masked from ‘package:stats’:\n",
      "\n",
      "    decompose, spectrum\n",
      "\n",
      "The following object is masked from ‘package:base’:\n",
      "\n",
      "    union\n",
      "\n"
     ]
    }
   ],
   "source": [
    "library('igraph')"
   ]
  },
  {
   "cell_type": "code",
   "execution_count": 93,
   "metadata": {
    "collapsed": true
   },
   "outputs": [],
   "source": [
    "karate = read.graph('../../R_projects//MLwR/Machine Learning with R (2nd Ed.)//Chapter 12/karate.txt', \n",
    "                    'edgelist', directed = FALSE)"
   ]
  },
  {
   "cell_type": "code",
   "execution_count": 97,
   "metadata": {},
   "outputs": [
    {
     "data": {
      "image/png": "[encoded data removed]",
      "text/plain": [
       "Plot with title “”"
      ]
     },
     "metadata": {},
     "output_type": "display_data"
    }
   ],
   "source": [
    "plot(karate)"
   ]
  },
  {
   "cell_type": "markdown",
   "metadata": {},
   "source": [
    "Nodes 1, 33, 34 seem to be more central than the others, which remain at the club periphery.\n",
    "\n",
    "The <b>degree</b> of a node measures how many nodes it is linked to."
   ]
  },
  {
   "cell_type": "code",
   "execution_count": 98,
   "metadata": {},
   "outputs": [
    {
     "data": {
      "text/html": [
       "<ol class=list-inline>\n",
       "\t<li>16</li>\n",
       "\t<li>9</li>\n",
       "\t<li>10</li>\n",
       "\t<li>6</li>\n",
       "\t<li>3</li>\n",
       "\t<li>4</li>\n",
       "\t<li>4</li>\n",
       "\t<li>4</li>\n",
       "\t<li>5</li>\n",
       "\t<li>2</li>\n",
       "\t<li>3</li>\n",
       "\t<li>1</li>\n",
       "\t<li>2</li>\n",
       "\t<li>5</li>\n",
       "\t<li>2</li>\n",
       "\t<li>2</li>\n",
       "\t<li>2</li>\n",
       "\t<li>2</li>\n",
       "\t<li>2</li>\n",
       "\t<li>3</li>\n",
       "\t<li>2</li>\n",
       "\t<li>2</li>\n",
       "\t<li>2</li>\n",
       "\t<li>5</li>\n",
       "\t<li>3</li>\n",
       "\t<li>3</li>\n",
       "\t<li>2</li>\n",
       "\t<li>4</li>\n",
       "\t<li>3</li>\n",
       "\t<li>4</li>\n",
       "\t<li>4</li>\n",
       "\t<li>6</li>\n",
       "\t<li>12</li>\n",
       "\t<li>17</li>\n",
       "</ol>\n"
      ],
      "text/latex": [
       "\\begin{enumerate*}\n",
       "\\item 16\n",
       "\\item 9\n",
       "\\item 10\n",
       "\\item 6\n",
       "\\item 3\n",
       "\\item 4\n",
       "\\item 4\n",
       "\\item 4\n",
       "\\item 5\n",
       "\\item 2\n",
       "\\item 3\n",
       "\\item 1\n",
       "\\item 2\n",
       "\\item 5\n",
       "\\item 2\n",
       "\\item 2\n",
       "\\item 2\n",
       "\\item 2\n",
       "\\item 2\n",
       "\\item 3\n",
       "\\item 2\n",
       "\\item 2\n",
       "\\item 2\n",
       "\\item 5\n",
       "\\item 3\n",
       "\\item 3\n",
       "\\item 2\n",
       "\\item 4\n",
       "\\item 3\n",
       "\\item 4\n",
       "\\item 4\n",
       "\\item 6\n",
       "\\item 12\n",
       "\\item 17\n",
       "\\end{enumerate*}\n"
      ],
      "text/markdown": [
       "1. 16\n",
       "2. 9\n",
       "3. 10\n",
       "4. 6\n",
       "5. 3\n",
       "6. 4\n",
       "7. 4\n",
       "8. 4\n",
       "9. 5\n",
       "10. 2\n",
       "11. 3\n",
       "12. 1\n",
       "13. 2\n",
       "14. 5\n",
       "15. 2\n",
       "16. 2\n",
       "17. 2\n",
       "18. 2\n",
       "19. 2\n",
       "20. 3\n",
       "21. 2\n",
       "22. 2\n",
       "23. 2\n",
       "24. 5\n",
       "25. 3\n",
       "26. 3\n",
       "27. 2\n",
       "28. 4\n",
       "29. 3\n",
       "30. 4\n",
       "31. 4\n",
       "32. 6\n",
       "33. 12\n",
       "34. 17\n",
       "\n",
       "\n"
      ],
      "text/plain": [
       " [1] 16  9 10  6  3  4  4  4  5  2  3  1  2  5  2  2  2  2  2  3  2  2  2  5  3\n",
       "[26]  3  2  4  3  4  4  6 12 17"
      ]
     },
     "metadata": {},
     "output_type": "display_data"
    }
   ],
   "source": [
    "degree(karate)"
   ]
  },
  {
   "cell_type": "markdown",
   "metadata": {},
   "source": [
    "<b>Betweenness centrality</b> is intended to capture the number of shortest paths between nodes that pass through each node. Nodes that are truly more central to the entire graph will have a higher betweenness centrality value, because they act as a bridge between the other nodes."
   ]
  },
  {
   "cell_type": "code",
   "execution_count": 99,
   "metadata": {},
   "outputs": [
    {
     "data": {
      "text/html": [
       "<ol class=list-inline>\n",
       "\t<li>231.071428571429</li>\n",
       "\t<li>28.4785714285714</li>\n",
       "\t<li>75.8507936507937</li>\n",
       "\t<li>6.28809523809524</li>\n",
       "\t<li>0.333333333333333</li>\n",
       "\t<li>15.8333333333333</li>\n",
       "\t<li>15.8333333333333</li>\n",
       "\t<li>0</li>\n",
       "\t<li>29.5293650793651</li>\n",
       "\t<li>0.447619047619048</li>\n",
       "\t<li>0.333333333333333</li>\n",
       "\t<li>0</li>\n",
       "\t<li>0</li>\n",
       "\t<li>24.215873015873</li>\n",
       "\t<li>0</li>\n",
       "\t<li>0</li>\n",
       "\t<li>0</li>\n",
       "\t<li>0</li>\n",
       "\t<li>0</li>\n",
       "\t<li>17.1468253968254</li>\n",
       "\t<li>0</li>\n",
       "\t<li>0</li>\n",
       "\t<li>0</li>\n",
       "\t<li>9.3</li>\n",
       "\t<li>1.16666666666667</li>\n",
       "\t<li>2.02777777777778</li>\n",
       "\t<li>0</li>\n",
       "\t<li>11.7920634920635</li>\n",
       "\t<li>0.947619047619048</li>\n",
       "\t<li>1.54285714285714</li>\n",
       "\t<li>7.60952380952381</li>\n",
       "\t<li>73.0095238095238</li>\n",
       "\t<li>76.6904761904762</li>\n",
       "\t<li>160.551587301587</li>\n",
       "</ol>\n"
      ],
      "text/latex": [
       "\\begin{enumerate*}\n",
       "\\item 231.071428571429\n",
       "\\item 28.4785714285714\n",
       "\\item 75.8507936507937\n",
       "\\item 6.28809523809524\n",
       "\\item 0.333333333333333\n",
       "\\item 15.8333333333333\n",
       "\\item 15.8333333333333\n",
       "\\item 0\n",
       "\\item 29.5293650793651\n",
       "\\item 0.447619047619048\n",
       "\\item 0.333333333333333\n",
       "\\item 0\n",
       "\\item 0\n",
       "\\item 24.215873015873\n",
       "\\item 0\n",
       "\\item 0\n",
       "\\item 0\n",
       "\\item 0\n",
       "\\item 0\n",
       "\\item 17.1468253968254\n",
       "\\item 0\n",
       "\\item 0\n",
       "\\item 0\n",
       "\\item 9.3\n",
       "\\item 1.16666666666667\n",
       "\\item 2.02777777777778\n",
       "\\item 0\n",
       "\\item 11.7920634920635\n",
       "\\item 0.947619047619048\n",
       "\\item 1.54285714285714\n",
       "\\item 7.60952380952381\n",
       "\\item 73.0095238095238\n",
       "\\item 76.6904761904762\n",
       "\\item 160.551587301587\n",
       "\\end{enumerate*}\n"
      ],
      "text/markdown": [
       "1. 231.071428571429\n",
       "2. 28.4785714285714\n",
       "3. 75.8507936507937\n",
       "4. 6.28809523809524\n",
       "5. 0.333333333333333\n",
       "6. 15.8333333333333\n",
       "7. 15.8333333333333\n",
       "8. 0\n",
       "9. 29.5293650793651\n",
       "10. 0.447619047619048\n",
       "11. 0.333333333333333\n",
       "12. 0\n",
       "13. 0\n",
       "14. 24.215873015873\n",
       "15. 0\n",
       "16. 0\n",
       "17. 0\n",
       "18. 0\n",
       "19. 0\n",
       "20. 17.1468253968254\n",
       "21. 0\n",
       "22. 0\n",
       "23. 0\n",
       "24. 9.3\n",
       "25. 1.16666666666667\n",
       "26. 2.02777777777778\n",
       "27. 0\n",
       "28. 11.7920634920635\n",
       "29. 0.947619047619048\n",
       "30. 1.54285714285714\n",
       "31. 7.60952380952381\n",
       "32. 73.0095238095238\n",
       "33. 76.6904761904762\n",
       "34. 160.551587301587\n",
       "\n",
       "\n"
      ],
      "text/plain": [
       " [1] 231.0714286  28.4785714  75.8507937   6.2880952   0.3333333  15.8333333\n",
       " [7]  15.8333333   0.0000000  29.5293651   0.4476190   0.3333333   0.0000000\n",
       "[13]   0.0000000  24.2158730   0.0000000   0.0000000   0.0000000   0.0000000\n",
       "[19]   0.0000000  17.1468254   0.0000000   0.0000000   0.0000000   9.3000000\n",
       "[25]   1.1666667   2.0277778   0.0000000  11.7920635   0.9476190   1.5428571\n",
       "[31]   7.6095238  73.0095238  76.6904762 160.5515873"
      ]
     },
     "metadata": {},
     "output_type": "display_data"
    }
   ],
   "source": [
    "betweenness(karate)"
   ]
  },
  {
   "cell_type": "markdown",
   "metadata": {},
   "source": [
    "Node 1 and 34 have much greater betweenness values than the others. These two individuals may be the \"glue\" that holds the network together."
   ]
  },
  {
   "cell_type": "markdown",
   "metadata": {},
   "source": [
    "## Generalizing tabular data structures with dplyr"
   ]
  },
  {
   "cell_type": "code",
   "execution_count": 100,
   "metadata": {},
   "outputs": [
    {
     "name": "stderr",
     "output_type": "stream",
     "text": [
      "\n",
      "Attaching package: ‘dplyr’\n",
      "\n",
      "The following objects are masked from ‘package:igraph’:\n",
      "\n",
      "    %>%, as_data_frame, groups, union\n",
      "\n",
      "The following objects are masked from ‘package:stats’:\n",
      "\n",
      "    filter, lag\n",
      "\n",
      "The following objects are masked from ‘package:base’:\n",
      "\n",
      "    intersect, setdiff, setequal, union\n",
      "\n"
     ]
    }
   ],
   "source": [
    "library(dplyr)"
   ]
  },
  {
   "cell_type": "code",
   "execution_count": 102,
   "metadata": {},
   "outputs": [],
   "source": [
    "credit = read.csv('../../R_projects//MLwR//Machine Learning with R (2nd Ed.)//Chapter 12/credit.csv')"
   ]
  },
  {
   "cell_type": "code",
   "execution_count": 103,
   "metadata": {
    "collapsed": true
   },
   "outputs": [],
   "source": [
    "credit_tbl = as.tbl(credit)"
   ]
  },
  {
   "cell_type": "code",
   "execution_count": 104,
   "metadata": {},
   "outputs": [
    {
     "data": {
      "text/html": [
       "<table>\n",
       "<thead><tr><th scope=col>checking_balance</th><th scope=col>months_loan_duration</th><th scope=col>credit_history</th><th scope=col>purpose</th><th scope=col>amount</th><th scope=col>savings_balance</th><th scope=col>employment_duration</th><th scope=col>percent_of_income</th><th scope=col>years_at_residence</th><th scope=col>age</th><th scope=col>other_credit</th><th scope=col>housing</th><th scope=col>existing_loans_count</th><th scope=col>job</th><th scope=col>dependents</th><th scope=col>phone</th><th scope=col>default</th></tr></thead>\n",
       "<tbody>\n",
       "\t<tr><td><span style=white-space:pre-wrap>&lt; 0 DM    </span> </td><td> 6                                                    </td><td>critical                                              </td><td>furniture/appliances                                  </td><td> 1169                                                 </td><td><span style=white-space:pre-wrap>unknown      </span> </td><td><span style=white-space:pre-wrap>&gt; 7 years  </span></td><td>4                                                     </td><td>4                                                     </td><td>67                                                    </td><td>none                                                  </td><td><span style=white-space:pre-wrap>own  </span>         </td><td>2                                                     </td><td><span style=white-space:pre-wrap>skilled   </span>    </td><td>1                                                     </td><td>yes                                                   </td><td>no                                                    </td></tr>\n",
       "\t<tr><td>1 - 200 DM                                              </td><td>48                                                      </td><td><span style=white-space:pre-wrap>good     </span>       </td><td>furniture/appliances                                    </td><td> 5951                                                   </td><td><span style=white-space:pre-wrap>&lt; 100 DM     </span></td><td>1 - 4 years                                             </td><td>2                                                       </td><td>2                                                       </td><td>22                                                      </td><td>none                                                    </td><td><span style=white-space:pre-wrap>own  </span>           </td><td>1                                                       </td><td><span style=white-space:pre-wrap>skilled   </span>      </td><td>1                                                       </td><td>no                                                      </td><td>yes                                                     </td></tr>\n",
       "\t<tr><td><span style=white-space:pre-wrap>unknown   </span>          </td><td>12                                                          </td><td>critical                                                    </td><td><span style=white-space:pre-wrap>education           </span></td><td> 2096                                                       </td><td><span style=white-space:pre-wrap>&lt; 100 DM     </span>    </td><td>4 - 7 years                                                 </td><td>2                                                           </td><td>3                                                           </td><td>49                                                          </td><td>none                                                        </td><td><span style=white-space:pre-wrap>own  </span>               </td><td>1                                                           </td><td>unskilled                                                   </td><td>2                                                           </td><td>no                                                          </td><td>no                                                          </td></tr>\n",
       "\t<tr><td><span style=white-space:pre-wrap>&lt; 0 DM    </span>   </td><td>42                                                      </td><td><span style=white-space:pre-wrap>good     </span>       </td><td>furniture/appliances                                    </td><td> 7882                                                   </td><td><span style=white-space:pre-wrap>&lt; 100 DM     </span></td><td>4 - 7 years                                             </td><td>2                                                       </td><td>4                                                       </td><td>45                                                      </td><td>none                                                    </td><td>other                                                   </td><td>1                                                       </td><td><span style=white-space:pre-wrap>skilled   </span>      </td><td>2                                                       </td><td>no                                                      </td><td>no                                                      </td></tr>\n",
       "\t<tr><td><span style=white-space:pre-wrap>&lt; 0 DM    </span>       </td><td>24                                                          </td><td><span style=white-space:pre-wrap>poor     </span>           </td><td><span style=white-space:pre-wrap>car                 </span></td><td> 4870                                                       </td><td><span style=white-space:pre-wrap>&lt; 100 DM     </span>    </td><td>1 - 4 years                                                 </td><td>3                                                           </td><td>4                                                           </td><td>53                                                          </td><td>none                                                        </td><td>other                                                       </td><td>2                                                           </td><td><span style=white-space:pre-wrap>skilled   </span>          </td><td>2                                                           </td><td>no                                                          </td><td>yes                                                         </td></tr>\n",
       "\t<tr><td>unknown             </td><td>36                  </td><td>good                </td><td>education           </td><td> 9055               </td><td>unknown             </td><td>1 - 4 years         </td><td>2                   </td><td>4                   </td><td>35                  </td><td>none                </td><td>other               </td><td>1                   </td><td>unskilled           </td><td>2                   </td><td>yes                 </td><td>no                  </td></tr>\n",
       "\t<tr><td><span style=white-space:pre-wrap>unknown   </span>    </td><td>24                                                    </td><td><span style=white-space:pre-wrap>good     </span>     </td><td>furniture/appliances                                  </td><td> 2835                                                 </td><td>500 - 1000 DM                                         </td><td><span style=white-space:pre-wrap>&gt; 7 years  </span></td><td>3                                                     </td><td>4                                                     </td><td>53                                                    </td><td>none                                                  </td><td><span style=white-space:pre-wrap>own  </span>         </td><td>1                                                     </td><td><span style=white-space:pre-wrap>skilled   </span>    </td><td>1                                                     </td><td>no                                                    </td><td>no                                                    </td></tr>\n",
       "\t<tr><td>1 - 200 DM                                                  </td><td>36                                                          </td><td><span style=white-space:pre-wrap>good     </span>           </td><td><span style=white-space:pre-wrap>car                 </span></td><td> 6948                                                       </td><td><span style=white-space:pre-wrap>&lt; 100 DM     </span>    </td><td>1 - 4 years                                                 </td><td>2                                                           </td><td>2                                                           </td><td>35                                                          </td><td>none                                                        </td><td>rent                                                        </td><td>1                                                           </td><td>management                                                  </td><td>1                                                           </td><td>yes                                                         </td><td>no                                                          </td></tr>\n",
       "\t<tr><td><span style=white-space:pre-wrap>unknown   </span>      </td><td>12                                                      </td><td><span style=white-space:pre-wrap>good     </span>       </td><td>furniture/appliances                                    </td><td> 3059                                                   </td><td><span style=white-space:pre-wrap>&gt; 1000 DM    </span></td><td>4 - 7 years                                             </td><td>2                                                       </td><td>4                                                       </td><td>61                                                      </td><td>none                                                    </td><td><span style=white-space:pre-wrap>own  </span>           </td><td>1                                                       </td><td>unskilled                                               </td><td>1                                                       </td><td>no                                                      </td><td>no                                                      </td></tr>\n",
       "\t<tr><td>1 - 200 DM                                                  </td><td>30                                                          </td><td>critical                                                    </td><td><span style=white-space:pre-wrap>car                 </span></td><td> 5234                                                       </td><td><span style=white-space:pre-wrap>&lt; 100 DM     </span>    </td><td>unemployed                                                  </td><td>4                                                           </td><td>2                                                           </td><td>28                                                          </td><td>none                                                        </td><td><span style=white-space:pre-wrap>own  </span>               </td><td>2                                                           </td><td>management                                                  </td><td>1                                                           </td><td>no                                                          </td><td>yes                                                         </td></tr>\n",
       "\t<tr><td>1 - 200 DM                                                  </td><td>12                                                          </td><td><span style=white-space:pre-wrap>good     </span>           </td><td><span style=white-space:pre-wrap>car                 </span></td><td> 1295                                                       </td><td><span style=white-space:pre-wrap>&lt; 100 DM     </span>    </td><td><span style=white-space:pre-wrap>&lt; 1 year   </span>      </td><td>3                                                           </td><td>1                                                           </td><td>25                                                          </td><td>none                                                        </td><td>rent                                                        </td><td>1                                                           </td><td><span style=white-space:pre-wrap>skilled   </span>          </td><td>1                                                           </td><td>no                                                          </td><td>yes                                                         </td></tr>\n",
       "\t<tr><td><span style=white-space:pre-wrap>&lt; 0 DM    </span>       </td><td>48                                                          </td><td><span style=white-space:pre-wrap>good     </span>           </td><td><span style=white-space:pre-wrap>business            </span></td><td> 4308                                                       </td><td><span style=white-space:pre-wrap>&lt; 100 DM     </span>    </td><td><span style=white-space:pre-wrap>&lt; 1 year   </span>      </td><td>3                                                           </td><td>4                                                           </td><td>24                                                          </td><td>none                                                        </td><td>rent                                                        </td><td>1                                                           </td><td><span style=white-space:pre-wrap>skilled   </span>          </td><td>1                                                           </td><td>no                                                          </td><td>yes                                                         </td></tr>\n",
       "\t<tr><td>1 - 200 DM                                              </td><td>12                                                      </td><td><span style=white-space:pre-wrap>good     </span>       </td><td>furniture/appliances                                    </td><td> 1567                                                   </td><td><span style=white-space:pre-wrap>&lt; 100 DM     </span></td><td>1 - 4 years                                             </td><td>1                                                       </td><td>1                                                       </td><td>22                                                      </td><td>none                                                    </td><td><span style=white-space:pre-wrap>own  </span>           </td><td>1                                                       </td><td><span style=white-space:pre-wrap>skilled   </span>      </td><td>1                                                       </td><td>yes                                                     </td><td>no                                                      </td></tr>\n",
       "\t<tr><td><span style=white-space:pre-wrap>&lt; 0 DM    </span>       </td><td>24                                                          </td><td>critical                                                    </td><td><span style=white-space:pre-wrap>car                 </span></td><td> 1199                                                       </td><td><span style=white-space:pre-wrap>&lt; 100 DM     </span>    </td><td><span style=white-space:pre-wrap>&gt; 7 years  </span>      </td><td>4                                                           </td><td>4                                                           </td><td>60                                                          </td><td>none                                                        </td><td><span style=white-space:pre-wrap>own  </span>               </td><td>2                                                           </td><td>unskilled                                                   </td><td>1                                                           </td><td>no                                                          </td><td>yes                                                         </td></tr>\n",
       "\t<tr><td><span style=white-space:pre-wrap>&lt; 0 DM    </span>       </td><td>15                                                          </td><td><span style=white-space:pre-wrap>good     </span>           </td><td><span style=white-space:pre-wrap>car                 </span></td><td> 1403                                                       </td><td><span style=white-space:pre-wrap>&lt; 100 DM     </span>    </td><td>1 - 4 years                                                 </td><td>2                                                           </td><td>4                                                           </td><td>28                                                          </td><td>none                                                        </td><td>rent                                                        </td><td>1                                                           </td><td><span style=white-space:pre-wrap>skilled   </span>          </td><td>1                                                           </td><td>no                                                          </td><td>no                                                          </td></tr>\n",
       "\t<tr><td><span style=white-space:pre-wrap>&lt; 0 DM    </span></td><td>24                                                   </td><td><span style=white-space:pre-wrap>good     </span>    </td><td>furniture/appliances                                 </td><td> 1282                                                </td><td>100 - 500 DM                                         </td><td>1 - 4 years                                          </td><td>4                                                    </td><td>2                                                    </td><td>32                                                   </td><td>none                                                 </td><td><span style=white-space:pre-wrap>own  </span>        </td><td>1                                                    </td><td>unskilled                                            </td><td>1                                                    </td><td>no                                                   </td><td>yes                                                  </td></tr>\n",
       "\t<tr><td><span style=white-space:pre-wrap>unknown   </span>    </td><td>24                                                    </td><td>critical                                              </td><td>furniture/appliances                                  </td><td> 2424                                                 </td><td><span style=white-space:pre-wrap>unknown      </span> </td><td><span style=white-space:pre-wrap>&gt; 7 years  </span></td><td>4                                                     </td><td>4                                                     </td><td>53                                                    </td><td>none                                                  </td><td><span style=white-space:pre-wrap>own  </span>         </td><td>2                                                     </td><td><span style=white-space:pre-wrap>skilled   </span>    </td><td>1                                                     </td><td>no                                                    </td><td>no                                                    </td></tr>\n",
       "\t<tr><td><span style=white-space:pre-wrap>&lt; 0 DM    </span>       </td><td>30                                                          </td><td><span style=white-space:pre-wrap>perfect  </span>           </td><td><span style=white-space:pre-wrap>business            </span></td><td> 8072                                                       </td><td><span style=white-space:pre-wrap>unknown      </span>       </td><td><span style=white-space:pre-wrap>&lt; 1 year   </span>      </td><td>2                                                           </td><td>3                                                           </td><td>25                                                          </td><td>bank                                                        </td><td><span style=white-space:pre-wrap>own  </span>               </td><td>3                                                           </td><td><span style=white-space:pre-wrap>skilled   </span>          </td><td>1                                                           </td><td>no                                                          </td><td>no                                                          </td></tr>\n",
       "\t<tr><td>1 - 200 DM                                                  </td><td>24                                                          </td><td><span style=white-space:pre-wrap>good     </span>           </td><td><span style=white-space:pre-wrap>car                 </span></td><td>12579                                                       </td><td><span style=white-space:pre-wrap>&lt; 100 DM     </span>    </td><td><span style=white-space:pre-wrap>&gt; 7 years  </span>      </td><td>4                                                           </td><td>2                                                           </td><td>44                                                          </td><td>none                                                        </td><td>other                                                       </td><td>1                                                           </td><td>management                                                  </td><td>1                                                           </td><td>yes                                                         </td><td>yes                                                         </td></tr>\n",
       "\t<tr><td><span style=white-space:pre-wrap>unknown   </span>    </td><td>24                                                    </td><td><span style=white-space:pre-wrap>good     </span>     </td><td>furniture/appliances                                  </td><td> 3430                                                 </td><td>500 - 1000 DM                                         </td><td><span style=white-space:pre-wrap>&gt; 7 years  </span></td><td>3                                                     </td><td>2                                                     </td><td>31                                                    </td><td>none                                                  </td><td><span style=white-space:pre-wrap>own  </span>         </td><td>1                                                     </td><td><span style=white-space:pre-wrap>skilled   </span>    </td><td>2                                                     </td><td>yes                                                   </td><td>no                                                    </td></tr>\n",
       "\t<tr><td><span style=white-space:pre-wrap>unknown   </span>          </td><td> 9                                                          </td><td>critical                                                    </td><td><span style=white-space:pre-wrap>car                 </span></td><td> 2134                                                       </td><td><span style=white-space:pre-wrap>&lt; 100 DM     </span>    </td><td>1 - 4 years                                                 </td><td>4                                                           </td><td>4                                                           </td><td>48                                                          </td><td>none                                                        </td><td><span style=white-space:pre-wrap>own  </span>               </td><td>3                                                           </td><td><span style=white-space:pre-wrap>skilled   </span>          </td><td>1                                                           </td><td>yes                                                         </td><td>no                                                          </td></tr>\n",
       "\t<tr><td><span style=white-space:pre-wrap>&lt; 0 DM    </span></td><td> 6                                                   </td><td><span style=white-space:pre-wrap>good     </span>    </td><td>furniture/appliances                                 </td><td> 2647                                                </td><td>500 - 1000 DM                                        </td><td>1 - 4 years                                          </td><td>2                                                    </td><td>3                                                    </td><td>44                                                   </td><td>none                                                 </td><td>rent                                                 </td><td>1                                                    </td><td><span style=white-space:pre-wrap>skilled   </span>   </td><td>2                                                    </td><td>no                                                   </td><td>no                                                   </td></tr>\n",
       "\t<tr><td><span style=white-space:pre-wrap>&lt; 0 DM    </span>       </td><td>10                                                          </td><td>critical                                                    </td><td><span style=white-space:pre-wrap>car                 </span></td><td> 2241                                                       </td><td><span style=white-space:pre-wrap>&lt; 100 DM     </span>    </td><td><span style=white-space:pre-wrap>&lt; 1 year   </span>      </td><td>1                                                           </td><td>3                                                           </td><td>48                                                          </td><td>none                                                        </td><td>rent                                                        </td><td>2                                                           </td><td>unskilled                                                   </td><td>2                                                           </td><td>no                                                          </td><td>no                                                          </td></tr>\n",
       "\t<tr><td>1 - 200 DM                                                  </td><td>12                                                          </td><td>critical                                                    </td><td><span style=white-space:pre-wrap>car                 </span></td><td> 1804                                                       </td><td>100 - 500 DM                                                </td><td><span style=white-space:pre-wrap>&lt; 1 year   </span>      </td><td>3                                                           </td><td>4                                                           </td><td>44                                                          </td><td>none                                                        </td><td><span style=white-space:pre-wrap>own  </span>               </td><td>1                                                           </td><td><span style=white-space:pre-wrap>skilled   </span>          </td><td>1                                                           </td><td>no                                                          </td><td>no                                                          </td></tr>\n",
       "\t<tr><td>unknown             </td><td>10                  </td><td>critical            </td><td>furniture/appliances</td><td> 2069               </td><td>unknown             </td><td>1 - 4 years         </td><td>2                   </td><td>1                   </td><td>26                  </td><td>none                </td><td>own                 </td><td>2                   </td><td>skilled             </td><td>1                   </td><td>no                  </td><td>no                  </td></tr>\n",
       "\t<tr><td><span style=white-space:pre-wrap>&lt; 0 DM    </span>   </td><td> 6                                                      </td><td><span style=white-space:pre-wrap>good     </span>       </td><td>furniture/appliances                                    </td><td> 1374                                                   </td><td><span style=white-space:pre-wrap>&lt; 100 DM     </span></td><td>1 - 4 years                                             </td><td>1                                                       </td><td>2                                                       </td><td>36                                                      </td><td>bank                                                    </td><td><span style=white-space:pre-wrap>own  </span>           </td><td>1                                                       </td><td>unskilled                                               </td><td>1                                                       </td><td>yes                                                     </td><td>no                                                      </td></tr>\n",
       "\t<tr><td><span style=white-space:pre-wrap>unknown   </span>      </td><td> 6                                                      </td><td><span style=white-space:pre-wrap>perfect  </span>       </td><td>furniture/appliances                                    </td><td><span style=white-space:pre-wrap>  426</span>           </td><td><span style=white-space:pre-wrap>&lt; 100 DM     </span></td><td><span style=white-space:pre-wrap>&gt; 7 years  </span>  </td><td>4                                                       </td><td>4                                                       </td><td>39                                                      </td><td>none                                                    </td><td><span style=white-space:pre-wrap>own  </span>           </td><td>1                                                       </td><td>unskilled                                               </td><td>1                                                       </td><td>no                                                      </td><td>no                                                      </td></tr>\n",
       "\t<tr><td><span style=white-space:pre-wrap>&gt; 200 DM  </span>   </td><td>12                                                      </td><td>very good                                               </td><td>furniture/appliances                                    </td><td><span style=white-space:pre-wrap>  409</span>           </td><td><span style=white-space:pre-wrap>&gt; 1000 DM    </span></td><td>1 - 4 years                                             </td><td>3                                                       </td><td>3                                                       </td><td>42                                                      </td><td>none                                                    </td><td>rent                                                    </td><td>2                                                       </td><td><span style=white-space:pre-wrap>skilled   </span>      </td><td>1                                                       </td><td>no                                                      </td><td>no                                                      </td></tr>\n",
       "\t<tr><td>1 - 200 DM                                              </td><td> 7                                                      </td><td><span style=white-space:pre-wrap>good     </span>       </td><td>furniture/appliances                                    </td><td> 2415                                                   </td><td><span style=white-space:pre-wrap>&lt; 100 DM     </span></td><td>1 - 4 years                                             </td><td>3                                                       </td><td>2                                                       </td><td>34                                                      </td><td>none                                                    </td><td><span style=white-space:pre-wrap>own  </span>           </td><td>1                                                       </td><td><span style=white-space:pre-wrap>skilled   </span>      </td><td>1                                                       </td><td>no                                                      </td><td>no                                                      </td></tr>\n",
       "\t<tr><td><span style=white-space:pre-wrap>&lt; 0 DM    </span>       </td><td>60                                                          </td><td><span style=white-space:pre-wrap>poor     </span>           </td><td><span style=white-space:pre-wrap>business            </span></td><td> 6836                                                       </td><td><span style=white-space:pre-wrap>&lt; 100 DM     </span>    </td><td><span style=white-space:pre-wrap>&gt; 7 years  </span>      </td><td>3                                                           </td><td>4                                                           </td><td>63                                                          </td><td>none                                                        </td><td><span style=white-space:pre-wrap>own  </span>               </td><td>2                                                           </td><td><span style=white-space:pre-wrap>skilled   </span>          </td><td>1                                                           </td><td>yes                                                         </td><td>yes                                                         </td></tr>\n",
       "\t<tr><td>⋮</td><td>⋮</td><td>⋮</td><td>⋮</td><td>⋮</td><td>⋮</td><td>⋮</td><td>⋮</td><td>⋮</td><td>⋮</td><td>⋮</td><td>⋮</td><td>⋮</td><td>⋮</td><td>⋮</td><td>⋮</td><td>⋮</td></tr>\n",
       "\t<tr><td>1 - 200 DM          </td><td>15                  </td><td>good                </td><td>renovations         </td><td>1514                </td><td>100 - 500 DM        </td><td>1 - 4 years         </td><td>4                   </td><td>2                   </td><td>22                  </td><td>none                </td><td>own                 </td><td>1                   </td><td>skilled             </td><td>1                   </td><td>no                  </td><td>no                  </td></tr>\n",
       "\t<tr><td><span style=white-space:pre-wrap>unknown   </span>          </td><td>24                                                          </td><td><span style=white-space:pre-wrap>good     </span>           </td><td><span style=white-space:pre-wrap>car                 </span></td><td>7393                                                        </td><td><span style=white-space:pre-wrap>&lt; 100 DM     </span>    </td><td>1 - 4 years                                                 </td><td>1                                                           </td><td>4                                                           </td><td>43                                                          </td><td>none                                                        </td><td><span style=white-space:pre-wrap>own  </span>               </td><td>1                                                           </td><td>unskilled                                                   </td><td>2                                                           </td><td>no                                                          </td><td>no                                                          </td></tr>\n",
       "\t<tr><td><span style=white-space:pre-wrap>&lt; 0 DM    </span>       </td><td>24                                                          </td><td>very good                                                   </td><td><span style=white-space:pre-wrap>car                 </span></td><td>1193                                                        </td><td><span style=white-space:pre-wrap>&lt; 100 DM     </span>    </td><td>unemployed                                                  </td><td>1                                                           </td><td>4                                                           </td><td>29                                                          </td><td>none                                                        </td><td>rent                                                        </td><td>2                                                           </td><td>unemployed                                                  </td><td>1                                                           </td><td>no                                                          </td><td>yes                                                         </td></tr>\n",
       "\t<tr><td><span style=white-space:pre-wrap>&lt; 0 DM    </span>       </td><td>60                                                          </td><td><span style=white-space:pre-wrap>good     </span>           </td><td><span style=white-space:pre-wrap>business            </span></td><td>7297                                                        </td><td><span style=white-space:pre-wrap>&lt; 100 DM     </span>    </td><td><span style=white-space:pre-wrap>&gt; 7 years  </span>      </td><td>4                                                           </td><td>4                                                           </td><td>36                                                          </td><td>none                                                        </td><td>rent                                                        </td><td>1                                                           </td><td><span style=white-space:pre-wrap>skilled   </span>          </td><td>1                                                           </td><td>no                                                          </td><td>yes                                                         </td></tr>\n",
       "\t<tr><td><span style=white-space:pre-wrap>unknown   </span>      </td><td>30                                                      </td><td>critical                                                </td><td>furniture/appliances                                    </td><td>2831                                                    </td><td><span style=white-space:pre-wrap>&lt; 100 DM     </span></td><td>1 - 4 years                                             </td><td>4                                                       </td><td>2                                                       </td><td>33                                                      </td><td>none                                                    </td><td><span style=white-space:pre-wrap>own  </span>           </td><td>1                                                       </td><td><span style=white-space:pre-wrap>skilled   </span>      </td><td>1                                                       </td><td>yes                                                     </td><td>no                                                      </td></tr>\n",
       "\t<tr><td><span style=white-space:pre-wrap>&gt; 200 DM  </span></td><td>24                                                   </td><td><span style=white-space:pre-wrap>good     </span>    </td><td>furniture/appliances                                 </td><td>1258                                                 </td><td>500 - 1000 DM                                        </td><td>1 - 4 years                                          </td><td>3                                                    </td><td>3                                                    </td><td>57                                                   </td><td>none                                                 </td><td><span style=white-space:pre-wrap>own  </span>        </td><td>1                                                    </td><td>unskilled                                            </td><td>1                                                    </td><td>no                                                   </td><td>no                                                   </td></tr>\n",
       "\t<tr><td>1 - 200 DM                                              </td><td> 6                                                      </td><td><span style=white-space:pre-wrap>good     </span>       </td><td>furniture/appliances                                    </td><td> 753                                                    </td><td><span style=white-space:pre-wrap>&lt; 100 DM     </span></td><td>1 - 4 years                                             </td><td>2                                                       </td><td>3                                                       </td><td>64                                                      </td><td>none                                                    </td><td><span style=white-space:pre-wrap>own  </span>           </td><td>1                                                       </td><td><span style=white-space:pre-wrap>skilled   </span>      </td><td>1                                                       </td><td>no                                                      </td><td>no                                                      </td></tr>\n",
       "\t<tr><td>1 - 200 DM                                                  </td><td>18                                                          </td><td><span style=white-space:pre-wrap>poor     </span>           </td><td><span style=white-space:pre-wrap>business            </span></td><td>2427                                                        </td><td><span style=white-space:pre-wrap>unknown      </span>       </td><td><span style=white-space:pre-wrap>&gt; 7 years  </span>      </td><td>4                                                           </td><td>2                                                           </td><td>42                                                          </td><td>none                                                        </td><td><span style=white-space:pre-wrap>own  </span>               </td><td>2                                                           </td><td><span style=white-space:pre-wrap>skilled   </span>          </td><td>1                                                           </td><td>no                                                          </td><td>no                                                          </td></tr>\n",
       "\t<tr><td><span style=white-space:pre-wrap>unknown   </span>          </td><td>24                                                          </td><td><span style=white-space:pre-wrap>poor     </span>           </td><td><span style=white-space:pre-wrap>car                 </span></td><td>2538                                                        </td><td><span style=white-space:pre-wrap>&lt; 100 DM     </span>    </td><td><span style=white-space:pre-wrap>&gt; 7 years  </span>      </td><td>4                                                           </td><td>4                                                           </td><td>47                                                          </td><td>none                                                        </td><td><span style=white-space:pre-wrap>own  </span>               </td><td>2                                                           </td><td>unskilled                                                   </td><td>2                                                           </td><td>no                                                          </td><td>yes                                                         </td></tr>\n",
       "\t<tr><td>1 - 200 DM          </td><td>15                  </td><td>very good           </td><td>car                 </td><td>1264                </td><td>100 - 500 DM        </td><td>1 - 4 years         </td><td>2                   </td><td>2                   </td><td>25                  </td><td>none                </td><td>rent                </td><td>1                   </td><td>skilled             </td><td>1                   </td><td>no                  </td><td>yes                 </td></tr>\n",
       "\t<tr><td>1 - 200 DM                                              </td><td>30                                                      </td><td>critical                                                </td><td>furniture/appliances                                    </td><td>8386                                                    </td><td><span style=white-space:pre-wrap>&lt; 100 DM     </span></td><td>4 - 7 years                                             </td><td>2                                                       </td><td>2                                                       </td><td>49                                                      </td><td>none                                                    </td><td><span style=white-space:pre-wrap>own  </span>           </td><td>1                                                       </td><td><span style=white-space:pre-wrap>skilled   </span>      </td><td>1                                                       </td><td>no                                                      </td><td>yes                                                     </td></tr>\n",
       "\t<tr><td><span style=white-space:pre-wrap>unknown   </span>          </td><td>48                                                          </td><td><span style=white-space:pre-wrap>good     </span>           </td><td><span style=white-space:pre-wrap>business            </span></td><td>4844                                                        </td><td><span style=white-space:pre-wrap>&lt; 100 DM     </span>    </td><td>unemployed                                                  </td><td>3                                                           </td><td>2                                                           </td><td>33                                                          </td><td>bank                                                        </td><td>rent                                                        </td><td>1                                                           </td><td>management                                                  </td><td>1                                                           </td><td>yes                                                         </td><td>yes                                                         </td></tr>\n",
       "\t<tr><td><span style=white-space:pre-wrap>&gt; 200 DM  </span>       </td><td>21                                                          </td><td><span style=white-space:pre-wrap>good     </span>           </td><td><span style=white-space:pre-wrap>car                 </span></td><td>2923                                                        </td><td>100 - 500 DM                                                </td><td>1 - 4 years                                                 </td><td>1                                                           </td><td>1                                                           </td><td>28                                                          </td><td>bank                                                        </td><td><span style=white-space:pre-wrap>own  </span>               </td><td>1                                                           </td><td>management                                                  </td><td>1                                                           </td><td>yes                                                         </td><td>no                                                          </td></tr>\n",
       "\t<tr><td><span style=white-space:pre-wrap>&lt; 0 DM    </span>       </td><td>36                                                          </td><td><span style=white-space:pre-wrap>good     </span>           </td><td><span style=white-space:pre-wrap>car                 </span></td><td>8229                                                        </td><td><span style=white-space:pre-wrap>&lt; 100 DM     </span>    </td><td>1 - 4 years                                                 </td><td>2                                                           </td><td>2                                                           </td><td>26                                                          </td><td>none                                                        </td><td><span style=white-space:pre-wrap>own  </span>               </td><td>1                                                           </td><td><span style=white-space:pre-wrap>skilled   </span>          </td><td>2                                                           </td><td>no                                                          </td><td>yes                                                         </td></tr>\n",
       "\t<tr><td><span style=white-space:pre-wrap>unknown   </span>      </td><td>24                                                      </td><td>critical                                                </td><td>furniture/appliances                                    </td><td>2028                                                    </td><td><span style=white-space:pre-wrap>&lt; 100 DM     </span></td><td>4 - 7 years                                             </td><td>2                                                       </td><td>2                                                       </td><td>30                                                      </td><td>none                                                    </td><td><span style=white-space:pre-wrap>own  </span>           </td><td>2                                                       </td><td>unskilled                                               </td><td>1                                                       </td><td>no                                                      </td><td>no                                                      </td></tr>\n",
       "\t<tr><td><span style=white-space:pre-wrap>&lt; 0 DM    </span>   </td><td>15                                                      </td><td>critical                                                </td><td>furniture/appliances                                    </td><td>1433                                                    </td><td><span style=white-space:pre-wrap>&lt; 100 DM     </span></td><td>1 - 4 years                                             </td><td>4                                                       </td><td>3                                                       </td><td>25                                                      </td><td>none                                                    </td><td>rent                                                    </td><td>2                                                       </td><td><span style=white-space:pre-wrap>skilled   </span>      </td><td>1                                                       </td><td>no                                                      </td><td>no                                                      </td></tr>\n",
       "\t<tr><td><span style=white-space:pre-wrap>&gt; 200 DM  </span>       </td><td>42                                                          </td><td><span style=white-space:pre-wrap>perfect  </span>           </td><td><span style=white-space:pre-wrap>business            </span></td><td>6289                                                        </td><td><span style=white-space:pre-wrap>&lt; 100 DM     </span>    </td><td><span style=white-space:pre-wrap>&lt; 1 year   </span>      </td><td>2                                                           </td><td>1                                                           </td><td>33                                                          </td><td>none                                                        </td><td><span style=white-space:pre-wrap>own  </span>               </td><td>2                                                           </td><td><span style=white-space:pre-wrap>skilled   </span>          </td><td>1                                                           </td><td>no                                                          </td><td>no                                                          </td></tr>\n",
       "\t<tr><td>unknown             </td><td>13                  </td><td>good                </td><td>furniture/appliances</td><td>1409                </td><td>100 - 500 DM        </td><td>unemployed          </td><td>2                   </td><td>4                   </td><td>64                  </td><td>none                </td><td>own                 </td><td>1                   </td><td>skilled             </td><td>1                   </td><td>no                  </td><td>no                  </td></tr>\n",
       "\t<tr><td><span style=white-space:pre-wrap>&lt; 0 DM    </span>       </td><td>24                                                          </td><td><span style=white-space:pre-wrap>good     </span>           </td><td><span style=white-space:pre-wrap>car                 </span></td><td>6579                                                        </td><td><span style=white-space:pre-wrap>&lt; 100 DM     </span>    </td><td>unemployed                                                  </td><td>4                                                           </td><td>2                                                           </td><td>29                                                          </td><td>none                                                        </td><td>other                                                       </td><td>1                                                           </td><td>management                                                  </td><td>1                                                           </td><td>yes                                                         </td><td>no                                                          </td></tr>\n",
       "\t<tr><td>1 - 200 DM                                              </td><td>24                                                      </td><td>critical                                                </td><td>furniture/appliances                                    </td><td>1743                                                    </td><td><span style=white-space:pre-wrap>&lt; 100 DM     </span></td><td><span style=white-space:pre-wrap>&gt; 7 years  </span>  </td><td>4                                                       </td><td>2                                                       </td><td>48                                                      </td><td>none                                                    </td><td><span style=white-space:pre-wrap>own  </span>           </td><td>2                                                       </td><td>unskilled                                               </td><td>1                                                       </td><td>no                                                      </td><td>no                                                      </td></tr>\n",
       "\t<tr><td><span style=white-space:pre-wrap>unknown   </span>          </td><td>12                                                          </td><td>critical                                                    </td><td><span style=white-space:pre-wrap>education           </span></td><td>3565                                                        </td><td><span style=white-space:pre-wrap>unknown      </span>       </td><td><span style=white-space:pre-wrap>&lt; 1 year   </span>      </td><td>2                                                           </td><td>1                                                           </td><td>37                                                          </td><td>none                                                        </td><td><span style=white-space:pre-wrap>own  </span>               </td><td>2                                                           </td><td>unskilled                                                   </td><td>2                                                           </td><td>no                                                          </td><td>no                                                          </td></tr>\n",
       "\t<tr><td><span style=white-space:pre-wrap>unknown   </span>    </td><td>15                                                    </td><td>very good                                             </td><td>furniture/appliances                                  </td><td>1569                                                  </td><td>100 - 500 DM                                          </td><td><span style=white-space:pre-wrap>&gt; 7 years  </span></td><td>4                                                     </td><td>4                                                     </td><td>34                                                    </td><td>bank                                                  </td><td><span style=white-space:pre-wrap>own  </span>         </td><td>1                                                     </td><td>unskilled                                             </td><td>2                                                     </td><td>no                                                    </td><td>no                                                    </td></tr>\n",
       "\t<tr><td><span style=white-space:pre-wrap>&lt; 0 DM    </span></td><td>18                                                   </td><td><span style=white-space:pre-wrap>good     </span>    </td><td>furniture/appliances                                 </td><td>1936                                                 </td><td><span style=white-space:pre-wrap>unknown      </span></td><td>4 - 7 years                                          </td><td>2                                                    </td><td>4                                                    </td><td>23                                                   </td><td>none                                                 </td><td>rent                                                 </td><td>2                                                    </td><td>unskilled                                            </td><td>1                                                    </td><td>no                                                   </td><td>no                                                   </td></tr>\n",
       "\t<tr><td><span style=white-space:pre-wrap>&lt; 0 DM    </span>   </td><td>36                                                      </td><td><span style=white-space:pre-wrap>good     </span>       </td><td>furniture/appliances                                    </td><td>3959                                                    </td><td><span style=white-space:pre-wrap>&lt; 100 DM     </span></td><td>unemployed                                              </td><td>4                                                       </td><td>3                                                       </td><td>30                                                      </td><td>none                                                    </td><td><span style=white-space:pre-wrap>own  </span>           </td><td>1                                                       </td><td>management                                              </td><td>1                                                       </td><td>yes                                                     </td><td>no                                                      </td></tr>\n",
       "\t<tr><td><span style=white-space:pre-wrap>unknown   </span>          </td><td>12                                                          </td><td><span style=white-space:pre-wrap>good     </span>           </td><td><span style=white-space:pre-wrap>car                 </span></td><td>2390                                                        </td><td><span style=white-space:pre-wrap>unknown      </span>       </td><td><span style=white-space:pre-wrap>&gt; 7 years  </span>      </td><td>4                                                           </td><td>3                                                           </td><td>50                                                          </td><td>none                                                        </td><td><span style=white-space:pre-wrap>own  </span>               </td><td>1                                                           </td><td><span style=white-space:pre-wrap>skilled   </span>          </td><td>1                                                           </td><td>yes                                                         </td><td>no                                                          </td></tr>\n",
       "\t<tr><td><span style=white-space:pre-wrap>unknown   </span>      </td><td>12                                                      </td><td><span style=white-space:pre-wrap>good     </span>       </td><td>furniture/appliances                                    </td><td>1736                                                    </td><td><span style=white-space:pre-wrap>&lt; 100 DM     </span></td><td>4 - 7 years                                             </td><td>3                                                       </td><td>4                                                       </td><td>31                                                      </td><td>none                                                    </td><td><span style=white-space:pre-wrap>own  </span>           </td><td>1                                                       </td><td>unskilled                                               </td><td>1                                                       </td><td>no                                                      </td><td>no                                                      </td></tr>\n",
       "\t<tr><td><span style=white-space:pre-wrap>&lt; 0 DM    </span>       </td><td>30                                                          </td><td><span style=white-space:pre-wrap>good     </span>           </td><td><span style=white-space:pre-wrap>car                 </span></td><td>3857                                                        </td><td><span style=white-space:pre-wrap>&lt; 100 DM     </span>    </td><td>1 - 4 years                                                 </td><td>4                                                           </td><td>4                                                           </td><td>40                                                          </td><td>none                                                        </td><td><span style=white-space:pre-wrap>own  </span>               </td><td>1                                                           </td><td>management                                                  </td><td>1                                                           </td><td>yes                                                         </td><td>no                                                          </td></tr>\n",
       "\t<tr><td><span style=white-space:pre-wrap>unknown   </span>      </td><td>12                                                      </td><td><span style=white-space:pre-wrap>good     </span>       </td><td>furniture/appliances                                    </td><td> 804                                                    </td><td><span style=white-space:pre-wrap>&lt; 100 DM     </span></td><td><span style=white-space:pre-wrap>&gt; 7 years  </span>  </td><td>4                                                       </td><td>4                                                       </td><td>38                                                      </td><td>none                                                    </td><td><span style=white-space:pre-wrap>own  </span>           </td><td>1                                                       </td><td><span style=white-space:pre-wrap>skilled   </span>      </td><td>1                                                       </td><td>no                                                      </td><td>no                                                      </td></tr>\n",
       "\t<tr><td><span style=white-space:pre-wrap>&lt; 0 DM    </span>   </td><td>45                                                      </td><td><span style=white-space:pre-wrap>good     </span>       </td><td>furniture/appliances                                    </td><td>1845                                                    </td><td><span style=white-space:pre-wrap>&lt; 100 DM     </span></td><td>1 - 4 years                                             </td><td>4                                                       </td><td>4                                                       </td><td>23                                                      </td><td>none                                                    </td><td>other                                                   </td><td>1                                                       </td><td><span style=white-space:pre-wrap>skilled   </span>      </td><td>1                                                       </td><td>yes                                                     </td><td>yes                                                     </td></tr>\n",
       "\t<tr><td>1 - 200 DM          </td><td>45                  </td><td>critical            </td><td>car                 </td><td>4576                </td><td>100 - 500 DM        </td><td>unemployed          </td><td>3                   </td><td>4                   </td><td>27                  </td><td>none                </td><td>own                 </td><td>1                   </td><td>skilled             </td><td>1                   </td><td>no                  </td><td>no                  </td></tr>\n",
       "</tbody>\n",
       "</table>\n"
      ],
      "text/latex": [
       "\\begin{tabular}{r|lllllllllllllllll}\n",
       " checking\\_balance & months\\_loan\\_duration & credit\\_history & purpose & amount & savings\\_balance & employment\\_duration & percent\\_of\\_income & years\\_at\\_residence & age & other\\_credit & housing & existing\\_loans\\_count & job & dependents & phone & default\\\\\n",
       "\\hline\n",
       "\t < 0 DM               &  6                   & critical             & furniture/appliances &  1169                & unknown              & > 7 years            & 4                    & 4                    & 67                   & none                 & own                  & 2                    & skilled              & 1                    & yes                  & no                  \\\\\n",
       "\t 1 - 200 DM           & 48                   & good                 & furniture/appliances &  5951                & < 100 DM             & 1 - 4 years          & 2                    & 2                    & 22                   & none                 & own                  & 1                    & skilled              & 1                    & no                   & yes                 \\\\\n",
       "\t unknown              & 12                   & critical             & education            &  2096                & < 100 DM             & 4 - 7 years          & 2                    & 3                    & 49                   & none                 & own                  & 1                    & unskilled            & 2                    & no                   & no                  \\\\\n",
       "\t < 0 DM               & 42                   & good                 & furniture/appliances &  7882                & < 100 DM             & 4 - 7 years          & 2                    & 4                    & 45                   & none                 & other                & 1                    & skilled              & 2                    & no                   & no                  \\\\\n",
       "\t < 0 DM               & 24                   & poor                 & car                  &  4870                & < 100 DM             & 1 - 4 years          & 3                    & 4                    & 53                   & none                 & other                & 2                    & skilled              & 2                    & no                   & yes                 \\\\\n",
       "\t unknown              & 36                   & good                 & education            &  9055                & unknown              & 1 - 4 years          & 2                    & 4                    & 35                   & none                 & other                & 1                    & unskilled            & 2                    & yes                  & no                  \\\\\n",
       "\t unknown              & 24                   & good                 & furniture/appliances &  2835                & 500 - 1000 DM        & > 7 years            & 3                    & 4                    & 53                   & none                 & own                  & 1                    & skilled              & 1                    & no                   & no                  \\\\\n",
       "\t 1 - 200 DM           & 36                   & good                 & car                  &  6948                & < 100 DM             & 1 - 4 years          & 2                    & 2                    & 35                   & none                 & rent                 & 1                    & management           & 1                    & yes                  & no                  \\\\\n",
       "\t unknown              & 12                   & good                 & furniture/appliances &  3059                & > 1000 DM            & 4 - 7 years          & 2                    & 4                    & 61                   & none                 & own                  & 1                    & unskilled            & 1                    & no                   & no                  \\\\\n",
       "\t 1 - 200 DM           & 30                   & critical             & car                  &  5234                & < 100 DM             & unemployed           & 4                    & 2                    & 28                   & none                 & own                  & 2                    & management           & 1                    & no                   & yes                 \\\\\n",
       "\t 1 - 200 DM           & 12                   & good                 & car                  &  1295                & < 100 DM             & < 1 year             & 3                    & 1                    & 25                   & none                 & rent                 & 1                    & skilled              & 1                    & no                   & yes                 \\\\\n",
       "\t < 0 DM               & 48                   & good                 & business             &  4308                & < 100 DM             & < 1 year             & 3                    & 4                    & 24                   & none                 & rent                 & 1                    & skilled              & 1                    & no                   & yes                 \\\\\n",
       "\t 1 - 200 DM           & 12                   & good                 & furniture/appliances &  1567                & < 100 DM             & 1 - 4 years          & 1                    & 1                    & 22                   & none                 & own                  & 1                    & skilled              & 1                    & yes                  & no                  \\\\\n",
       "\t < 0 DM               & 24                   & critical             & car                  &  1199                & < 100 DM             & > 7 years            & 4                    & 4                    & 60                   & none                 & own                  & 2                    & unskilled            & 1                    & no                   & yes                 \\\\\n",
       "\t < 0 DM               & 15                   & good                 & car                  &  1403                & < 100 DM             & 1 - 4 years          & 2                    & 4                    & 28                   & none                 & rent                 & 1                    & skilled              & 1                    & no                   & no                  \\\\\n",
       "\t < 0 DM               & 24                   & good                 & furniture/appliances &  1282                & 100 - 500 DM         & 1 - 4 years          & 4                    & 2                    & 32                   & none                 & own                  & 1                    & unskilled            & 1                    & no                   & yes                 \\\\\n",
       "\t unknown              & 24                   & critical             & furniture/appliances &  2424                & unknown              & > 7 years            & 4                    & 4                    & 53                   & none                 & own                  & 2                    & skilled              & 1                    & no                   & no                  \\\\\n",
       "\t < 0 DM               & 30                   & perfect              & business             &  8072                & unknown              & < 1 year             & 2                    & 3                    & 25                   & bank                 & own                  & 3                    & skilled              & 1                    & no                   & no                  \\\\\n",
       "\t 1 - 200 DM           & 24                   & good                 & car                  & 12579                & < 100 DM             & > 7 years            & 4                    & 2                    & 44                   & none                 & other                & 1                    & management           & 1                    & yes                  & yes                 \\\\\n",
       "\t unknown              & 24                   & good                 & furniture/appliances &  3430                & 500 - 1000 DM        & > 7 years            & 3                    & 2                    & 31                   & none                 & own                  & 1                    & skilled              & 2                    & yes                  & no                  \\\\\n",
       "\t unknown              &  9                   & critical             & car                  &  2134                & < 100 DM             & 1 - 4 years          & 4                    & 4                    & 48                   & none                 & own                  & 3                    & skilled              & 1                    & yes                  & no                  \\\\\n",
       "\t < 0 DM               &  6                   & good                 & furniture/appliances &  2647                & 500 - 1000 DM        & 1 - 4 years          & 2                    & 3                    & 44                   & none                 & rent                 & 1                    & skilled              & 2                    & no                   & no                  \\\\\n",
       "\t < 0 DM               & 10                   & critical             & car                  &  2241                & < 100 DM             & < 1 year             & 1                    & 3                    & 48                   & none                 & rent                 & 2                    & unskilled            & 2                    & no                   & no                  \\\\\n",
       "\t 1 - 200 DM           & 12                   & critical             & car                  &  1804                & 100 - 500 DM         & < 1 year             & 3                    & 4                    & 44                   & none                 & own                  & 1                    & skilled              & 1                    & no                   & no                  \\\\\n",
       "\t unknown              & 10                   & critical             & furniture/appliances &  2069                & unknown              & 1 - 4 years          & 2                    & 1                    & 26                   & none                 & own                  & 2                    & skilled              & 1                    & no                   & no                  \\\\\n",
       "\t < 0 DM               &  6                   & good                 & furniture/appliances &  1374                & < 100 DM             & 1 - 4 years          & 1                    & 2                    & 36                   & bank                 & own                  & 1                    & unskilled            & 1                    & yes                  & no                  \\\\\n",
       "\t unknown              &  6                   & perfect              & furniture/appliances &   426                & < 100 DM             & > 7 years            & 4                    & 4                    & 39                   & none                 & own                  & 1                    & unskilled            & 1                    & no                   & no                  \\\\\n",
       "\t > 200 DM             & 12                   & very good            & furniture/appliances &   409                & > 1000 DM            & 1 - 4 years          & 3                    & 3                    & 42                   & none                 & rent                 & 2                    & skilled              & 1                    & no                   & no                  \\\\\n",
       "\t 1 - 200 DM           &  7                   & good                 & furniture/appliances &  2415                & < 100 DM             & 1 - 4 years          & 3                    & 2                    & 34                   & none                 & own                  & 1                    & skilled              & 1                    & no                   & no                  \\\\\n",
       "\t < 0 DM               & 60                   & poor                 & business             &  6836                & < 100 DM             & > 7 years            & 3                    & 4                    & 63                   & none                 & own                  & 2                    & skilled              & 1                    & yes                  & yes                 \\\\\n",
       "\t ⋮ & ⋮ & ⋮ & ⋮ & ⋮ & ⋮ & ⋮ & ⋮ & ⋮ & ⋮ & ⋮ & ⋮ & ⋮ & ⋮ & ⋮ & ⋮ & ⋮\\\\\n",
       "\t 1 - 200 DM           & 15                   & good                 & renovations          & 1514                 & 100 - 500 DM         & 1 - 4 years          & 4                    & 2                    & 22                   & none                 & own                  & 1                    & skilled              & 1                    & no                   & no                  \\\\\n",
       "\t unknown              & 24                   & good                 & car                  & 7393                 & < 100 DM             & 1 - 4 years          & 1                    & 4                    & 43                   & none                 & own                  & 1                    & unskilled            & 2                    & no                   & no                  \\\\\n",
       "\t < 0 DM               & 24                   & very good            & car                  & 1193                 & < 100 DM             & unemployed           & 1                    & 4                    & 29                   & none                 & rent                 & 2                    & unemployed           & 1                    & no                   & yes                 \\\\\n",
       "\t < 0 DM               & 60                   & good                 & business             & 7297                 & < 100 DM             & > 7 years            & 4                    & 4                    & 36                   & none                 & rent                 & 1                    & skilled              & 1                    & no                   & yes                 \\\\\n",
       "\t unknown              & 30                   & critical             & furniture/appliances & 2831                 & < 100 DM             & 1 - 4 years          & 4                    & 2                    & 33                   & none                 & own                  & 1                    & skilled              & 1                    & yes                  & no                  \\\\\n",
       "\t > 200 DM             & 24                   & good                 & furniture/appliances & 1258                 & 500 - 1000 DM        & 1 - 4 years          & 3                    & 3                    & 57                   & none                 & own                  & 1                    & unskilled            & 1                    & no                   & no                  \\\\\n",
       "\t 1 - 200 DM           &  6                   & good                 & furniture/appliances &  753                 & < 100 DM             & 1 - 4 years          & 2                    & 3                    & 64                   & none                 & own                  & 1                    & skilled              & 1                    & no                   & no                  \\\\\n",
       "\t 1 - 200 DM           & 18                   & poor                 & business             & 2427                 & unknown              & > 7 years            & 4                    & 2                    & 42                   & none                 & own                  & 2                    & skilled              & 1                    & no                   & no                  \\\\\n",
       "\t unknown              & 24                   & poor                 & car                  & 2538                 & < 100 DM             & > 7 years            & 4                    & 4                    & 47                   & none                 & own                  & 2                    & unskilled            & 2                    & no                   & yes                 \\\\\n",
       "\t 1 - 200 DM           & 15                   & very good            & car                  & 1264                 & 100 - 500 DM         & 1 - 4 years          & 2                    & 2                    & 25                   & none                 & rent                 & 1                    & skilled              & 1                    & no                   & yes                 \\\\\n",
       "\t 1 - 200 DM           & 30                   & critical             & furniture/appliances & 8386                 & < 100 DM             & 4 - 7 years          & 2                    & 2                    & 49                   & none                 & own                  & 1                    & skilled              & 1                    & no                   & yes                 \\\\\n",
       "\t unknown              & 48                   & good                 & business             & 4844                 & < 100 DM             & unemployed           & 3                    & 2                    & 33                   & bank                 & rent                 & 1                    & management           & 1                    & yes                  & yes                 \\\\\n",
       "\t > 200 DM             & 21                   & good                 & car                  & 2923                 & 100 - 500 DM         & 1 - 4 years          & 1                    & 1                    & 28                   & bank                 & own                  & 1                    & management           & 1                    & yes                  & no                  \\\\\n",
       "\t < 0 DM               & 36                   & good                 & car                  & 8229                 & < 100 DM             & 1 - 4 years          & 2                    & 2                    & 26                   & none                 & own                  & 1                    & skilled              & 2                    & no                   & yes                 \\\\\n",
       "\t unknown              & 24                   & critical             & furniture/appliances & 2028                 & < 100 DM             & 4 - 7 years          & 2                    & 2                    & 30                   & none                 & own                  & 2                    & unskilled            & 1                    & no                   & no                  \\\\\n",
       "\t < 0 DM               & 15                   & critical             & furniture/appliances & 1433                 & < 100 DM             & 1 - 4 years          & 4                    & 3                    & 25                   & none                 & rent                 & 2                    & skilled              & 1                    & no                   & no                  \\\\\n",
       "\t > 200 DM             & 42                   & perfect              & business             & 6289                 & < 100 DM             & < 1 year             & 2                    & 1                    & 33                   & none                 & own                  & 2                    & skilled              & 1                    & no                   & no                  \\\\\n",
       "\t unknown              & 13                   & good                 & furniture/appliances & 1409                 & 100 - 500 DM         & unemployed           & 2                    & 4                    & 64                   & none                 & own                  & 1                    & skilled              & 1                    & no                   & no                  \\\\\n",
       "\t < 0 DM               & 24                   & good                 & car                  & 6579                 & < 100 DM             & unemployed           & 4                    & 2                    & 29                   & none                 & other                & 1                    & management           & 1                    & yes                  & no                  \\\\\n",
       "\t 1 - 200 DM           & 24                   & critical             & furniture/appliances & 1743                 & < 100 DM             & > 7 years            & 4                    & 2                    & 48                   & none                 & own                  & 2                    & unskilled            & 1                    & no                   & no                  \\\\\n",
       "\t unknown              & 12                   & critical             & education            & 3565                 & unknown              & < 1 year             & 2                    & 1                    & 37                   & none                 & own                  & 2                    & unskilled            & 2                    & no                   & no                  \\\\\n",
       "\t unknown              & 15                   & very good            & furniture/appliances & 1569                 & 100 - 500 DM         & > 7 years            & 4                    & 4                    & 34                   & bank                 & own                  & 1                    & unskilled            & 2                    & no                   & no                  \\\\\n",
       "\t < 0 DM               & 18                   & good                 & furniture/appliances & 1936                 & unknown              & 4 - 7 years          & 2                    & 4                    & 23                   & none                 & rent                 & 2                    & unskilled            & 1                    & no                   & no                  \\\\\n",
       "\t < 0 DM               & 36                   & good                 & furniture/appliances & 3959                 & < 100 DM             & unemployed           & 4                    & 3                    & 30                   & none                 & own                  & 1                    & management           & 1                    & yes                  & no                  \\\\\n",
       "\t unknown              & 12                   & good                 & car                  & 2390                 & unknown              & > 7 years            & 4                    & 3                    & 50                   & none                 & own                  & 1                    & skilled              & 1                    & yes                  & no                  \\\\\n",
       "\t unknown              & 12                   & good                 & furniture/appliances & 1736                 & < 100 DM             & 4 - 7 years          & 3                    & 4                    & 31                   & none                 & own                  & 1                    & unskilled            & 1                    & no                   & no                  \\\\\n",
       "\t < 0 DM               & 30                   & good                 & car                  & 3857                 & < 100 DM             & 1 - 4 years          & 4                    & 4                    & 40                   & none                 & own                  & 1                    & management           & 1                    & yes                  & no                  \\\\\n",
       "\t unknown              & 12                   & good                 & furniture/appliances &  804                 & < 100 DM             & > 7 years            & 4                    & 4                    & 38                   & none                 & own                  & 1                    & skilled              & 1                    & no                   & no                  \\\\\n",
       "\t < 0 DM               & 45                   & good                 & furniture/appliances & 1845                 & < 100 DM             & 1 - 4 years          & 4                    & 4                    & 23                   & none                 & other                & 1                    & skilled              & 1                    & yes                  & yes                 \\\\\n",
       "\t 1 - 200 DM           & 45                   & critical             & car                  & 4576                 & 100 - 500 DM         & unemployed           & 3                    & 4                    & 27                   & none                 & own                  & 1                    & skilled              & 1                    & no                   & no                  \\\\\n",
       "\\end{tabular}\n"
      ],
      "text/markdown": [
       "\n",
       "checking_balance | months_loan_duration | credit_history | purpose | amount | savings_balance | employment_duration | percent_of_income | years_at_residence | age | other_credit | housing | existing_loans_count | job | dependents | phone | default | \n",
       "|---|---|---|---|---|---|---|---|---|---|---|---|---|---|---|---|---|---|---|---|---|---|---|---|---|---|---|---|---|---|---|---|---|---|---|---|---|---|---|---|---|---|---|---|---|---|---|---|---|---|---|---|---|---|---|---|---|---|---|---|---|\n",
       "| < 0 DM               |  6                   | critical             | furniture/appliances |  1169                | unknown              | > 7 years            | 4                    | 4                    | 67                   | none                 | own                  | 2                    | skilled              | 1                    | yes                  | no                   | \n",
       "| 1 - 200 DM           | 48                   | good                 | furniture/appliances |  5951                | < 100 DM             | 1 - 4 years          | 2                    | 2                    | 22                   | none                 | own                  | 1                    | skilled              | 1                    | no                   | yes                  | \n",
       "| unknown              | 12                   | critical             | education            |  2096                | < 100 DM             | 4 - 7 years          | 2                    | 3                    | 49                   | none                 | own                  | 1                    | unskilled            | 2                    | no                   | no                   | \n",
       "| < 0 DM               | 42                   | good                 | furniture/appliances |  7882                | < 100 DM             | 4 - 7 years          | 2                    | 4                    | 45                   | none                 | other                | 1                    | skilled              | 2                    | no                   | no                   | \n",
       "| < 0 DM               | 24                   | poor                 | car                  |  4870                | < 100 DM             | 1 - 4 years          | 3                    | 4                    | 53                   | none                 | other                | 2                    | skilled              | 2                    | no                   | yes                  | \n",
       "| unknown              | 36                   | good                 | education            |  9055                | unknown              | 1 - 4 years          | 2                    | 4                    | 35                   | none                 | other                | 1                    | unskilled            | 2                    | yes                  | no                   | \n",
       "| unknown              | 24                   | good                 | furniture/appliances |  2835                | 500 - 1000 DM        | > 7 years            | 3                    | 4                    | 53                   | none                 | own                  | 1                    | skilled              | 1                    | no                   | no                   | \n",
       "| 1 - 200 DM           | 36                   | good                 | car                  |  6948                | < 100 DM             | 1 - 4 years          | 2                    | 2                    | 35                   | none                 | rent                 | 1                    | management           | 1                    | yes                  | no                   | \n",
       "| unknown              | 12                   | good                 | furniture/appliances |  3059                | > 1000 DM            | 4 - 7 years          | 2                    | 4                    | 61                   | none                 | own                  | 1                    | unskilled            | 1                    | no                   | no                   | \n",
       "| 1 - 200 DM           | 30                   | critical             | car                  |  5234                | < 100 DM             | unemployed           | 4                    | 2                    | 28                   | none                 | own                  | 2                    | management           | 1                    | no                   | yes                  | \n",
       "| 1 - 200 DM           | 12                   | good                 | car                  |  1295                | < 100 DM             | < 1 year             | 3                    | 1                    | 25                   | none                 | rent                 | 1                    | skilled              | 1                    | no                   | yes                  | \n",
       "| < 0 DM               | 48                   | good                 | business             |  4308                | < 100 DM             | < 1 year             | 3                    | 4                    | 24                   | none                 | rent                 | 1                    | skilled              | 1                    | no                   | yes                  | \n",
       "| 1 - 200 DM           | 12                   | good                 | furniture/appliances |  1567                | < 100 DM             | 1 - 4 years          | 1                    | 1                    | 22                   | none                 | own                  | 1                    | skilled              | 1                    | yes                  | no                   | \n",
       "| < 0 DM               | 24                   | critical             | car                  |  1199                | < 100 DM             | > 7 years            | 4                    | 4                    | 60                   | none                 | own                  | 2                    | unskilled            | 1                    | no                   | yes                  | \n",
       "| < 0 DM               | 15                   | good                 | car                  |  1403                | < 100 DM             | 1 - 4 years          | 2                    | 4                    | 28                   | none                 | rent                 | 1                    | skilled              | 1                    | no                   | no                   | \n",
       "| < 0 DM               | 24                   | good                 | furniture/appliances |  1282                | 100 - 500 DM         | 1 - 4 years          | 4                    | 2                    | 32                   | none                 | own                  | 1                    | unskilled            | 1                    | no                   | yes                  | \n",
       "| unknown              | 24                   | critical             | furniture/appliances |  2424                | unknown              | > 7 years            | 4                    | 4                    | 53                   | none                 | own                  | 2                    | skilled              | 1                    | no                   | no                   | \n",
       "| < 0 DM               | 30                   | perfect              | business             |  8072                | unknown              | < 1 year             | 2                    | 3                    | 25                   | bank                 | own                  | 3                    | skilled              | 1                    | no                   | no                   | \n",
       "| 1 - 200 DM           | 24                   | good                 | car                  | 12579                | < 100 DM             | > 7 years            | 4                    | 2                    | 44                   | none                 | other                | 1                    | management           | 1                    | yes                  | yes                  | \n",
       "| unknown              | 24                   | good                 | furniture/appliances |  3430                | 500 - 1000 DM        | > 7 years            | 3                    | 2                    | 31                   | none                 | own                  | 1                    | skilled              | 2                    | yes                  | no                   | \n",
       "| unknown              |  9                   | critical             | car                  |  2134                | < 100 DM             | 1 - 4 years          | 4                    | 4                    | 48                   | none                 | own                  | 3                    | skilled              | 1                    | yes                  | no                   | \n",
       "| < 0 DM               |  6                   | good                 | furniture/appliances |  2647                | 500 - 1000 DM        | 1 - 4 years          | 2                    | 3                    | 44                   | none                 | rent                 | 1                    | skilled              | 2                    | no                   | no                   | \n",
       "| < 0 DM               | 10                   | critical             | car                  |  2241                | < 100 DM             | < 1 year             | 1                    | 3                    | 48                   | none                 | rent                 | 2                    | unskilled            | 2                    | no                   | no                   | \n",
       "| 1 - 200 DM           | 12                   | critical             | car                  |  1804                | 100 - 500 DM         | < 1 year             | 3                    | 4                    | 44                   | none                 | own                  | 1                    | skilled              | 1                    | no                   | no                   | \n",
       "| unknown              | 10                   | critical             | furniture/appliances |  2069                | unknown              | 1 - 4 years          | 2                    | 1                    | 26                   | none                 | own                  | 2                    | skilled              | 1                    | no                   | no                   | \n",
       "| < 0 DM               |  6                   | good                 | furniture/appliances |  1374                | < 100 DM             | 1 - 4 years          | 1                    | 2                    | 36                   | bank                 | own                  | 1                    | unskilled            | 1                    | yes                  | no                   | \n",
       "| unknown              |  6                   | perfect              | furniture/appliances |   426                | < 100 DM             | > 7 years            | 4                    | 4                    | 39                   | none                 | own                  | 1                    | unskilled            | 1                    | no                   | no                   | \n",
       "| > 200 DM             | 12                   | very good            | furniture/appliances |   409                | > 1000 DM            | 1 - 4 years          | 3                    | 3                    | 42                   | none                 | rent                 | 2                    | skilled              | 1                    | no                   | no                   | \n",
       "| 1 - 200 DM           |  7                   | good                 | furniture/appliances |  2415                | < 100 DM             | 1 - 4 years          | 3                    | 2                    | 34                   | none                 | own                  | 1                    | skilled              | 1                    | no                   | no                   | \n",
       "| < 0 DM               | 60                   | poor                 | business             |  6836                | < 100 DM             | > 7 years            | 3                    | 4                    | 63                   | none                 | own                  | 2                    | skilled              | 1                    | yes                  | yes                  | \n",
       "| ⋮ | ⋮ | ⋮ | ⋮ | ⋮ | ⋮ | ⋮ | ⋮ | ⋮ | ⋮ | ⋮ | ⋮ | ⋮ | ⋮ | ⋮ | ⋮ | ⋮ | \n",
       "| 1 - 200 DM           | 15                   | good                 | renovations          | 1514                 | 100 - 500 DM         | 1 - 4 years          | 4                    | 2                    | 22                   | none                 | own                  | 1                    | skilled              | 1                    | no                   | no                   | \n",
       "| unknown              | 24                   | good                 | car                  | 7393                 | < 100 DM             | 1 - 4 years          | 1                    | 4                    | 43                   | none                 | own                  | 1                    | unskilled            | 2                    | no                   | no                   | \n",
       "| < 0 DM               | 24                   | very good            | car                  | 1193                 | < 100 DM             | unemployed           | 1                    | 4                    | 29                   | none                 | rent                 | 2                    | unemployed           | 1                    | no                   | yes                  | \n",
       "| < 0 DM               | 60                   | good                 | business             | 7297                 | < 100 DM             | > 7 years            | 4                    | 4                    | 36                   | none                 | rent                 | 1                    | skilled              | 1                    | no                   | yes                  | \n",
       "| unknown              | 30                   | critical             | furniture/appliances | 2831                 | < 100 DM             | 1 - 4 years          | 4                    | 2                    | 33                   | none                 | own                  | 1                    | skilled              | 1                    | yes                  | no                   | \n",
       "| > 200 DM             | 24                   | good                 | furniture/appliances | 1258                 | 500 - 1000 DM        | 1 - 4 years          | 3                    | 3                    | 57                   | none                 | own                  | 1                    | unskilled            | 1                    | no                   | no                   | \n",
       "| 1 - 200 DM           |  6                   | good                 | furniture/appliances |  753                 | < 100 DM             | 1 - 4 years          | 2                    | 3                    | 64                   | none                 | own                  | 1                    | skilled              | 1                    | no                   | no                   | \n",
       "| 1 - 200 DM           | 18                   | poor                 | business             | 2427                 | unknown              | > 7 years            | 4                    | 2                    | 42                   | none                 | own                  | 2                    | skilled              | 1                    | no                   | no                   | \n",
       "| unknown              | 24                   | poor                 | car                  | 2538                 | < 100 DM             | > 7 years            | 4                    | 4                    | 47                   | none                 | own                  | 2                    | unskilled            | 2                    | no                   | yes                  | \n",
       "| 1 - 200 DM           | 15                   | very good            | car                  | 1264                 | 100 - 500 DM         | 1 - 4 years          | 2                    | 2                    | 25                   | none                 | rent                 | 1                    | skilled              | 1                    | no                   | yes                  | \n",
       "| 1 - 200 DM           | 30                   | critical             | furniture/appliances | 8386                 | < 100 DM             | 4 - 7 years          | 2                    | 2                    | 49                   | none                 | own                  | 1                    | skilled              | 1                    | no                   | yes                  | \n",
       "| unknown              | 48                   | good                 | business             | 4844                 | < 100 DM             | unemployed           | 3                    | 2                    | 33                   | bank                 | rent                 | 1                    | management           | 1                    | yes                  | yes                  | \n",
       "| > 200 DM             | 21                   | good                 | car                  | 2923                 | 100 - 500 DM         | 1 - 4 years          | 1                    | 1                    | 28                   | bank                 | own                  | 1                    | management           | 1                    | yes                  | no                   | \n",
       "| < 0 DM               | 36                   | good                 | car                  | 8229                 | < 100 DM             | 1 - 4 years          | 2                    | 2                    | 26                   | none                 | own                  | 1                    | skilled              | 2                    | no                   | yes                  | \n",
       "| unknown              | 24                   | critical             | furniture/appliances | 2028                 | < 100 DM             | 4 - 7 years          | 2                    | 2                    | 30                   | none                 | own                  | 2                    | unskilled            | 1                    | no                   | no                   | \n",
       "| < 0 DM               | 15                   | critical             | furniture/appliances | 1433                 | < 100 DM             | 1 - 4 years          | 4                    | 3                    | 25                   | none                 | rent                 | 2                    | skilled              | 1                    | no                   | no                   | \n",
       "| > 200 DM             | 42                   | perfect              | business             | 6289                 | < 100 DM             | < 1 year             | 2                    | 1                    | 33                   | none                 | own                  | 2                    | skilled              | 1                    | no                   | no                   | \n",
       "| unknown              | 13                   | good                 | furniture/appliances | 1409                 | 100 - 500 DM         | unemployed           | 2                    | 4                    | 64                   | none                 | own                  | 1                    | skilled              | 1                    | no                   | no                   | \n",
       "| < 0 DM               | 24                   | good                 | car                  | 6579                 | < 100 DM             | unemployed           | 4                    | 2                    | 29                   | none                 | other                | 1                    | management           | 1                    | yes                  | no                   | \n",
       "| 1 - 200 DM           | 24                   | critical             | furniture/appliances | 1743                 | < 100 DM             | > 7 years            | 4                    | 2                    | 48                   | none                 | own                  | 2                    | unskilled            | 1                    | no                   | no                   | \n",
       "| unknown              | 12                   | critical             | education            | 3565                 | unknown              | < 1 year             | 2                    | 1                    | 37                   | none                 | own                  | 2                    | unskilled            | 2                    | no                   | no                   | \n",
       "| unknown              | 15                   | very good            | furniture/appliances | 1569                 | 100 - 500 DM         | > 7 years            | 4                    | 4                    | 34                   | bank                 | own                  | 1                    | unskilled            | 2                    | no                   | no                   | \n",
       "| < 0 DM               | 18                   | good                 | furniture/appliances | 1936                 | unknown              | 4 - 7 years          | 2                    | 4                    | 23                   | none                 | rent                 | 2                    | unskilled            | 1                    | no                   | no                   | \n",
       "| < 0 DM               | 36                   | good                 | furniture/appliances | 3959                 | < 100 DM             | unemployed           | 4                    | 3                    | 30                   | none                 | own                  | 1                    | management           | 1                    | yes                  | no                   | \n",
       "| unknown              | 12                   | good                 | car                  | 2390                 | unknown              | > 7 years            | 4                    | 3                    | 50                   | none                 | own                  | 1                    | skilled              | 1                    | yes                  | no                   | \n",
       "| unknown              | 12                   | good                 | furniture/appliances | 1736                 | < 100 DM             | 4 - 7 years          | 3                    | 4                    | 31                   | none                 | own                  | 1                    | unskilled            | 1                    | no                   | no                   | \n",
       "| < 0 DM               | 30                   | good                 | car                  | 3857                 | < 100 DM             | 1 - 4 years          | 4                    | 4                    | 40                   | none                 | own                  | 1                    | management           | 1                    | yes                  | no                   | \n",
       "| unknown              | 12                   | good                 | furniture/appliances |  804                 | < 100 DM             | > 7 years            | 4                    | 4                    | 38                   | none                 | own                  | 1                    | skilled              | 1                    | no                   | no                   | \n",
       "| < 0 DM               | 45                   | good                 | furniture/appliances | 1845                 | < 100 DM             | 1 - 4 years          | 4                    | 4                    | 23                   | none                 | other                | 1                    | skilled              | 1                    | yes                  | yes                  | \n",
       "| 1 - 200 DM           | 45                   | critical             | car                  | 4576                 | 100 - 500 DM         | unemployed           | 3                    | 4                    | 27                   | none                 | own                  | 1                    | skilled              | 1                    | no                   | no                   | \n",
       "\n",
       "\n"
      ],
      "text/plain": [
       "     checking_balance months_loan_duration credit_history purpose             \n",
       "1    < 0 DM            6                   critical       furniture/appliances\n",
       "2    1 - 200 DM       48                   good           furniture/appliances\n",
       "3    unknown          12                   critical       education           \n",
       "4    < 0 DM           42                   good           furniture/appliances\n",
       "5    < 0 DM           24                   poor           car                 \n",
       "6    unknown          36                   good           education           \n",
       "7    unknown          24                   good           furniture/appliances\n",
       "8    1 - 200 DM       36                   good           car                 \n",
       "9    unknown          12                   good           furniture/appliances\n",
       "10   1 - 200 DM       30                   critical       car                 \n",
       "11   1 - 200 DM       12                   good           car                 \n",
       "12   < 0 DM           48                   good           business            \n",
       "13   1 - 200 DM       12                   good           furniture/appliances\n",
       "14   < 0 DM           24                   critical       car                 \n",
       "15   < 0 DM           15                   good           car                 \n",
       "16   < 0 DM           24                   good           furniture/appliances\n",
       "17   unknown          24                   critical       furniture/appliances\n",
       "18   < 0 DM           30                   perfect        business            \n",
       "19   1 - 200 DM       24                   good           car                 \n",
       "20   unknown          24                   good           furniture/appliances\n",
       "21   unknown           9                   critical       car                 \n",
       "22   < 0 DM            6                   good           furniture/appliances\n",
       "23   < 0 DM           10                   critical       car                 \n",
       "24   1 - 200 DM       12                   critical       car                 \n",
       "25   unknown          10                   critical       furniture/appliances\n",
       "26   < 0 DM            6                   good           furniture/appliances\n",
       "27   unknown           6                   perfect        furniture/appliances\n",
       "28   > 200 DM         12                   very good      furniture/appliances\n",
       "29   1 - 200 DM        7                   good           furniture/appliances\n",
       "30   < 0 DM           60                   poor           business            \n",
       "⋮    ⋮                ⋮                    ⋮              ⋮                   \n",
       "971  1 - 200 DM       15                   good           renovations         \n",
       "972  unknown          24                   good           car                 \n",
       "973  < 0 DM           24                   very good      car                 \n",
       "974  < 0 DM           60                   good           business            \n",
       "975  unknown          30                   critical       furniture/appliances\n",
       "976  > 200 DM         24                   good           furniture/appliances\n",
       "977  1 - 200 DM        6                   good           furniture/appliances\n",
       "978  1 - 200 DM       18                   poor           business            \n",
       "979  unknown          24                   poor           car                 \n",
       "980  1 - 200 DM       15                   very good      car                 \n",
       "981  1 - 200 DM       30                   critical       furniture/appliances\n",
       "982  unknown          48                   good           business            \n",
       "983  > 200 DM         21                   good           car                 \n",
       "984  < 0 DM           36                   good           car                 \n",
       "985  unknown          24                   critical       furniture/appliances\n",
       "986  < 0 DM           15                   critical       furniture/appliances\n",
       "987  > 200 DM         42                   perfect        business            \n",
       "988  unknown          13                   good           furniture/appliances\n",
       "989  < 0 DM           24                   good           car                 \n",
       "990  1 - 200 DM       24                   critical       furniture/appliances\n",
       "991  unknown          12                   critical       education           \n",
       "992  unknown          15                   very good      furniture/appliances\n",
       "993  < 0 DM           18                   good           furniture/appliances\n",
       "994  < 0 DM           36                   good           furniture/appliances\n",
       "995  unknown          12                   good           car                 \n",
       "996  unknown          12                   good           furniture/appliances\n",
       "997  < 0 DM           30                   good           car                 \n",
       "998  unknown          12                   good           furniture/appliances\n",
       "999  < 0 DM           45                   good           furniture/appliances\n",
       "1000 1 - 200 DM       45                   critical       car                 \n",
       "     amount savings_balance employment_duration percent_of_income\n",
       "1     1169  unknown         > 7 years           4                \n",
       "2     5951  < 100 DM        1 - 4 years         2                \n",
       "3     2096  < 100 DM        4 - 7 years         2                \n",
       "4     7882  < 100 DM        4 - 7 years         2                \n",
       "5     4870  < 100 DM        1 - 4 years         3                \n",
       "6     9055  unknown         1 - 4 years         2                \n",
       "7     2835  500 - 1000 DM   > 7 years           3                \n",
       "8     6948  < 100 DM        1 - 4 years         2                \n",
       "9     3059  > 1000 DM       4 - 7 years         2                \n",
       "10    5234  < 100 DM        unemployed          4                \n",
       "11    1295  < 100 DM        < 1 year            3                \n",
       "12    4308  < 100 DM        < 1 year            3                \n",
       "13    1567  < 100 DM        1 - 4 years         1                \n",
       "14    1199  < 100 DM        > 7 years           4                \n",
       "15    1403  < 100 DM        1 - 4 years         2                \n",
       "16    1282  100 - 500 DM    1 - 4 years         4                \n",
       "17    2424  unknown         > 7 years           4                \n",
       "18    8072  unknown         < 1 year            2                \n",
       "19   12579  < 100 DM        > 7 years           4                \n",
       "20    3430  500 - 1000 DM   > 7 years           3                \n",
       "21    2134  < 100 DM        1 - 4 years         4                \n",
       "22    2647  500 - 1000 DM   1 - 4 years         2                \n",
       "23    2241  < 100 DM        < 1 year            1                \n",
       "24    1804  100 - 500 DM    < 1 year            3                \n",
       "25    2069  unknown         1 - 4 years         2                \n",
       "26    1374  < 100 DM        1 - 4 years         1                \n",
       "27     426  < 100 DM        > 7 years           4                \n",
       "28     409  > 1000 DM       1 - 4 years         3                \n",
       "29    2415  < 100 DM        1 - 4 years         3                \n",
       "30    6836  < 100 DM        > 7 years           3                \n",
       "⋮    ⋮      ⋮               ⋮                   ⋮                \n",
       "971  1514   100 - 500 DM    1 - 4 years         4                \n",
       "972  7393   < 100 DM        1 - 4 years         1                \n",
       "973  1193   < 100 DM        unemployed          1                \n",
       "974  7297   < 100 DM        > 7 years           4                \n",
       "975  2831   < 100 DM        1 - 4 years         4                \n",
       "976  1258   500 - 1000 DM   1 - 4 years         3                \n",
       "977   753   < 100 DM        1 - 4 years         2                \n",
       "978  2427   unknown         > 7 years           4                \n",
       "979  2538   < 100 DM        > 7 years           4                \n",
       "980  1264   100 - 500 DM    1 - 4 years         2                \n",
       "981  8386   < 100 DM        4 - 7 years         2                \n",
       "982  4844   < 100 DM        unemployed          3                \n",
       "983  2923   100 - 500 DM    1 - 4 years         1                \n",
       "984  8229   < 100 DM        1 - 4 years         2                \n",
       "985  2028   < 100 DM        4 - 7 years         2                \n",
       "986  1433   < 100 DM        1 - 4 years         4                \n",
       "987  6289   < 100 DM        < 1 year            2                \n",
       "988  1409   100 - 500 DM    unemployed          2                \n",
       "989  6579   < 100 DM        unemployed          4                \n",
       "990  1743   < 100 DM        > 7 years           4                \n",
       "991  3565   unknown         < 1 year            2                \n",
       "992  1569   100 - 500 DM    > 7 years           4                \n",
       "993  1936   unknown         4 - 7 years         2                \n",
       "994  3959   < 100 DM        unemployed          4                \n",
       "995  2390   unknown         > 7 years           4                \n",
       "996  1736   < 100 DM        4 - 7 years         3                \n",
       "997  3857   < 100 DM        1 - 4 years         4                \n",
       "998   804   < 100 DM        > 7 years           4                \n",
       "999  1845   < 100 DM        1 - 4 years         4                \n",
       "1000 4576   100 - 500 DM    unemployed          3                \n",
       "     years_at_residence age other_credit housing existing_loans_count\n",
       "1    4                  67  none         own     2                   \n",
       "2    2                  22  none         own     1                   \n",
       "3    3                  49  none         own     1                   \n",
       "4    4                  45  none         other   1                   \n",
       "5    4                  53  none         other   2                   \n",
       "6    4                  35  none         other   1                   \n",
       "7    4                  53  none         own     1                   \n",
       "8    2                  35  none         rent    1                   \n",
       "9    4                  61  none         own     1                   \n",
       "10   2                  28  none         own     2                   \n",
       "11   1                  25  none         rent    1                   \n",
       "12   4                  24  none         rent    1                   \n",
       "13   1                  22  none         own     1                   \n",
       "14   4                  60  none         own     2                   \n",
       "15   4                  28  none         rent    1                   \n",
       "16   2                  32  none         own     1                   \n",
       "17   4                  53  none         own     2                   \n",
       "18   3                  25  bank         own     3                   \n",
       "19   2                  44  none         other   1                   \n",
       "20   2                  31  none         own     1                   \n",
       "21   4                  48  none         own     3                   \n",
       "22   3                  44  none         rent    1                   \n",
       "23   3                  48  none         rent    2                   \n",
       "24   4                  44  none         own     1                   \n",
       "25   1                  26  none         own     2                   \n",
       "26   2                  36  bank         own     1                   \n",
       "27   4                  39  none         own     1                   \n",
       "28   3                  42  none         rent    2                   \n",
       "29   2                  34  none         own     1                   \n",
       "30   4                  63  none         own     2                   \n",
       "⋮    ⋮                  ⋮   ⋮            ⋮       ⋮                   \n",
       "971  2                  22  none         own     1                   \n",
       "972  4                  43  none         own     1                   \n",
       "973  4                  29  none         rent    2                   \n",
       "974  4                  36  none         rent    1                   \n",
       "975  2                  33  none         own     1                   \n",
       "976  3                  57  none         own     1                   \n",
       "977  3                  64  none         own     1                   \n",
       "978  2                  42  none         own     2                   \n",
       "979  4                  47  none         own     2                   \n",
       "980  2                  25  none         rent    1                   \n",
       "981  2                  49  none         own     1                   \n",
       "982  2                  33  bank         rent    1                   \n",
       "983  1                  28  bank         own     1                   \n",
       "984  2                  26  none         own     1                   \n",
       "985  2                  30  none         own     2                   \n",
       "986  3                  25  none         rent    2                   \n",
       "987  1                  33  none         own     2                   \n",
       "988  4                  64  none         own     1                   \n",
       "989  2                  29  none         other   1                   \n",
       "990  2                  48  none         own     2                   \n",
       "991  1                  37  none         own     2                   \n",
       "992  4                  34  bank         own     1                   \n",
       "993  4                  23  none         rent    2                   \n",
       "994  3                  30  none         own     1                   \n",
       "995  3                  50  none         own     1                   \n",
       "996  4                  31  none         own     1                   \n",
       "997  4                  40  none         own     1                   \n",
       "998  4                  38  none         own     1                   \n",
       "999  4                  23  none         other   1                   \n",
       "1000 4                  27  none         own     1                   \n",
       "     job        dependents phone default\n",
       "1    skilled    1          yes   no     \n",
       "2    skilled    1          no    yes    \n",
       "3    unskilled  2          no    no     \n",
       "4    skilled    2          no    no     \n",
       "5    skilled    2          no    yes    \n",
       "6    unskilled  2          yes   no     \n",
       "7    skilled    1          no    no     \n",
       "8    management 1          yes   no     \n",
       "9    unskilled  1          no    no     \n",
       "10   management 1          no    yes    \n",
       "11   skilled    1          no    yes    \n",
       "12   skilled    1          no    yes    \n",
       "13   skilled    1          yes   no     \n",
       "14   unskilled  1          no    yes    \n",
       "15   skilled    1          no    no     \n",
       "16   unskilled  1          no    yes    \n",
       "17   skilled    1          no    no     \n",
       "18   skilled    1          no    no     \n",
       "19   management 1          yes   yes    \n",
       "20   skilled    2          yes   no     \n",
       "21   skilled    1          yes   no     \n",
       "22   skilled    2          no    no     \n",
       "23   unskilled  2          no    no     \n",
       "24   skilled    1          no    no     \n",
       "25   skilled    1          no    no     \n",
       "26   unskilled  1          yes   no     \n",
       "27   unskilled  1          no    no     \n",
       "28   skilled    1          no    no     \n",
       "29   skilled    1          no    no     \n",
       "30   skilled    1          yes   yes    \n",
       "⋮    ⋮          ⋮          ⋮     ⋮      \n",
       "971  skilled    1          no    no     \n",
       "972  unskilled  2          no    no     \n",
       "973  unemployed 1          no    yes    \n",
       "974  skilled    1          no    yes    \n",
       "975  skilled    1          yes   no     \n",
       "976  unskilled  1          no    no     \n",
       "977  skilled    1          no    no     \n",
       "978  skilled    1          no    no     \n",
       "979  unskilled  2          no    yes    \n",
       "980  skilled    1          no    yes    \n",
       "981  skilled    1          no    yes    \n",
       "982  management 1          yes   yes    \n",
       "983  management 1          yes   no     \n",
       "984  skilled    2          no    yes    \n",
       "985  unskilled  1          no    no     \n",
       "986  skilled    1          no    no     \n",
       "987  skilled    1          no    no     \n",
       "988  skilled    1          no    no     \n",
       "989  management 1          yes   no     \n",
       "990  unskilled  1          no    no     \n",
       "991  unskilled  2          no    no     \n",
       "992  unskilled  2          no    no     \n",
       "993  unskilled  1          no    no     \n",
       "994  management 1          yes   no     \n",
       "995  skilled    1          yes   no     \n",
       "996  unskilled  1          no    no     \n",
       "997  management 1          yes   no     \n",
       "998  skilled    1          no    no     \n",
       "999  skilled    1          yes   yes    \n",
       "1000 skilled    1          no    no     "
      ]
     },
     "metadata": {},
     "output_type": "display_data"
    }
   ],
   "source": [
    "credit_tbl"
   ]
  },
  {
   "cell_type": "code",
   "execution_count": 107,
   "metadata": {},
   "outputs": [],
   "source": [
    "credit_db_conn = src_sqlite('credit.sqlite3', create = TRUE)"
   ]
  },
  {
   "cell_type": "markdown",
   "metadata": {},
   "source": [
    "## save to file"
   ]
  },
  {
   "cell_type": "code",
   "execution_count": 108,
   "metadata": {},
   "outputs": [
    {
     "data": {
      "text/plain": [
       "Source:   query [?? x 17]\n",
       "Database: sqlite 3.11.1 [credit.sqlite3]\n",
       "\n",
       "   checking_balance months_loan_duration credit_history              purpose\n",
       "              <chr>                <int>          <chr>                <chr>\n",
       "1            < 0 DM                    6       critical furniture/appliances\n",
       "2        1 - 200 DM                   48           good furniture/appliances\n",
       "3           unknown                   12       critical            education\n",
       "4            < 0 DM                   42           good furniture/appliances\n",
       "5            < 0 DM                   24           poor                  car\n",
       "6           unknown                   36           good            education\n",
       "7           unknown                   24           good furniture/appliances\n",
       "8        1 - 200 DM                   36           good                  car\n",
       "9           unknown                   12           good furniture/appliances\n",
       "10       1 - 200 DM                   30       critical                  car\n",
       "# ... with more rows, and 13 more variables: amount <int>,\n",
       "#   savings_balance <chr>, employment_duration <chr>, percent_of_income <int>,\n",
       "#   years_at_residence <int>, age <int>, other_credit <chr>, housing <chr>,\n",
       "#   existing_loans_count <int>, job <chr>, dependents <int>, phone <chr>,\n",
       "#   default <chr>"
      ]
     },
     "metadata": {},
     "output_type": "display_data"
    }
   ],
   "source": [
    "copy_to(credit_db_conn, credit_tbl, temporary = F)"
   ]
  },
  {
   "cell_type": "markdown",
   "metadata": {},
   "source": [
    "## reopen the file"
   ]
  },
  {
   "cell_type": "code",
   "execution_count": 109,
   "metadata": {
    "collapsed": true
   },
   "outputs": [],
   "source": [
    "credit_db_conn = src_sqlite('credit.sqlite3')"
   ]
  },
  {
   "cell_type": "code",
   "execution_count": 110,
   "metadata": {
    "collapsed": true
   },
   "outputs": [],
   "source": [
    "credit_tbl = tbl(credit_db_conn, 'credit_tbl')"
   ]
  },
  {
   "cell_type": "code",
   "execution_count": 111,
   "metadata": {},
   "outputs": [
    {
     "name": "stderr",
     "output_type": "stream",
     "text": [
      "------------------------------------------------------------------------------\n",
      "data.table + dplyr code now lives in dtplyr.\n",
      "Please library(dtplyr)!\n",
      "------------------------------------------------------------------------------\n",
      "\n",
      "Attaching package: ‘data.table’\n",
      "\n",
      "The following objects are masked from ‘package:dplyr’:\n",
      "\n",
      "    between, first, last\n",
      "\n"
     ]
    }
   ],
   "source": [
    "library(data.table)"
   ]
  },
  {
   "cell_type": "code",
   "execution_count": 112,
   "metadata": {
    "collapsed": true
   },
   "outputs": [],
   "source": [
    "credit = fread('../../R_projects//MLwR//Machine Learning with R (2nd Ed.)//Chapter 12/credit.csv')"
   ]
  },
  {
   "cell_type": "code",
   "execution_count": 115,
   "metadata": {},
   "outputs": [
    {
     "data": {
      "text/html": [
       "3040.95849056604"
      ],
      "text/latex": [
       "3040.95849056604"
      ],
      "text/markdown": [
       "3040.95849056604"
      ],
      "text/plain": [
       "[1] 3040.958"
      ]
     },
     "metadata": {},
     "output_type": "display_data"
    }
   ],
   "source": [
    "credit[credit_history == 'good', mean(amount)]"
   ]
  },
  {
   "cell_type": "code",
   "execution_count": 119,
   "metadata": {},
   "outputs": [
    {
     "name": "stderr",
     "output_type": "stream",
     "text": [
      "Loading required package: bit\n",
      "Attaching package bit\n",
      "package:bit (c) 2008-2012 Jens Oehlschlaegel (GPL-2)\n",
      "creators: bit bitwhich\n",
      "coercion: as.logical as.integer as.bit as.bitwhich which\n",
      "operator: ! & | xor != ==\n",
      "querying: print length any all min max range sum summary\n",
      "bit access: length<- [ [<- [[ [[<-\n",
      "for more help type ?bit\n",
      "\n",
      "Attaching package: ‘bit’\n",
      "\n",
      "The following object is masked from ‘package:data.table’:\n",
      "\n",
      "    setattr\n",
      "\n",
      "The following object is masked from ‘package:RCurl’:\n",
      "\n",
      "    clone\n",
      "\n",
      "The following object is masked from ‘package:base’:\n",
      "\n",
      "    xor\n",
      "\n",
      "Attaching package ff\n",
      "- getOption(\"fftempdir\")==\"/tmp/Rtmp9IPEpi\"\n",
      "\n",
      "- getOption(\"ffextension\")==\"ff\"\n",
      "\n",
      "- getOption(\"ffdrop\")==TRUE\n",
      "\n",
      "- getOption(\"fffinonexit\")==TRUE\n",
      "\n",
      "- getOption(\"ffpagesize\")==65536\n",
      "\n",
      "- getOption(\"ffcaching\")==\"mmnoflush\"  -- consider \"ffeachflush\" if your system stalls on large writes\n",
      "\n",
      "- getOption(\"ffbatchbytes\")==16777216 -- consider a different value for tuning your system\n",
      "\n",
      "- getOption(\"ffmaxbytes\")==536870912 -- consider a different value for tuning your system\n",
      "\n",
      "\n",
      "Attaching package: ‘ff’\n",
      "\n",
      "The following objects are masked from ‘package:bit’:\n",
      "\n",
      "    clone, clone.default, clone.list\n",
      "\n",
      "The following object is masked from ‘package:RCurl’:\n",
      "\n",
      "    clone\n",
      "\n",
      "The following objects are masked from ‘package:utils’:\n",
      "\n",
      "    write.csv, write.csv2\n",
      "\n",
      "The following objects are masked from ‘package:base’:\n",
      "\n",
      "    is.factor, is.ordered\n",
      "\n"
     ]
    }
   ],
   "source": [
    "library('ff')"
   ]
  },
  {
   "cell_type": "code",
   "execution_count": 120,
   "metadata": {
    "collapsed": true
   },
   "outputs": [],
   "source": [
    "credit = read.csv.ffdf(file = '../../R_projects//MLwR//Machine Learning with R (2nd Ed.)//Chapter 12/credit.csv',\n",
    "                      header = T)"
   ]
  },
  {
   "cell_type": "code",
   "execution_count": 121,
   "metadata": {},
   "outputs": [
    {
     "name": "stderr",
     "output_type": "stream",
     "text": [
      "Warning message in mean.default(credit$amount):\n",
      "“argument is not numeric or logical: returning NA”"
     ]
    },
    {
     "data": {
      "text/html": [
       "&lt;NA&gt;"
      ],
      "text/latex": [
       "<NA>"
      ],
      "text/markdown": [
       "&lt;NA&gt;"
      ],
      "text/plain": [
       "[1] NA"
      ]
     },
     "metadata": {},
     "output_type": "display_data"
    }
   ],
   "source": [
    "mean(credit$amount)"
   ]
  },
  {
   "cell_type": "code",
   "execution_count": 124,
   "metadata": {},
   "outputs": [
    {
     "name": "stderr",
     "output_type": "stream",
     "text": [
      "\n",
      "Attaching package: ‘ffbase’\n",
      "\n",
      "The following objects are masked from ‘package:ff’:\n",
      "\n",
      "    [.ff, [.ffdf, [<-.ff, [<-.ffdf\n",
      "\n",
      "The following objects are masked from ‘package:base’:\n",
      "\n",
      "    %in%, table\n",
      "\n"
     ]
    }
   ],
   "source": [
    "library('ffbase')"
   ]
  },
  {
   "cell_type": "code",
   "execution_count": 125,
   "metadata": {},
   "outputs": [
    {
     "data": {
      "text/html": [
       "3271.258"
      ],
      "text/latex": [
       "3271.258"
      ],
      "text/markdown": [
       "3271.258"
      ],
      "text/plain": [
       "[1] 3271.258"
      ]
     },
     "metadata": {},
     "output_type": "display_data"
    }
   ],
   "source": [
    "mean(credit$amount)"
   ]
  },
  {
   "cell_type": "code",
   "execution_count": 131,
   "metadata": {},
   "outputs": [
    {
     "data": {
      "text/plain": [
       "   user  system elapsed \n",
       "  0.059   0.000   0.058 "
      ]
     },
     "metadata": {},
     "output_type": "display_data"
    }
   ],
   "source": [
    "system.time(rnorm(1000000))"
   ]
  },
  {
   "cell_type": "code",
   "execution_count": 132,
   "metadata": {
    "collapsed": true
   },
   "outputs": [],
   "source": [
    "library(parallel)"
   ]
  },
  {
   "cell_type": "code",
   "execution_count": 133,
   "metadata": {},
   "outputs": [
    {
     "data": {
      "text/html": [
       "4"
      ],
      "text/latex": [
       "4"
      ],
      "text/markdown": [
       "4"
      ],
      "text/plain": [
       "[1] 4"
      ]
     },
     "metadata": {},
     "output_type": "display_data"
    }
   ],
   "source": [
    "detectCores()"
   ]
  },
  {
   "cell_type": "code",
   "execution_count": 134,
   "metadata": {},
   "outputs": [
    {
     "data": {
      "text/plain": [
       "   user  system elapsed \n",
       "  0.061   0.000   0.061 "
      ]
     },
     "metadata": {},
     "output_type": "display_data"
    }
   ],
   "source": [
    "system.time(l1 <- rnorm(1000000))"
   ]
  },
  {
   "cell_type": "code",
   "execution_count": 139,
   "metadata": {},
   "outputs": [
    {
     "data": {
      "text/plain": [
       "   user  system elapsed \n",
       "  0.079   0.157   0.110 "
      ]
     },
     "metadata": {},
     "output_type": "display_data"
    }
   ],
   "source": [
    "system.time(l2 <- unlist(mclapply(1:2, function(x) {\n",
    "    rnorm(500000)\n",
    "}, mc.cores = 2)))"
   ]
  },
  {
   "cell_type": "code",
   "execution_count": 140,
   "metadata": {},
   "outputs": [
    {
     "data": {
      "text/plain": [
       "   user  system elapsed \n",
       "  0.102   0.379   0.183 "
      ]
     },
     "metadata": {},
     "output_type": "display_data"
    }
   ],
   "source": [
    "system.time(l4 <- unlist(mclapply(1:4, function(x) {\n",
    "    rnorm(250000)\n",
    "}, mc.cores = 4)))"
   ]
  },
  {
   "cell_type": "code",
   "execution_count": 142,
   "metadata": {},
   "outputs": [
    {
     "name": "stderr",
     "output_type": "stream",
     "text": [
      "\n",
      "Attaching package: ‘snow’\n",
      "\n",
      "The following objects are masked from ‘package:parallel’:\n",
      "\n",
      "    clusterApply, clusterApplyLB, clusterCall, clusterEvalQ,\n",
      "    clusterExport, clusterMap, clusterSplit, makeCluster, parApply,\n",
      "    parCapply, parLapply, parRapply, parSapply, splitIndices,\n",
      "    stopCluster\n",
      "\n"
     ]
    }
   ],
   "source": [
    "library(snow)"
   ]
  },
  {
   "cell_type": "code",
   "execution_count": 143,
   "metadata": {
    "collapsed": true
   },
   "outputs": [],
   "source": [
    "cl1 = makeCluster(4)"
   ]
  },
  {
   "cell_type": "code",
   "execution_count": 144,
   "metadata": {},
   "outputs": [
    {
     "data": {
      "text/html": [
       "<ol>\n",
       "\t<li><strong>nodename:</strong> 'kamilo-arch'</li>\n",
       "\t<li><strong>nodename:</strong> 'kamilo-arch'</li>\n",
       "\t<li><strong>nodename:</strong> 'kamilo-arch'</li>\n",
       "\t<li><strong>nodename:</strong> 'kamilo-arch'</li>\n",
       "</ol>\n"
      ],
      "text/latex": [
       "\\begin{enumerate}\n",
       "\\item \\textbf{nodename:} 'kamilo-arch'\n",
       "\\item \\textbf{nodename:} 'kamilo-arch'\n",
       "\\item \\textbf{nodename:} 'kamilo-arch'\n",
       "\\item \\textbf{nodename:} 'kamilo-arch'\n",
       "\\end{enumerate}\n"
      ],
      "text/markdown": [
       "1. **nodename:** 'kamilo-arch'\n",
       "2. **nodename:** 'kamilo-arch'\n",
       "3. **nodename:** 'kamilo-arch'\n",
       "4. **nodename:** 'kamilo-arch'\n",
       "\n",
       "\n"
      ],
      "text/plain": [
       "[[1]]\n",
       "     nodename \n",
       "\"kamilo-arch\" \n",
       "\n",
       "[[2]]\n",
       "     nodename \n",
       "\"kamilo-arch\" \n",
       "\n",
       "[[3]]\n",
       "     nodename \n",
       "\"kamilo-arch\" \n",
       "\n",
       "[[4]]\n",
       "     nodename \n",
       "\"kamilo-arch\" \n"
      ]
     },
     "metadata": {},
     "output_type": "display_data"
    }
   ],
   "source": [
    "clusterCall(cl1, function() { Sys.info()['nodename'] })"
   ]
  },
  {
   "cell_type": "code",
   "execution_count": 146,
   "metadata": {},
   "outputs": [
    {
     "data": {
      "text/html": [
       "<ol>\n",
       "\t<li>'Cluster A ready!'</li>\n",
       "\t<li>'Cluster B ready!'</li>\n",
       "\t<li>'Cluster C ready!'</li>\n",
       "\t<li>'Cluster D ready!'</li>\n",
       "</ol>\n"
      ],
      "text/latex": [
       "\\begin{enumerate}\n",
       "\\item 'Cluster A ready!'\n",
       "\\item 'Cluster B ready!'\n",
       "\\item 'Cluster C ready!'\n",
       "\\item 'Cluster D ready!'\n",
       "\\end{enumerate}\n"
      ],
      "text/markdown": [
       "1. 'Cluster A ready!'\n",
       "2. 'Cluster B ready!'\n",
       "3. 'Cluster C ready!'\n",
       "4. 'Cluster D ready!'\n",
       "\n",
       "\n"
      ],
      "text/plain": [
       "[[1]]\n",
       "[1] \"Cluster A ready!\"\n",
       "\n",
       "[[2]]\n",
       "[1] \"Cluster B ready!\"\n",
       "\n",
       "[[3]]\n",
       "[1] \"Cluster C ready!\"\n",
       "\n",
       "[[4]]\n",
       "[1] \"Cluster D ready!\"\n"
      ]
     },
     "metadata": {},
     "output_type": "display_data"
    }
   ],
   "source": [
    "clusterApply(cl1, c('A', 'B', 'C', 'D'),\n",
    "            function(x) { paste(\"Cluster\", x, 'ready!')})"
   ]
  },
  {
   "cell_type": "code",
   "execution_count": 147,
   "metadata": {
    "collapsed": true
   },
   "outputs": [],
   "source": [
    "stopCluster(cl1)"
   ]
  },
  {
   "cell_type": "code",
   "execution_count": 150,
   "metadata": {},
   "outputs": [
    {
     "data": {
      "text/plain": [
       "   user  system elapsed \n",
       "  0.087   0.000   0.088 "
      ]
     },
     "metadata": {},
     "output_type": "display_data"
    }
   ],
   "source": [
    "system.time(l1 <- rnorm(1000000))"
   ]
  },
  {
   "cell_type": "code",
   "execution_count": 151,
   "metadata": {
    "collapsed": true
   },
   "outputs": [],
   "source": [
    "library(foreach)"
   ]
  },
  {
   "cell_type": "code",
   "execution_count": 157,
   "metadata": {},
   "outputs": [
    {
     "data": {
      "text/plain": [
       "   user  system elapsed \n",
       "  0.075   0.000   0.075 "
      ]
     },
     "metadata": {},
     "output_type": "display_data"
    }
   ],
   "source": [
    "system.time(l4 <- foreach(i = 1:4, .combine = 'c')\n",
    "           %do% rnorm(250000))"
   ]
  },
  {
   "cell_type": "code",
   "execution_count": 162,
   "metadata": {},
   "outputs": [
    {
     "name": "stderr",
     "output_type": "stream",
     "text": [
      "Loading required package: iterators\n"
     ]
    }
   ],
   "source": [
    "library(doParallel)"
   ]
  },
  {
   "cell_type": "code",
   "execution_count": 163,
   "metadata": {
    "collapsed": true
   },
   "outputs": [],
   "source": [
    "registerDoParallel(cores = 4)"
   ]
  },
  {
   "cell_type": "code",
   "execution_count": 164,
   "metadata": {},
   "outputs": [
    {
     "data": {
      "text/plain": [
       "   user  system elapsed \n",
       "  0.087   0.372   0.192 "
      ]
     },
     "metadata": {},
     "output_type": "display_data"
    }
   ],
   "source": [
    "system.time(l4p <- foreach(i = 1:4, .combine = 'c')\n",
    "           %dopar% rnorm(250000))"
   ]
  },
  {
   "cell_type": "code",
   "execution_count": 165,
   "metadata": {
    "collapsed": true
   },
   "outputs": [],
   "source": [
    "stopImplicitCluster()"
   ]
  },
  {
   "cell_type": "code",
   "execution_count": 166,
   "metadata": {},
   "outputs": [
    {
     "name": "stderr",
     "output_type": "stream",
     "text": [
      "Loading required package: lattice\n",
      "Loading required package: ggplot2\n",
      "\n",
      "Attaching package: ‘caret’\n",
      "\n",
      "The following object is masked from ‘package:httr’:\n",
      "\n",
      "    progress\n",
      "\n"
     ]
    }
   ],
   "source": [
    "library(caret)"
   ]
  },
  {
   "cell_type": "code",
   "execution_count": 167,
   "metadata": {
    "collapsed": true
   },
   "outputs": [],
   "source": [
    "credit = read.csv('../../R_projects//MLwR//Machine Learning with R (2nd Ed.)//Chapter 12//credit.csv')"
   ]
  },
  {
   "cell_type": "code",
   "execution_count": 168,
   "metadata": {},
   "outputs": [
    {
     "name": "stderr",
     "output_type": "stream",
     "text": [
      "Loading required package: randomForest\n",
      "randomForest 4.6-12\n",
      "Type rfNews() to see new features/changes/bug fixes.\n",
      "\n",
      "Attaching package: ‘randomForest’\n",
      "\n",
      "The following object is masked from ‘package:ggplot2’:\n",
      "\n",
      "    margin\n",
      "\n",
      "The following object is masked from ‘package:dplyr’:\n",
      "\n",
      "    combine\n",
      "\n"
     ]
    },
    {
     "data": {
      "text/plain": [
       "   user  system elapsed \n",
       " 61.022   0.950  22.703 "
      ]
     },
     "metadata": {},
     "output_type": "display_data"
    }
   ],
   "source": [
    "system.time(train(default ~ ., data = credit, method = 'rf'))"
   ]
  },
  {
   "cell_type": "code",
   "execution_count": 169,
   "metadata": {
    "collapsed": true
   },
   "outputs": [],
   "source": [
    "registerDoParallel(cores = 4)"
   ]
  },
  {
   "cell_type": "code",
   "execution_count": 170,
   "metadata": {},
   "outputs": [
    {
     "data": {
      "text/plain": [
       "   user  system elapsed \n",
       " 83.181   1.025  23.496 "
      ]
     },
     "metadata": {},
     "output_type": "display_data"
    }
   ],
   "source": [
    "system.time(train(default ~ ., data = credit, method = 'rf'))"
   ]
  },
  {
   "cell_type": "code",
   "execution_count": null,
   "metadata": {
    "collapsed": true
   },
   "outputs": [],
   "source": []
  }
 ],
 "metadata": {
  "kernelspec": {
   "display_name": "R",
   "language": "R",
   "name": "ir"
  },
  "language_info": {
   "codemirror_mode": "r",
   "file_extension": ".r",
   "mimetype": "text/x-r-source",
   "name": "R",
   "pygments_lexer": "r",
   "version": "3.4.0"
  }
 },
 "nbformat": 4,
 "nbformat_minor": 2
}
