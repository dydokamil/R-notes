{
 "cells": [
  {
   "cell_type": "markdown",
   "metadata": {},
   "source": [
    "# Clustering"
   ]
  },
  {
   "cell_type": "markdown",
   "metadata": {},
   "source": [
    "If you begin with unlabeled data, you can use clustering to create class labels. From there, you could apply a supervised learner such as decision trees to find the most important predictors of these classes. This is called <b>semi-supervised learning</b>."
   ]
  },
  {
   "cell_type": "markdown",
   "metadata": {},
   "source": [
    "K-means:\n",
    "+ uses simple principles that can be explained in non-statistical terms\n",
    "+ highly flexible, and can be adapted with simple adjustments to address nearly all of its shortcomings\n",
    "+ performs well enough under many real-world use cases.\n",
    "+ not as sophisticated as more modern clustering algorithms\n",
    "+ because it uses an element of random chance, it is not guaranteed to find the optimal set of clusters\n",
    "+ requires a reasonable guess as to how many clusters naturally exist in the data\n",
    "+ not ideal for non-spherical clusters or clusters of widely varying density"
   ]
  },
  {
   "cell_type": "markdown",
   "metadata": {},
   "source": [
    "## algorithm"
   ]
  },
  {
   "cell_type": "markdown",
   "metadata": {},
   "source": [
    "1. Assign examples to an initial set of k clusters.\n",
    "2. Update the assignments by adjusting the cluster boundaries according to the examples that currently fall into the cluster."
   ]
  },
  {
   "cell_type": "markdown",
   "metadata": {},
   "source": [
    "If n indicates the number of features, the formula for Euclidean distance between example x and example y is:"
   ]
  },
  {
   "cell_type": "markdown",
   "metadata": {},
   "source": [
    "$$dist(x,y)=\\sqrt{\\sum_{i=1}^{n}{(x_i-y_i)}^2}$$"
   ]
  },
  {
   "cell_type": "markdown",
   "metadata": {},
   "source": [
    "## finding teen market segments using k-means clustering"
   ]
  },
  {
   "cell_type": "code",
   "execution_count": 1,
   "metadata": {
    "collapsed": true
   },
   "outputs": [],
   "source": [
    "teens = read.csv('../../R_projects/MLwR/Machine Learning with R (2nd Ed.)//Chapter 09/snsdata.csv')"
   ]
  },
  {
   "cell_type": "code",
   "execution_count": 2,
   "metadata": {},
   "outputs": [
    {
     "name": "stdout",
     "output_type": "stream",
     "text": [
      "'data.frame':\t30000 obs. of  40 variables:\n",
      " $ gradyear    : int  2006 2006 2006 2006 2006 2006 2006 2006 2006 2006 ...\n",
      " $ gender      : Factor w/ 2 levels \"F\",\"M\": 2 1 2 1 NA 1 1 2 1 1 ...\n",
      " $ age         : num  19 18.8 18.3 18.9 19 ...\n",
      " $ friends     : int  7 0 69 0 10 142 72 17 52 39 ...\n",
      " $ basketball  : int  0 0 0 0 0 0 0 0 0 0 ...\n",
      " $ football    : int  0 1 1 0 0 0 0 0 0 0 ...\n",
      " $ soccer      : int  0 0 0 0 0 0 0 0 0 0 ...\n",
      " $ softball    : int  0 0 0 0 0 0 0 1 0 0 ...\n",
      " $ volleyball  : int  0 0 0 0 0 0 0 0 0 0 ...\n",
      " $ swimming    : int  0 0 0 0 0 0 0 0 0 0 ...\n",
      " $ cheerleading: int  0 0 0 0 0 0 0 0 0 0 ...\n",
      " $ baseball    : int  0 0 0 0 0 0 0 0 0 0 ...\n",
      " $ tennis      : int  0 0 0 0 0 0 0 0 0 0 ...\n",
      " $ sports      : int  0 0 0 0 0 0 0 0 0 0 ...\n",
      " $ cute        : int  0 1 0 1 0 0 0 0 0 1 ...\n",
      " $ sex         : int  0 0 0 0 1 1 0 2 0 0 ...\n",
      " $ sexy        : int  0 0 0 0 0 0 0 1 0 0 ...\n",
      " $ hot         : int  0 0 0 0 0 0 0 0 0 1 ...\n",
      " $ kissed      : int  0 0 0 0 5 0 0 0 0 0 ...\n",
      " $ dance       : int  1 0 0 0 1 0 0 0 0 0 ...\n",
      " $ band        : int  0 0 2 0 1 0 1 0 0 0 ...\n",
      " $ marching    : int  0 0 0 0 0 1 1 0 0 0 ...\n",
      " $ music       : int  0 2 1 0 3 2 0 1 0 1 ...\n",
      " $ rock        : int  0 2 0 1 0 0 0 1 0 1 ...\n",
      " $ god         : int  0 1 0 0 1 0 0 0 0 6 ...\n",
      " $ church      : int  0 0 0 0 0 0 0 0 0 0 ...\n",
      " $ jesus       : int  0 0 0 0 0 0 0 0 0 2 ...\n",
      " $ bible       : int  0 0 0 0 0 0 0 0 0 0 ...\n",
      " $ hair        : int  0 6 0 0 1 0 0 0 0 1 ...\n",
      " $ dress       : int  0 4 0 0 0 1 0 0 0 0 ...\n",
      " $ blonde      : int  0 0 0 0 0 0 0 0 0 0 ...\n",
      " $ mall        : int  0 1 0 0 0 0 2 0 0 0 ...\n",
      " $ shopping    : int  0 0 0 0 2 1 0 0 0 1 ...\n",
      " $ clothes     : int  0 0 0 0 0 0 0 0 0 0 ...\n",
      " $ hollister   : int  0 0 0 0 0 0 2 0 0 0 ...\n",
      " $ abercrombie : int  0 0 0 0 0 0 0 0 0 0 ...\n",
      " $ die         : int  0 0 0 0 0 0 0 0 0 0 ...\n",
      " $ death       : int  0 0 1 0 0 0 0 0 0 0 ...\n",
      " $ drunk       : int  0 0 0 0 1 1 0 0 0 0 ...\n",
      " $ drugs       : int  0 0 0 0 1 0 0 0 0 0 ...\n"
     ]
    }
   ],
   "source": [
    "str(teens)"
   ]
  },
  {
   "cell_type": "code",
   "execution_count": 3,
   "metadata": {},
   "outputs": [
    {
     "data": {
      "text/plain": [
       "\n",
       "    F     M \n",
       "22054  5222 "
      ]
     },
     "metadata": {},
     "output_type": "display_data"
    }
   ],
   "source": [
    "table(teens$gender)"
   ]
  },
  {
   "cell_type": "code",
   "execution_count": 5,
   "metadata": {},
   "outputs": [
    {
     "data": {
      "text/plain": [
       "\n",
       "    F     M  <NA> \n",
       "22054  5222  2724 "
      ]
     },
     "metadata": {},
     "output_type": "display_data"
    }
   ],
   "source": [
    "table(teens$gender, useNA = 'ifany')"
   ]
  },
  {
   "cell_type": "code",
   "execution_count": 6,
   "metadata": {},
   "outputs": [
    {
     "data": {
      "text/plain": [
       "   Min. 1st Qu.  Median    Mean 3rd Qu.    Max.    NA's \n",
       "  3.086  16.312  17.287  17.994  18.259 106.927    5086 "
      ]
     },
     "metadata": {},
     "output_type": "display_data"
    }
   ],
   "source": [
    "summary(teens$age)"
   ]
  },
  {
   "cell_type": "code",
   "execution_count": 15,
   "metadata": {
    "collapsed": true
   },
   "outputs": [],
   "source": [
    "teens$age = ifelse(teens$age >= 13 & teens$age < 20, teens$age, NA)"
   ]
  },
  {
   "cell_type": "code",
   "execution_count": 16,
   "metadata": {},
   "outputs": [
    {
     "data": {
      "text/plain": [
       "   Min. 1st Qu.  Median    Mean 3rd Qu.    Max.    NA's \n",
       "  13.03   16.30   17.27   17.25   18.22   20.00    5523 "
      ]
     },
     "metadata": {},
     "output_type": "display_data"
    }
   ],
   "source": [
    "summary(teens$age)"
   ]
  },
  {
   "cell_type": "code",
   "execution_count": 21,
   "metadata": {
    "collapsed": true
   },
   "outputs": [],
   "source": [
    "teens$female = ifelse(teens$gender == 'F' \n",
    "                     & !is.na(teens$gender), 1, 0)"
   ]
  },
  {
   "cell_type": "code",
   "execution_count": 22,
   "metadata": {
    "collapsed": true
   },
   "outputs": [],
   "source": [
    "teens$no_gender = ifelse(is.na(teens$gender), 1, 0)"
   ]
  },
  {
   "cell_type": "code",
   "execution_count": 24,
   "metadata": {},
   "outputs": [
    {
     "data": {
      "text/plain": [
       "\n",
       "    F     M  <NA> \n",
       "22054  5222  2724 "
      ]
     },
     "metadata": {},
     "output_type": "display_data"
    }
   ],
   "source": [
    "table(teens$gender, useNA = 'ifany')"
   ]
  },
  {
   "cell_type": "code",
   "execution_count": 25,
   "metadata": {},
   "outputs": [
    {
     "data": {
      "text/plain": [
       "\n",
       "    0     1 \n",
       " 7946 22054 "
      ]
     },
     "metadata": {},
     "output_type": "display_data"
    }
   ],
   "source": [
    "table(teens$female, useNA = 'ifany')"
   ]
  },
  {
   "cell_type": "code",
   "execution_count": 26,
   "metadata": {},
   "outputs": [
    {
     "data": {
      "text/plain": [
       "\n",
       "    0     1 \n",
       "27276  2724 "
      ]
     },
     "metadata": {},
     "output_type": "display_data"
    }
   ],
   "source": [
    "table(teens$no_gender, useNA = 'ifany')"
   ]
  },
  {
   "cell_type": "code",
   "execution_count": 27,
   "metadata": {},
   "outputs": [
    {
     "data": {
      "text/html": [
       "&lt;NA&gt;"
      ],
      "text/latex": [
       "<NA>"
      ],
      "text/markdown": [
       "&lt;NA&gt;"
      ],
      "text/plain": [
       "[1] NA"
      ]
     },
     "metadata": {},
     "output_type": "display_data"
    }
   ],
   "source": [
    "mean(teens$age)"
   ]
  },
  {
   "cell_type": "code",
   "execution_count": 28,
   "metadata": {},
   "outputs": [
    {
     "data": {
      "text/html": [
       "17.2524289332843"
      ],
      "text/latex": [
       "17.2524289332843"
      ],
      "text/markdown": [
       "17.2524289332843"
      ],
      "text/plain": [
       "[1] 17.25243"
      ]
     },
     "metadata": {},
     "output_type": "display_data"
    }
   ],
   "source": [
    "mean(teens$age, na.rm = TRUE)"
   ]
  },
  {
   "cell_type": "code",
   "execution_count": 29,
   "metadata": {},
   "outputs": [
    {
     "data": {
      "text/html": [
       "<table>\n",
       "<thead><tr><th scope=col>gradyear</th><th scope=col>age</th></tr></thead>\n",
       "<tbody>\n",
       "\t<tr><td>2006    </td><td>18.65586</td></tr>\n",
       "\t<tr><td>2007    </td><td>17.70617</td></tr>\n",
       "\t<tr><td>2008    </td><td>16.76770</td></tr>\n",
       "\t<tr><td>2009    </td><td>15.81957</td></tr>\n",
       "</tbody>\n",
       "</table>\n"
      ],
      "text/latex": [
       "\\begin{tabular}{r|ll}\n",
       " gradyear & age\\\\\n",
       "\\hline\n",
       "\t 2006     & 18.65586\\\\\n",
       "\t 2007     & 17.70617\\\\\n",
       "\t 2008     & 16.76770\\\\\n",
       "\t 2009     & 15.81957\\\\\n",
       "\\end{tabular}\n"
      ],
      "text/markdown": [
       "\n",
       "gradyear | age | \n",
       "|---|---|---|---|\n",
       "| 2006     | 18.65586 | \n",
       "| 2007     | 17.70617 | \n",
       "| 2008     | 16.76770 | \n",
       "| 2009     | 15.81957 | \n",
       "\n",
       "\n"
      ],
      "text/plain": [
       "  gradyear age     \n",
       "1 2006     18.65586\n",
       "2 2007     17.70617\n",
       "3 2008     16.76770\n",
       "4 2009     15.81957"
      ]
     },
     "metadata": {},
     "output_type": "display_data"
    }
   ],
   "source": [
    "aggregate(data = teens, age ~ gradyear, mean, na.rm = TRUE)"
   ]
  },
  {
   "cell_type": "code",
   "execution_count": 32,
   "metadata": {},
   "outputs": [],
   "source": [
    "ave_age = ave(teens$age, teens$gradyear, FUN = function(x) mean(x, na.rm = TRUE))"
   ]
  },
  {
   "cell_type": "code",
   "execution_count": 34,
   "metadata": {
    "collapsed": true
   },
   "outputs": [],
   "source": [
    "teens$age = ifelse(is.na(teens$age), ave_age, teens$age)"
   ]
  },
  {
   "cell_type": "code",
   "execution_count": 35,
   "metadata": {},
   "outputs": [
    {
     "data": {
      "text/plain": [
       "   Min. 1st Qu.  Median    Mean 3rd Qu.    Max. \n",
       "  13.03   16.28   17.24   17.24   18.21   20.00 "
      ]
     },
     "metadata": {},
     "output_type": "display_data"
    }
   ],
   "source": [
    "summary(teens$age)"
   ]
  },
  {
   "cell_type": "code",
   "execution_count": 37,
   "metadata": {
    "collapsed": true
   },
   "outputs": [],
   "source": [
    "library(stats)"
   ]
  },
  {
   "cell_type": "markdown",
   "metadata": {},
   "source": [
    "myclusters <- kmeans(mydata, k)\n",
    "\n",
    "myclusters$cluster\n",
    "\n",
    "myclusters$centers\n",
    "\n",
    "myclusters$size"
   ]
  },
  {
   "cell_type": "code",
   "execution_count": 38,
   "metadata": {
    "collapsed": true
   },
   "outputs": [],
   "source": [
    "interests = teens[5:40]"
   ]
  },
  {
   "cell_type": "code",
   "execution_count": 39,
   "metadata": {
    "collapsed": true
   },
   "outputs": [],
   "source": [
    "interests_z = as.data.frame(lapply(interests, scale))"
   ]
  },
  {
   "cell_type": "markdown",
   "metadata": {},
   "source": [
    "Scale the data to know if someone mentioned a topic many more times <b>than the average teenager.</b>"
   ]
  },
  {
   "cell_type": "markdown",
   "metadata": {},
   "source": [
    "how many clusters? Teenage characters may be identified by stereotypes: a brain, an athlete, a basket case, a princess, and a criminal."
   ]
  },
  {
   "cell_type": "code",
   "execution_count": 41,
   "metadata": {
    "collapsed": true
   },
   "outputs": [],
   "source": [
    "set.seed(2345)"
   ]
  },
  {
   "cell_type": "code",
   "execution_count": 42,
   "metadata": {
    "collapsed": true
   },
   "outputs": [],
   "source": [
    "teen_clusters = kmeans(interests_z, 5)"
   ]
  },
  {
   "cell_type": "code",
   "execution_count": 43,
   "metadata": {},
   "outputs": [
    {
     "data": {
      "text/html": [
       "<ol class=list-inline>\n",
       "\t<li>871</li>\n",
       "\t<li>600</li>\n",
       "\t<li>5981</li>\n",
       "\t<li>1034</li>\n",
       "\t<li>21514</li>\n",
       "</ol>\n"
      ],
      "text/latex": [
       "\\begin{enumerate*}\n",
       "\\item 871\n",
       "\\item 600\n",
       "\\item 5981\n",
       "\\item 1034\n",
       "\\item 21514\n",
       "\\end{enumerate*}\n"
      ],
      "text/markdown": [
       "1. 871\n",
       "2. 600\n",
       "3. 5981\n",
       "4. 1034\n",
       "5. 21514\n",
       "\n",
       "\n"
      ],
      "text/plain": [
       "[1]   871   600  5981  1034 21514"
      ]
     },
     "metadata": {},
     "output_type": "display_data"
    }
   ],
   "source": [
    "teen_clusters$size"
   ]
  },
  {
   "cell_type": "code",
   "execution_count": 44,
   "metadata": {},
   "outputs": [
    {
     "data": {
      "text/html": [
       "<table>\n",
       "<thead><tr><th></th><th scope=col>basketball</th><th scope=col>football</th><th scope=col>soccer</th><th scope=col>softball</th><th scope=col>volleyball</th><th scope=col>swimming</th><th scope=col>cheerleading</th><th scope=col>baseball</th><th scope=col>tennis</th><th scope=col>sports</th><th scope=col>⋯</th><th scope=col>blonde</th><th scope=col>mall</th><th scope=col>shopping</th><th scope=col>clothes</th><th scope=col>hollister</th><th scope=col>abercrombie</th><th scope=col>die</th><th scope=col>death</th><th scope=col>drunk</th><th scope=col>drugs</th></tr></thead>\n",
       "<tbody>\n",
       "\t<tr><th scope=row>1</th><td> 0.16001227  </td><td> 0.2364174   </td><td> 0.10385512  </td><td> 0.07232021  </td><td> 0.18897158  </td><td> 0.23970234  </td><td> 0.3931445   </td><td> 0.02993479  </td><td> 0.13532387  </td><td> 0.10257837  </td><td>⋯            </td><td> 0.06137340  </td><td> 0.60368108  </td><td> 0.79806891  </td><td> 0.5651537331</td><td> 4.1521844   </td><td> 3.96493810  </td><td> 0.043475966 </td><td> 0.09857501  </td><td> 0.035614771 </td><td> 0.03443294  </td></tr>\n",
       "\t<tr><th scope=row>2</th><td>-0.09195886  </td><td> 0.0652625   </td><td>-0.09932124  </td><td>-0.01739428  </td><td>-0.06219308  </td><td> 0.03339844  </td><td>-0.1101103   </td><td>-0.11487510  </td><td> 0.04062204  </td><td>-0.09899231  </td><td>⋯            </td><td>-0.01146396  </td><td>-0.08724304  </td><td>-0.03865318  </td><td>-0.0003526292</td><td>-0.1678300   </td><td>-0.14129577  </td><td> 0.009447317 </td><td> 0.05135888  </td><td>-0.086773220 </td><td>-0.06878491  </td></tr>\n",
       "\t<tr><th scope=row>3</th><td> 0.52755083  </td><td> 0.4873480   </td><td> 0.29778605  </td><td> 0.37178877  </td><td> 0.37986175  </td><td> 0.29628671  </td><td> 0.3303485   </td><td> 0.35231971  </td><td> 0.14057808  </td><td> 0.32967130  </td><td>⋯            </td><td> 0.03471458  </td><td> 0.48318495  </td><td> 0.66327838  </td><td> 0.3759725120</td><td>-0.0553846   </td><td>-0.07417839  </td><td> 0.037989066 </td><td> 0.11972190  </td><td>-0.009688746 </td><td>-0.05973769  </td></tr>\n",
       "\t<tr><th scope=row>4</th><td> 0.34081039  </td><td> 0.3593965   </td><td> 0.12722250  </td><td> 0.16384661  </td><td> 0.11032200  </td><td> 0.26943332  </td><td> 0.1856664   </td><td> 0.27527088  </td><td> 0.10980958  </td><td> 0.79711920  </td><td>⋯            </td><td> 0.36134138  </td><td> 0.62256686  </td><td> 0.27101815  </td><td> 1.2306917174</td><td> 0.1610784   </td><td> 0.26324494  </td><td> 1.712181870 </td><td> 0.93631312  </td><td> 1.897388200 </td><td> 2.73326605  </td></tr>\n",
       "\t<tr><th scope=row>5</th><td>-0.16695523  </td><td>-0.1641499   </td><td>-0.09033520  </td><td>-0.11367669  </td><td>-0.11682181  </td><td>-0.10595448  </td><td>-0.1136077   </td><td>-0.10918483  </td><td>-0.05097057  </td><td>-0.13135334  </td><td>⋯            </td><td>-0.02918252  </td><td>-0.18625656  </td><td>-0.22865236  </td><td>-0.1865419798</td><td>-0.1557662   </td><td>-0.14861104  </td><td>-0.094875180 </td><td>-0.08370729  </td><td>-0.087520105 </td><td>-0.11423381  </td></tr>\n",
       "</tbody>\n",
       "</table>\n"
      ],
      "text/latex": [
       "\\begin{tabular}{r|llllllllllllllllllllllllllllllllllll}\n",
       "  & basketball & football & soccer & softball & volleyball & swimming & cheerleading & baseball & tennis & sports & ⋯ & blonde & mall & shopping & clothes & hollister & abercrombie & die & death & drunk & drugs\\\\\n",
       "\\hline\n",
       "\t1 &  0.16001227   &  0.2364174    &  0.10385512   &  0.07232021   &  0.18897158   &  0.23970234   &  0.3931445    &  0.02993479   &  0.13532387   &  0.10257837   & ⋯             &  0.06137340   &  0.60368108   &  0.79806891   &  0.5651537331 &  4.1521844    &  3.96493810   &  0.043475966  &  0.09857501   &  0.035614771  &  0.03443294  \\\\\n",
       "\t2 & -0.09195886   &  0.0652625    & -0.09932124   & -0.01739428   & -0.06219308   &  0.03339844   & -0.1101103    & -0.11487510   &  0.04062204   & -0.09899231   & ⋯             & -0.01146396   & -0.08724304   & -0.03865318   & -0.0003526292 & -0.1678300    & -0.14129577   &  0.009447317  &  0.05135888   & -0.086773220  & -0.06878491  \\\\\n",
       "\t3 &  0.52755083   &  0.4873480    &  0.29778605   &  0.37178877   &  0.37986175   &  0.29628671   &  0.3303485    &  0.35231971   &  0.14057808   &  0.32967130   & ⋯             &  0.03471458   &  0.48318495   &  0.66327838   &  0.3759725120 & -0.0553846    & -0.07417839   &  0.037989066  &  0.11972190   & -0.009688746  & -0.05973769  \\\\\n",
       "\t4 &  0.34081039   &  0.3593965    &  0.12722250   &  0.16384661   &  0.11032200   &  0.26943332   &  0.1856664    &  0.27527088   &  0.10980958   &  0.79711920   & ⋯             &  0.36134138   &  0.62256686   &  0.27101815   &  1.2306917174 &  0.1610784    &  0.26324494   &  1.712181870  &  0.93631312   &  1.897388200  &  2.73326605  \\\\\n",
       "\t5 & -0.16695523   & -0.1641499    & -0.09033520   & -0.11367669   & -0.11682181   & -0.10595448   & -0.1136077    & -0.10918483   & -0.05097057   & -0.13135334   & ⋯             & -0.02918252   & -0.18625656   & -0.22865236   & -0.1865419798 & -0.1557662    & -0.14861104   & -0.094875180  & -0.08370729   & -0.087520105  & -0.11423381  \\\\\n",
       "\\end{tabular}\n"
      ],
      "text/markdown": [
       "\n",
       "| <!--/--> | basketball | football | soccer | softball | volleyball | swimming | cheerleading | baseball | tennis | sports | ⋯ | blonde | mall | shopping | clothes | hollister | abercrombie | die | death | drunk | drugs | \n",
       "|---|---|---|---|---|\n",
       "| 1 |  0.16001227   |  0.2364174    |  0.10385512   |  0.07232021   |  0.18897158   |  0.23970234   |  0.3931445    |  0.02993479   |  0.13532387   |  0.10257837   | ⋯             |  0.06137340   |  0.60368108   |  0.79806891   |  0.5651537331 |  4.1521844    |  3.96493810   |  0.043475966  |  0.09857501   |  0.035614771  |  0.03443294   | \n",
       "| 2 | -0.09195886   |  0.0652625    | -0.09932124   | -0.01739428   | -0.06219308   |  0.03339844   | -0.1101103    | -0.11487510   |  0.04062204   | -0.09899231   | ⋯             | -0.01146396   | -0.08724304   | -0.03865318   | -0.0003526292 | -0.1678300    | -0.14129577   |  0.009447317  |  0.05135888   | -0.086773220  | -0.06878491   | \n",
       "| 3 |  0.52755083   |  0.4873480    |  0.29778605   |  0.37178877   |  0.37986175   |  0.29628671   |  0.3303485    |  0.35231971   |  0.14057808   |  0.32967130   | ⋯             |  0.03471458   |  0.48318495   |  0.66327838   |  0.3759725120 | -0.0553846    | -0.07417839   |  0.037989066  |  0.11972190   | -0.009688746  | -0.05973769   | \n",
       "| 4 |  0.34081039   |  0.3593965    |  0.12722250   |  0.16384661   |  0.11032200   |  0.26943332   |  0.1856664    |  0.27527088   |  0.10980958   |  0.79711920   | ⋯             |  0.36134138   |  0.62256686   |  0.27101815   |  1.2306917174 |  0.1610784    |  0.26324494   |  1.712181870  |  0.93631312   |  1.897388200  |  2.73326605   | \n",
       "| 5 | -0.16695523   | -0.1641499    | -0.09033520   | -0.11367669   | -0.11682181   | -0.10595448   | -0.1136077    | -0.10918483   | -0.05097057   | -0.13135334   | ⋯             | -0.02918252   | -0.18625656   | -0.22865236   | -0.1865419798 | -0.1557662    | -0.14861104   | -0.094875180  | -0.08370729   | -0.087520105  | -0.11423381   | \n",
       "\n",
       "\n"
      ],
      "text/plain": [
       "  basketball  football   soccer      softball    volleyball  swimming   \n",
       "1  0.16001227  0.2364174  0.10385512  0.07232021  0.18897158  0.23970234\n",
       "2 -0.09195886  0.0652625 -0.09932124 -0.01739428 -0.06219308  0.03339844\n",
       "3  0.52755083  0.4873480  0.29778605  0.37178877  0.37986175  0.29628671\n",
       "4  0.34081039  0.3593965  0.12722250  0.16384661  0.11032200  0.26943332\n",
       "5 -0.16695523 -0.1641499 -0.09033520 -0.11367669 -0.11682181 -0.10595448\n",
       "  cheerleading baseball    tennis      sports      ⋯ blonde      mall       \n",
       "1  0.3931445    0.02993479  0.13532387  0.10257837 ⋯  0.06137340  0.60368108\n",
       "2 -0.1101103   -0.11487510  0.04062204 -0.09899231 ⋯ -0.01146396 -0.08724304\n",
       "3  0.3303485    0.35231971  0.14057808  0.32967130 ⋯  0.03471458  0.48318495\n",
       "4  0.1856664    0.27527088  0.10980958  0.79711920 ⋯  0.36134138  0.62256686\n",
       "5 -0.1136077   -0.10918483 -0.05097057 -0.13135334 ⋯ -0.02918252 -0.18625656\n",
       "  shopping    clothes       hollister  abercrombie die          death      \n",
       "1  0.79806891  0.5651537331  4.1521844  3.96493810  0.043475966  0.09857501\n",
       "2 -0.03865318 -0.0003526292 -0.1678300 -0.14129577  0.009447317  0.05135888\n",
       "3  0.66327838  0.3759725120 -0.0553846 -0.07417839  0.037989066  0.11972190\n",
       "4  0.27101815  1.2306917174  0.1610784  0.26324494  1.712181870  0.93631312\n",
       "5 -0.22865236 -0.1865419798 -0.1557662 -0.14861104 -0.094875180 -0.08370729\n",
       "  drunk        drugs      \n",
       "1  0.035614771  0.03443294\n",
       "2 -0.086773220 -0.06878491\n",
       "3 -0.009688746 -0.05973769\n",
       "4  1.897388200  2.73326605\n",
       "5 -0.087520105 -0.11423381"
      ]
     },
     "metadata": {},
     "output_type": "display_data"
    }
   ],
   "source": [
    "teen_clusters$centers"
   ]
  },
  {
   "cell_type": "markdown",
   "metadata": {},
   "source": [
    "cluster 3: cluster of teenagers interested in sports (Athletes?)\n",
    "\n",
    "cluster 1: includes most mentions of \"cheerleading\", \"hot\" and above average \"football\" (Princesses?)"
   ]
  },
  {
   "cell_type": "markdown",
   "metadata": {},
   "source": [
    "Cluster 5 is unexceptional. Its members had lower than average levels of interest in every measured activity. It's the largest group in terms of number of members. Potential explanation: created a profile but never posted."
   ]
  },
  {
   "cell_type": "markdown",
   "metadata": {},
   "source": [
    "Cluster 1: Princesses\n",
    "\n",
    "Cluster 2: Brains\n",
    "\n",
    "Cluster 3: Criminals\n",
    "\n",
    "Cluster 4: Athletes\n",
    "\n",
    "Cluster 5: Basket Cases"
   ]
  },
  {
   "cell_type": "markdown",
   "metadata": {},
   "source": [
    "Apply the clusters to the original data:"
   ]
  },
  {
   "cell_type": "code",
   "execution_count": 45,
   "metadata": {
    "collapsed": true
   },
   "outputs": [],
   "source": [
    "teens$cluster = teen_clusters$cluster"
   ]
  },
  {
   "cell_type": "markdown",
   "metadata": {},
   "source": [
    "Examine how the cluster assignment relates to individual characteristics:"
   ]
  },
  {
   "cell_type": "code",
   "execution_count": 46,
   "metadata": {},
   "outputs": [
    {
     "data": {
      "text/html": [
       "<table>\n",
       "<thead><tr><th scope=col>cluster</th><th scope=col>gender</th><th scope=col>age</th><th scope=col>friends</th></tr></thead>\n",
       "<tbody>\n",
       "\t<tr><td>5     </td><td>M     </td><td>18.982</td><td> 7    </td></tr>\n",
       "\t<tr><td>3     </td><td>F     </td><td>18.801</td><td> 0    </td></tr>\n",
       "\t<tr><td>5     </td><td>M     </td><td>18.335</td><td>69    </td></tr>\n",
       "\t<tr><td>5     </td><td>F     </td><td>18.875</td><td> 0    </td></tr>\n",
       "\t<tr><td>4     </td><td>NA    </td><td>18.995</td><td>10    </td></tr>\n",
       "</tbody>\n",
       "</table>\n"
      ],
      "text/latex": [
       "\\begin{tabular}{r|llll}\n",
       " cluster & gender & age & friends\\\\\n",
       "\\hline\n",
       "\t 5      & M      & 18.982 &  7    \\\\\n",
       "\t 3      & F      & 18.801 &  0    \\\\\n",
       "\t 5      & M      & 18.335 & 69    \\\\\n",
       "\t 5      & F      & 18.875 &  0    \\\\\n",
       "\t 4      & NA     & 18.995 & 10    \\\\\n",
       "\\end{tabular}\n"
      ],
      "text/markdown": [
       "\n",
       "cluster | gender | age | friends | \n",
       "|---|---|---|---|---|\n",
       "| 5      | M      | 18.982 |  7     | \n",
       "| 3      | F      | 18.801 |  0     | \n",
       "| 5      | M      | 18.335 | 69     | \n",
       "| 5      | F      | 18.875 |  0     | \n",
       "| 4      | NA     | 18.995 | 10     | \n",
       "\n",
       "\n"
      ],
      "text/plain": [
       "  cluster gender age    friends\n",
       "1 5       M      18.982  7     \n",
       "2 3       F      18.801  0     \n",
       "3 5       M      18.335 69     \n",
       "4 5       F      18.875  0     \n",
       "5 4       NA     18.995 10     "
      ]
     },
     "metadata": {},
     "output_type": "display_data"
    }
   ],
   "source": [
    "teens[1:5, c('cluster', 'gender', 'age', 'friends')]"
   ]
  },
  {
   "cell_type": "markdown",
   "metadata": {},
   "source": [
    "Average age of each group:"
   ]
  },
  {
   "cell_type": "code",
   "execution_count": 47,
   "metadata": {},
   "outputs": [
    {
     "data": {
      "text/html": [
       "<table>\n",
       "<thead><tr><th scope=col>cluster</th><th scope=col>age</th></tr></thead>\n",
       "<tbody>\n",
       "\t<tr><td>1       </td><td>16.86497</td></tr>\n",
       "\t<tr><td>2       </td><td>17.39037</td></tr>\n",
       "\t<tr><td>3       </td><td>17.07656</td></tr>\n",
       "\t<tr><td>4       </td><td>17.11957</td></tr>\n",
       "\t<tr><td>5       </td><td>17.29849</td></tr>\n",
       "</tbody>\n",
       "</table>\n"
      ],
      "text/latex": [
       "\\begin{tabular}{r|ll}\n",
       " cluster & age\\\\\n",
       "\\hline\n",
       "\t 1        & 16.86497\\\\\n",
       "\t 2        & 17.39037\\\\\n",
       "\t 3        & 17.07656\\\\\n",
       "\t 4        & 17.11957\\\\\n",
       "\t 5        & 17.29849\\\\\n",
       "\\end{tabular}\n"
      ],
      "text/markdown": [
       "\n",
       "cluster | age | \n",
       "|---|---|---|---|---|\n",
       "| 1        | 16.86497 | \n",
       "| 2        | 17.39037 | \n",
       "| 3        | 17.07656 | \n",
       "| 4        | 17.11957 | \n",
       "| 5        | 17.29849 | \n",
       "\n",
       "\n"
      ],
      "text/plain": [
       "  cluster age     \n",
       "1 1       16.86497\n",
       "2 2       17.39037\n",
       "3 3       17.07656\n",
       "4 4       17.11957\n",
       "5 5       17.29849"
      ]
     },
     "metadata": {},
     "output_type": "display_data"
    }
   ],
   "source": [
    "aggregate(data = teens, age ~ cluster, mean)"
   ]
  },
  {
   "cell_type": "markdown",
   "metadata": {},
   "source": [
    "Although we didn't use gender data to create clusters, they are still predictive of gender:"
   ]
  },
  {
   "cell_type": "code",
   "execution_count": 48,
   "metadata": {},
   "outputs": [
    {
     "data": {
      "text/html": [
       "<table>\n",
       "<thead><tr><th scope=col>cluster</th><th scope=col>female</th></tr></thead>\n",
       "<tbody>\n",
       "\t<tr><td>1        </td><td>0.8381171</td></tr>\n",
       "\t<tr><td>2        </td><td>0.7250000</td></tr>\n",
       "\t<tr><td>3        </td><td>0.8378198</td></tr>\n",
       "\t<tr><td>4        </td><td>0.8027079</td></tr>\n",
       "\t<tr><td>5        </td><td>0.6994515</td></tr>\n",
       "</tbody>\n",
       "</table>\n"
      ],
      "text/latex": [
       "\\begin{tabular}{r|ll}\n",
       " cluster & female\\\\\n",
       "\\hline\n",
       "\t 1         & 0.8381171\\\\\n",
       "\t 2         & 0.7250000\\\\\n",
       "\t 3         & 0.8378198\\\\\n",
       "\t 4         & 0.8027079\\\\\n",
       "\t 5         & 0.6994515\\\\\n",
       "\\end{tabular}\n"
      ],
      "text/markdown": [
       "\n",
       "cluster | female | \n",
       "|---|---|---|---|---|\n",
       "| 1         | 0.8381171 | \n",
       "| 2         | 0.7250000 | \n",
       "| 3         | 0.8378198 | \n",
       "| 4         | 0.8027079 | \n",
       "| 5         | 0.6994515 | \n",
       "\n",
       "\n"
      ],
      "text/plain": [
       "  cluster female   \n",
       "1 1       0.8381171\n",
       "2 2       0.7250000\n",
       "3 3       0.8378198\n",
       "4 4       0.8027079\n",
       "5 5       0.6994515"
      ]
     },
     "metadata": {},
     "output_type": "display_data"
    }
   ],
   "source": [
    "aggregate(data = teens, female ~ cluster, mean)"
   ]
  },
  {
   "cell_type": "markdown",
   "metadata": {},
   "source": [
    "Predict the number of friends the users have:"
   ]
  },
  {
   "cell_type": "code",
   "execution_count": 49,
   "metadata": {},
   "outputs": [
    {
     "data": {
      "text/html": [
       "<table>\n",
       "<thead><tr><th scope=col>cluster</th><th scope=col>friends</th></tr></thead>\n",
       "<tbody>\n",
       "\t<tr><td>1       </td><td>41.43054</td></tr>\n",
       "\t<tr><td>2       </td><td>32.57333</td></tr>\n",
       "\t<tr><td>3       </td><td>37.16185</td></tr>\n",
       "\t<tr><td>4       </td><td>30.50290</td></tr>\n",
       "\t<tr><td>5       </td><td>27.70052</td></tr>\n",
       "</tbody>\n",
       "</table>\n"
      ],
      "text/latex": [
       "\\begin{tabular}{r|ll}\n",
       " cluster & friends\\\\\n",
       "\\hline\n",
       "\t 1        & 41.43054\\\\\n",
       "\t 2        & 32.57333\\\\\n",
       "\t 3        & 37.16185\\\\\n",
       "\t 4        & 30.50290\\\\\n",
       "\t 5        & 27.70052\\\\\n",
       "\\end{tabular}\n"
      ],
      "text/markdown": [
       "\n",
       "cluster | friends | \n",
       "|---|---|---|---|---|\n",
       "| 1        | 41.43054 | \n",
       "| 2        | 32.57333 | \n",
       "| 3        | 37.16185 | \n",
       "| 4        | 30.50290 | \n",
       "| 5        | 27.70052 | \n",
       "\n",
       "\n"
      ],
      "text/plain": [
       "  cluster friends \n",
       "1 1       41.43054\n",
       "2 2       32.57333\n",
       "3 3       37.16185\n",
       "4 4       30.50290\n",
       "5 5       27.70052"
      ]
     },
     "metadata": {},
     "output_type": "display_data"
    }
   ],
   "source": [
    "aggregate(data = teens, friends ~ cluster, mean)"
   ]
  },
  {
   "cell_type": "code",
   "execution_count": null,
   "metadata": {
    "collapsed": true
   },
   "outputs": [],
   "source": []
  }
 ],
 "metadata": {
  "kernelspec": {
   "display_name": "R",
   "language": "R",
   "name": "ir"
  },
  "language_info": {
   "codemirror_mode": "r",
   "file_extension": ".r",
   "mimetype": "text/x-r-source",
   "name": "R",
   "pygments_lexer": "r",
   "version": "3.4.0"
  }
 },
 "nbformat": 4,
 "nbformat_minor": 2
}
