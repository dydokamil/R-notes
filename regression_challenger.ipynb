{
 "cells": [
  {
   "cell_type": "code",
   "execution_count": 1,
   "metadata": {
    "collapsed": true
   },
   "outputs": [],
   "source": [
    "launch = read.csv('../R_projects/MLwR/Machine Learning with R (2nd Ed.)/Chapter 06/challenger.csv')"
   ]
  },
  {
   "cell_type": "code",
   "execution_count": 15,
   "metadata": {},
   "outputs": [],
   "source": [
    "reg = function(y, x) {\n",
    "    x = as.matrix(x)\n",
    "    x = cbind(Intercept = 1, x)\n",
    "    b = solve(t(x) %*% x) %*% t(x) %*% y\n",
    "    colnames(b) = 'estimate'\n",
    "    print(b)\n",
    "}"
   ]
  },
  {
   "cell_type": "code",
   "execution_count": 13,
   "metadata": {},
   "outputs": [
    {
     "name": "stdout",
     "output_type": "stream",
     "text": [
      "'data.frame':\t23 obs. of  4 variables:\n",
      " $ distress_ct         : int  0 1 0 0 0 0 0 0 1 1 ...\n",
      " $ temperature         : int  66 70 69 68 67 72 73 70 57 63 ...\n",
      " $ field_check_pressure: int  50 50 50 50 50 50 100 100 200 200 ...\n",
      " $ flight_num          : int  1 2 3 4 5 6 7 8 9 10 ...\n"
     ]
    }
   ],
   "source": [
    "str(launch)"
   ]
  },
  {
   "cell_type": "code",
   "execution_count": 16,
   "metadata": {},
   "outputs": [
    {
     "name": "stdout",
     "output_type": "stream",
     "text": [
      "               estimate\n",
      "Intercept    3.69841270\n",
      "temperature -0.04753968\n"
     ]
    }
   ],
   "source": [
    "reg(y=launch$distress_ct, x=launch[2])"
   ]
  },
  {
   "cell_type": "code",
   "execution_count": 17,
   "metadata": {},
   "outputs": [
    {
     "name": "stdout",
     "output_type": "stream",
     "text": [
      "                         estimate\n",
      "Intercept             3.527093383\n",
      "temperature          -0.051385940\n",
      "field_check_pressure  0.001757009\n",
      "flight_num            0.014292843\n"
     ]
    }
   ],
   "source": [
    "reg(y=launch$distress_ct, x=launch[2:4])"
   ]
  },
  {
   "cell_type": "code",
   "execution_count": null,
   "metadata": {
    "collapsed": true
   },
   "outputs": [],
   "source": []
  }
 ],
 "metadata": {
  "kernelspec": {
   "display_name": "R",
   "language": "R",
   "name": "ir"
  },
  "language_info": {
   "codemirror_mode": "r",
   "file_extension": ".r",
   "mimetype": "text/x-r-source",
   "name": "R",
   "pygments_lexer": "r",
   "version": "3.4.0"
  }
 },
 "nbformat": 4,
 "nbformat_minor": 2
}
